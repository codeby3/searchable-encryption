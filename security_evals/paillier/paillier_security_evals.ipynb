{
 "cells": [
  {
   "cell_type": "markdown",
   "metadata": {
    "colab_type": "text",
    "id": "view-in-github"
   },
   "source": [
    "<a href=\"https://colab.research.google.com/github/codeby3/searchable-encryption/blob/main/security_evals/paillier/paillier_security_evals.ipynb\" target=\"_parent\"><img src=\"https://colab.research.google.com/assets/colab-badge.svg\" alt=\"Open In Colab\"/></a>"
   ]
  },
  {
   "cell_type": "markdown",
   "metadata": {
    "id": "sqqU0Zj6DFkr"
   },
   "source": [
    "# Setting up"
   ]
  },
  {
   "cell_type": "code",
   "execution_count": 1,
   "metadata": {
    "colab": {
     "base_uri": "https://localhost:8080/"
    },
    "id": "8JznhqFJKPzl",
    "outputId": "67aea952-433d-4eae-c2f4-5e1229e6620f"
   },
   "outputs": [
    {
     "name": "stdout",
     "output_type": "stream",
     "text": [
      "\u001b[?25l   \u001b[90m━━━━━━━━━━━━━━━━━━━━━━━━━━━━━━━━━━━━━━━━\u001b[0m \u001b[32m0.0/77.4 kB\u001b[0m \u001b[31m?\u001b[0m eta \u001b[36m-:--:--\u001b[0m\r",
      "\u001b[2K   \u001b[90m━━━━━━━━━━━━━━━━━━━━━━━━━━━━━━━━━━━━━━━━\u001b[0m \u001b[32m77.4/77.4 kB\u001b[0m \u001b[31m4.8 MB/s\u001b[0m eta \u001b[36m0:00:00\u001b[0m\n",
      "\u001b[2K   \u001b[90m━━━━━━━━━━━━━━━━━━━━━━━━━━━━━━━━━━━━━━━━\u001b[0m \u001b[32m470.2/470.2 kB\u001b[0m \u001b[31m11.8 MB/s\u001b[0m eta \u001b[36m0:00:00\u001b[0m\n",
      "\u001b[2K   \u001b[90m━━━━━━━━━━━━━━━━━━━━━━━━━━━━━━━━━━━━━━━━\u001b[0m \u001b[32m12.9/12.9 MB\u001b[0m \u001b[31m56.5 MB/s\u001b[0m eta \u001b[36m0:00:00\u001b[0m\n",
      "\u001b[2K   \u001b[90m━━━━━━━━━━━━━━━━━━━━━━━━━━━━━━━━━━━━━━━━\u001b[0m \u001b[32m8.6/8.6 MB\u001b[0m \u001b[31m50.8 MB/s\u001b[0m eta \u001b[36m0:00:00\u001b[0m\n",
      "\u001b[2K   \u001b[90m━━━━━━━━━━━━━━━━━━━━━━━━━━━━━━━━━━━━━━━━\u001b[0m \u001b[32m53.7/53.7 kB\u001b[0m \u001b[31m3.7 MB/s\u001b[0m eta \u001b[36m0:00:00\u001b[0m\n",
      "\u001b[2K   \u001b[90m━━━━━━━━━━━━━━━━━━━━━━━━━━━━━━━━━━━━━━━━\u001b[0m \u001b[32m363.4/363.4 MB\u001b[0m \u001b[31m3.8 MB/s\u001b[0m eta \u001b[36m0:00:00\u001b[0m\n",
      "\u001b[2K   \u001b[90m━━━━━━━━━━━━━━━━━━━━━━━━━━━━━━━━━━━━━━━━\u001b[0m \u001b[32m13.8/13.8 MB\u001b[0m \u001b[31m49.7 MB/s\u001b[0m eta \u001b[36m0:00:00\u001b[0m\n",
      "\u001b[2K   \u001b[90m━━━━━━━━━━━━━━━━━━━━━━━━━━━━━━━━━━━━━━━━\u001b[0m \u001b[32m24.6/24.6 MB\u001b[0m \u001b[31m39.6 MB/s\u001b[0m eta \u001b[36m0:00:00\u001b[0m\n",
      "\u001b[2K   \u001b[90m━━━━━━━━━━━━━━━━━━━━━━━━━━━━━━━━━━━━━━━━\u001b[0m \u001b[32m883.7/883.7 kB\u001b[0m \u001b[31m25.8 MB/s\u001b[0m eta \u001b[36m0:00:00\u001b[0m\n",
      "\u001b[2K   \u001b[90m━━━━━━━━━━━━━━━━━━━━━━━━━━━━━━━━━━━━━━━━\u001b[0m \u001b[32m664.8/664.8 MB\u001b[0m \u001b[31m1.3 MB/s\u001b[0m eta \u001b[36m0:00:00\u001b[0m\n",
      "\u001b[2K   \u001b[90m━━━━━━━━━━━━━━━━━━━━━━━━━━━━━━━━━━━━━━━━\u001b[0m \u001b[32m211.5/211.5 MB\u001b[0m \u001b[31m5.7 MB/s\u001b[0m eta \u001b[36m0:00:00\u001b[0m\n",
      "\u001b[2K   \u001b[90m━━━━━━━━━━━━━━━━━━━━━━━━━━━━━━━━━━━━━━━━\u001b[0m \u001b[32m56.3/56.3 MB\u001b[0m \u001b[31m12.9 MB/s\u001b[0m eta \u001b[36m0:00:00\u001b[0m\n",
      "\u001b[2K   \u001b[90m━━━━━━━━━━━━━━━━━━━━━━━━━━━━━━━━━━━━━━━━\u001b[0m \u001b[32m127.9/127.9 MB\u001b[0m \u001b[31m7.3 MB/s\u001b[0m eta \u001b[36m0:00:00\u001b[0m\n",
      "\u001b[2K   \u001b[90m━━━━━━━━━━━━━━━━━━━━━━━━━━━━━━━━━━━━━━━━\u001b[0m \u001b[32m207.5/207.5 MB\u001b[0m \u001b[31m5.5 MB/s\u001b[0m eta \u001b[36m0:00:00\u001b[0m\n",
      "\u001b[2K   \u001b[90m━━━━━━━━━━━━━━━━━━━━━━━━━━━━━━━━━━━━━━━━\u001b[0m \u001b[32m21.1/21.1 MB\u001b[0m \u001b[31m59.3 MB/s\u001b[0m eta \u001b[36m0:00:00\u001b[0m\n",
      "\u001b[2K   \u001b[90m━━━━━━━━━━━━━━━━━━━━━━━━━━━━━━━━━━━━━━━━\u001b[0m \u001b[32m288.0/288.0 kB\u001b[0m \u001b[31m18.7 MB/s\u001b[0m eta \u001b[36m0:00:00\u001b[0m\n",
      "\u001b[?25h\u001b[31mERROR: pip's dependency resolver does not currently take into account all the packages that are installed. This behaviour is the source of the following dependency conflicts.\n",
      "sklearn-compat 0.1.3 requires scikit-learn<1.7,>=1.2, but you have scikit-learn 1.7.0 which is incompatible.\u001b[0m\u001b[31m\n",
      "\u001b[0m"
     ]
    }
   ],
   "source": [
    "!pip install -qU beir sentence-transformers scikit-learn matplotlib seaborn phe"
   ]
  },
  {
   "cell_type": "code",
   "execution_count": 2,
   "metadata": {
    "colab": {
     "base_uri": "https://localhost:8080/",
     "height": 529
    },
    "id": "qKhG30GxKlLp",
    "outputId": "fbf95195-b6b9-4a06-cf5d-323ac8f4a476"
   },
   "outputs": [
    {
     "name": "stdout",
     "output_type": "stream",
     "text": [
      "Collecting numpy==1.26.4\n",
      "  Downloading numpy-1.26.4-cp311-cp311-manylinux_2_17_x86_64.manylinux2014_x86_64.whl.metadata (61 kB)\n",
      "\u001b[2K     \u001b[90m━━━━━━━━━━━━━━━━━━━━━━━━━━━━━━━━━━━━━━━━\u001b[0m \u001b[32m61.0/61.0 kB\u001b[0m \u001b[31m73.7 MB/s\u001b[0m eta \u001b[36m0:00:00\u001b[0m\n",
      "\u001b[?25hCollecting scipy\n",
      "  Downloading scipy-1.16.0-cp311-cp311-manylinux2014_x86_64.manylinux_2_17_x86_64.whl.metadata (61 kB)\n",
      "\u001b[2K     \u001b[90m━━━━━━━━━━━━━━━━━━━━━━━━━━━━━━━━━━━━━━━━\u001b[0m \u001b[32m61.9/61.9 kB\u001b[0m \u001b[31m5.8 MB/s\u001b[0m eta \u001b[36m0:00:00\u001b[0m\n",
      "\u001b[?25hDownloading numpy-1.26.4-cp311-cp311-manylinux_2_17_x86_64.manylinux2014_x86_64.whl (18.3 MB)\n",
      "\u001b[2K   \u001b[90m━━━━━━━━━━━━━━━━━━━━━━━━━━━━━━━━━━━━━━━━\u001b[0m \u001b[32m18.3/18.3 MB\u001b[0m \u001b[31m110.1 MB/s\u001b[0m eta \u001b[36m0:00:00\u001b[0m\n",
      "\u001b[?25hDownloading scipy-1.16.0-cp311-cp311-manylinux2014_x86_64.manylinux_2_17_x86_64.whl (35.3 MB)\n",
      "\u001b[2K   \u001b[90m━━━━━━━━━━━━━━━━━━━━━━━━━━━━━━━━━━━━━━━━\u001b[0m \u001b[32m35.3/35.3 MB\u001b[0m \u001b[31m162.0 MB/s\u001b[0m eta \u001b[36m0:00:00\u001b[0m\n",
      "\u001b[?25hInstalling collected packages: numpy, scipy\n",
      "  Attempting uninstall: numpy\n",
      "    Found existing installation: numpy 2.0.2\n",
      "    Uninstalling numpy-2.0.2:\n",
      "      Successfully uninstalled numpy-2.0.2\n",
      "  Attempting uninstall: scipy\n",
      "    Found existing installation: scipy 1.15.3\n",
      "    Uninstalling scipy-1.15.3:\n",
      "      Successfully uninstalled scipy-1.15.3\n",
      "\u001b[31mERROR: pip's dependency resolver does not currently take into account all the packages that are installed. This behaviour is the source of the following dependency conflicts.\n",
      "thinc 8.3.6 requires numpy<3.0.0,>=2.0.0, but you have numpy 1.26.4 which is incompatible.\n",
      "sklearn-compat 0.1.3 requires scikit-learn<1.7,>=1.2, but you have scikit-learn 1.7.0 which is incompatible.\n",
      "plotnine 0.14.6 requires scipy<1.16.0,>=1.8.0, but you have scipy 1.16.0 which is incompatible.\u001b[0m\u001b[31m\n",
      "\u001b[0mSuccessfully installed numpy-1.26.4 scipy-1.16.0\n"
     ]
    },
    {
     "data": {
      "application/vnd.colab-display-data+json": {
       "id": "f32652ee22e840eaa8db27f272c49436",
       "pip_warning": {
        "packages": [
         "numpy"
        ]
       }
      }
     },
     "metadata": {},
     "output_type": "display_data"
    }
   ],
   "source": [
    "!pip install --force-reinstall --no-cache-dir numpy==1.26.4 scipy --upgrade"
   ]
  },
  {
   "cell_type": "code",
   "execution_count": 1,
   "metadata": {
    "colab": {
     "base_uri": "https://localhost:8080/"
    },
    "id": "OlVNT5jpLaPC",
    "outputId": "5cec52f7-6014-4efe-efcc-0b300ab8fc0b"
   },
   "outputs": [
    {
     "name": "stderr",
     "output_type": "stream",
     "text": [
      "/usr/local/lib/python3.11/dist-packages/beir/datasets/data_loader.py:8: TqdmExperimentalWarning: Using `tqdm.autonotebook.tqdm` in notebook mode. Use `tqdm.tqdm` instead to force console mode (e.g. in jupyter console)\n",
      "  from tqdm.autonotebook import tqdm\n"
     ]
    }
   ],
   "source": [
    "import os\n",
    "import time\n",
    "import numpy as np\n",
    "from beir.datasets.data_loader import GenericDataLoader\n",
    "from beir import util\n",
    "from sentence_transformers import SentenceTransformer\n",
    "import torch\n",
    "from google.colab import userdata # Keep for Colab, comment out for local .py script\n",
    "from tqdm.auto import tqdm\n",
    "import matplotlib.pyplot as plt\n",
    "import seaborn as sns\n",
    "import sys\n",
    "import pandas as pd\n",
    "import shutil\n",
    "import json\n",
    "\n",
    "# Security-specific imports\n",
    "from sklearn.metrics import roc_curve, auc, accuracy_score\n",
    "from sklearn.model_selection import train_test_split\n",
    "from sklearn.linear_model import LogisticRegression\n",
    "from scipy.spatial.distance import euclidean\n",
    "from scipy.stats import spearmanr"
   ]
  },
  {
   "cell_type": "code",
   "execution_count": 2,
   "metadata": {
    "id": "frNm0guoKq1W"
   },
   "outputs": [],
   "source": [
    "sys.path.append(os.getcwd())\n",
    "import paillier as paillier_lib"
   ]
  },
  {
   "cell_type": "code",
   "execution_count": 3,
   "metadata": {
    "id": "W0HbMYMaKvYh"
   },
   "outputs": [],
   "source": [
    "# Generate a single Paillier key for the entire pipeline\n",
    "# n_length determines key size and security (1024-bit is default, 2048+ for stronger security)\n",
    "# Paillier is very computationally intensive, so keeping it at 1024 for these tests.\n",
    "PAILLIER_KEY = paillier_lib.PaillierKey.generate_random(n_length=1024)\n",
    "PAILLIER_SCALING_FACTOR = 1000 # Factor to scale floats to integers for Paillier encryption"
   ]
  },
  {
   "cell_type": "code",
   "execution_count": 4,
   "metadata": {
    "colab": {
     "base_uri": "https://localhost:8080/",
     "height": 510,
     "referenced_widgets": [
      "63840e8d9ef443749560127c06f257aa",
      "4967dbbda14a4abd9ccb1aa4f97d88aa",
      "7aa73c96694144cca1721f9a1b56ccaa",
      "b76ec5104a614f6bbeb43cafe7992b7d",
      "06691d9b55b641a698487353f973f854",
      "8687ef123a2743029ac28f20e5e59726",
      "f0e4c9827ebd4f139797d3731a905dce",
      "80e5273eacab434ab38f62fd4b4c1f33",
      "7acb66f30bf4455fbb9aa79902b2b0c3",
      "62b73f2577b0479a8b640394b37c0975",
      "25f804ecbbe6411c8f66c14372e31088",
      "29ff5135f130486ba70ea68005de0d08",
      "bfa7a042fa294cb4ae4c0917eadecb0a",
      "7dd965cf67cc4b34aafda0fc3b4744f2",
      "49e37fd5f2b94d8ebc6e9ec02511bb6b",
      "8fe50c0c68504fde982c7e2739e66c16",
      "60847a240aec4bcc94149013875c78c2",
      "7734ef996654431ebf76a5ee3fd15da2",
      "a91be2c5efd44282b84c8610dd3f7eb3",
      "e072f80bb7ed44d58ebf044981f95ad5",
      "c95f49f025464a848a39933af0ccd578",
      "3c6c7745744649dc8cac5bc21cb48b8e",
      "b49baae75b324ae6b2e86e3c965c997c",
      "b8d51fd5f7194ff0b6439082baebda5b",
      "19e695a234e5447795c7a408cc53fc70",
      "ffc21c1037e64235b0f81377d8abdd78",
      "90ee4778ab644e48a4d6614cdde83ee2",
      "95e5d7d5af784eeab54e48f6e65f9bf4",
      "d841ca40eb104ec88818f7ffd7f706f6",
      "d25c54caf99c4d7699562c9a0078bccb",
      "d0a77dbe566d4f95b5fa1de3576e080c",
      "ff8b7d4e4fad4888957ff2da1decec6e",
      "db0da0f3f0194a12a2df864b8decb380",
      "dbf55c774de0452692fc3f965adf7b16",
      "c6de95de5fe341f79802cc116fab50d8",
      "eee8505942b94d40897af875debf0e4a",
      "6644f8dee403408bbed51069affcad11",
      "9205adc9ff7341a68dfab9bee1dfc07f",
      "82f0f6c565e940959bc007670e1c3187",
      "68c2034725784cdd98059e3ed8ce75df",
      "a2ed63c4dd6a4d1098c145f6526e150a",
      "ca54c728ed374c359e38a0f09810c6db",
      "ee313c5692154ae88217340c33b6e9b4",
      "b0cf8660e0d14835960ad7d46caa5ed7",
      "f6c61a3178264da08721185b7ab68313",
      "3991de4c927a4dfba04808432b811e32",
      "62d0c379e3c14b2092a950af7a5f0ba8",
      "ba4d577944fe4f98b5fb06cf33859f2b",
      "321c70989d62419882df7a973bd492c6",
      "9552c631903648ccbba68cdd4215c0db",
      "13974783f4e44916aade81fe976025a1",
      "0a67423d52e94de2a4d0d6019d4e48fa",
      "07c6a9fcc31145a587e0bf1d41811363",
      "ea33292c8dcd4666823cb508b40ff851",
      "2590009b6ce145368dbe65c50806935a",
      "1cb2fc4ca33f42218aaeb09f1c3ac22e",
      "8b993a0c96f44be482055e954cf6c6a1",
      "ee1c971e5b41459a8f555aad593856b0",
      "488db127c8e4453d83e3193e884e76a1",
      "a3b743ed4c384bc9bad303eb3c478ced",
      "fb0acc49244340fc8dad97eea8f89052",
      "48a4dc8243b84b7c860edbb178b18258",
      "363aa6b6a7e34810b01dd900c201bb35",
      "e00fcdec370e473cac141b6419be3e21",
      "f4d7bbec5e9f4f219946943e4657f1d0",
      "3c0185b6358b42dd9ad00e3c17f36804",
      "62d74bbec9b047338a86023fba79790c",
      "c414e3d728294b6085762253295db0ee",
      "4cf8233ed48c4268a45090dc9be46688",
      "9e5b21490f7b42f3ab47c217a328c6de",
      "8cb777f6ba1048b69d62898ccd909ccb",
      "938bb46d702f4ce8a0bb510dec66e7dc",
      "22778a69f5d74941ba3c15ffc4ae1c10",
      "c58cdb567e55432cbdadceaf318ab7b8",
      "a91fdf76fe0d4e7dbe8fcca81f5c7174",
      "bfe4adc1338a42808e61fc20aa4f612e",
      "9c1df0ff63224ade815927fba57b1cc4",
      "03e15e95bce04eb0a85ed267dbe1b1c6",
      "3ea13ef4960e426889445f1cc4c7924c",
      "87cd79dd731345cbb873ac5f105e3275",
      "27357288d8964fff9e4cce44721b4041",
      "ce02367c89834c19a4faa3590ecdef8a",
      "bbf7d72a5f6e4518b781ef99e7f6442c",
      "21f284ba862746d0b7ff919bcf1a545b",
      "b6ba52f0d5f24382a641d8b4605e0ec8",
      "fc5d6b516cf3438a88e2b0807d5b901e",
      "d3e67ebe72e84e71acc2ba14435bd278",
      "fa1a815538af4cfe977a90cce585f6d8",
      "7eb7054cc26e4629a6432f94a780a86f",
      "c8473b3cf5024f5996b79a76e04b6cb6",
      "54caf8b88d214c1f9f290ec4c86fdef3",
      "62358d97d542412e9421e9cd02b4772a",
      "18e91f8360104a1abcc385757f3b75e4",
      "e584a1f73a13419da2adc365224388f3",
      "b4c78bd995054c31b214b54b19d9cb68",
      "162812fe867f404191c36c3d9502f9f7",
      "52e7db904cf9465eb344e6371af02c90",
      "9a76dd2ae7bb410cad91f7ebc51e672c",
      "0e57cc89d40348ffadf80e150ab6e161",
      "25836fe5c7ad43f2bde9927cd901f482",
      "51200f46ebec47e3952cc3f4c31dcf98",
      "1c2d2219aac245f987d5c34e1e964ea1",
      "e63a88b5889347ca870f23952a0263da",
      "4005d219173f453fa899d98968235f00",
      "a99d3ec5696c44bfa156bfdcf512c94b",
      "8334a2d03d944bafaf4d62b2ea283e85",
      "1a93aa74762547ea9ec048497d6db10a",
      "19667cad8eb442a7a22b11a74ae9df25",
      "fca96e00abde4230b4fb56323f11edef",
      "5d8a52a36e314c94940ab79cebe751df",
      "0cf4ceeb8fda49bdbaa176e630b113e2",
      "bb785dfd2ea8406f8c49fa088f56ce66",
      "58b1519fc19d45d6a8b6b3b37dd8ece9",
      "9900c53e44ef4e229fc1a0ef7810380a",
      "645b265ed742477d95a6b96761e333c1",
      "1b78bdb32cc943bba9454c2cf1431c5a",
      "7219054b1a2c492e82333b793082d5e1",
      "d4232cc6c90844cb9d37546bb2570ff3",
      "854566edb21c40209a22004297682851",
      "832deae3bcfc495c8217f7d59bebafce",
      "49a773238fd54225a7320c201e37f59a"
     ]
    },
    "id": "qtSWR7hFKyhR",
    "outputId": "06f9f39f-66fe-44a9-d248-da8f9106d7fe"
   },
   "outputs": [
    {
     "name": "stderr",
     "output_type": "stream",
     "text": [
      "/usr/local/lib/python3.11/dist-packages/huggingface_hub/utils/_auth.py:94: UserWarning: \n",
      "The secret `HF_TOKEN` does not exist in your Colab secrets.\n",
      "To authenticate with the Hugging Face Hub, create a token in your settings tab (https://huggingface.co/settings/tokens), set it as secret in your Google Colab and restart your session.\n",
      "You will be able to reuse this secret in all of your notebooks.\n",
      "Please note that authentication is recommended but still optional to access public models or datasets.\n",
      "  warnings.warn(\n"
     ]
    },
    {
     "data": {
      "application/vnd.jupyter.widget-view+json": {
       "model_id": "63840e8d9ef443749560127c06f257aa",
       "version_major": 2,
       "version_minor": 0
      },
      "text/plain": [
       "modules.json:   0%|          | 0.00/349 [00:00<?, ?B/s]"
      ]
     },
     "metadata": {},
     "output_type": "display_data"
    },
    {
     "data": {
      "application/vnd.jupyter.widget-view+json": {
       "model_id": "29ff5135f130486ba70ea68005de0d08",
       "version_major": 2,
       "version_minor": 0
      },
      "text/plain": [
       "config_sentence_transformers.json:   0%|          | 0.00/116 [00:00<?, ?B/s]"
      ]
     },
     "metadata": {},
     "output_type": "display_data"
    },
    {
     "data": {
      "application/vnd.jupyter.widget-view+json": {
       "model_id": "b49baae75b324ae6b2e86e3c965c997c",
       "version_major": 2,
       "version_minor": 0
      },
      "text/plain": [
       "README.md: 0.00B [00:00, ?B/s]"
      ]
     },
     "metadata": {},
     "output_type": "display_data"
    },
    {
     "data": {
      "application/vnd.jupyter.widget-view+json": {
       "model_id": "dbf55c774de0452692fc3f965adf7b16",
       "version_major": 2,
       "version_minor": 0
      },
      "text/plain": [
       "sentence_bert_config.json:   0%|          | 0.00/53.0 [00:00<?, ?B/s]"
      ]
     },
     "metadata": {},
     "output_type": "display_data"
    },
    {
     "data": {
      "application/vnd.jupyter.widget-view+json": {
       "model_id": "f6c61a3178264da08721185b7ab68313",
       "version_major": 2,
       "version_minor": 0
      },
      "text/plain": [
       "config.json:   0%|          | 0.00/612 [00:00<?, ?B/s]"
      ]
     },
     "metadata": {},
     "output_type": "display_data"
    },
    {
     "data": {
      "application/vnd.jupyter.widget-view+json": {
       "model_id": "1cb2fc4ca33f42218aaeb09f1c3ac22e",
       "version_major": 2,
       "version_minor": 0
      },
      "text/plain": [
       "model.safetensors:   0%|          | 0.00/90.9M [00:00<?, ?B/s]"
      ]
     },
     "metadata": {},
     "output_type": "display_data"
    },
    {
     "data": {
      "application/vnd.jupyter.widget-view+json": {
       "model_id": "62d74bbec9b047338a86023fba79790c",
       "version_major": 2,
       "version_minor": 0
      },
      "text/plain": [
       "tokenizer_config.json:   0%|          | 0.00/350 [00:00<?, ?B/s]"
      ]
     },
     "metadata": {},
     "output_type": "display_data"
    },
    {
     "data": {
      "application/vnd.jupyter.widget-view+json": {
       "model_id": "03e15e95bce04eb0a85ed267dbe1b1c6",
       "version_major": 2,
       "version_minor": 0
      },
      "text/plain": [
       "vocab.txt: 0.00B [00:00, ?B/s]"
      ]
     },
     "metadata": {},
     "output_type": "display_data"
    },
    {
     "data": {
      "application/vnd.jupyter.widget-view+json": {
       "model_id": "7eb7054cc26e4629a6432f94a780a86f",
       "version_major": 2,
       "version_minor": 0
      },
      "text/plain": [
       "tokenizer.json: 0.00B [00:00, ?B/s]"
      ]
     },
     "metadata": {},
     "output_type": "display_data"
    },
    {
     "data": {
      "application/vnd.jupyter.widget-view+json": {
       "model_id": "25836fe5c7ad43f2bde9927cd901f482",
       "version_major": 2,
       "version_minor": 0
      },
      "text/plain": [
       "special_tokens_map.json:   0%|          | 0.00/112 [00:00<?, ?B/s]"
      ]
     },
     "metadata": {},
     "output_type": "display_data"
    },
    {
     "data": {
      "application/vnd.jupyter.widget-view+json": {
       "model_id": "0cf4ceeb8fda49bdbaa176e630b113e2",
       "version_major": 2,
       "version_minor": 0
      },
      "text/plain": [
       "config.json:   0%|          | 0.00/190 [00:00<?, ?B/s]"
      ]
     },
     "metadata": {},
     "output_type": "display_data"
    },
    {
     "name": "stdout",
     "output_type": "stream",
     "text": [
      "Model 'all-MiniLM-L6-v2' loaded successfully on cpu.\n"
     ]
    }
   ],
   "source": [
    "device = \"cuda\" if torch.cuda.is_available() else \"cpu\"\n",
    "try:\n",
    "    embedding_model = SentenceTransformer(\"all-MiniLM-L6-v2\", device=device)\n",
    "    print(f\"Model 'all-MiniLM-L6-v2' loaded successfully on {device}.\")\n",
    "except Exception as e:\n",
    "    print(f\"Failed to load embedding model on {device}: {e}\")\n",
    "    embedding_model = SentenceTransformer(\"all-MiniLM-L6-v2\", device=\"cpu\")\n",
    "    print(\"Loaded model on CPU as a fallback.\")\n",
    "DIMENSION = 384 # Dimension for all-MiniLM-L6-v2"
   ]
  },
  {
   "cell_type": "code",
   "execution_count": 5,
   "metadata": {
    "id": "3xI3tQGKL03T"
   },
   "outputs": [],
   "source": [
    "dataset_name = \"fiqa\" # Using FIQA as it's larger\n",
    "beir_data_path = \"./beir_datasets_security\" # Separate path for clarity\n",
    "os.makedirs(beir_data_path, exist_ok=True)\n",
    "loaded_beir_data = {}"
   ]
  },
  {
   "cell_type": "code",
   "execution_count": 6,
   "metadata": {
    "colab": {
     "base_uri": "https://localhost:8080/",
     "height": 185,
     "referenced_widgets": [
      "ec02f5fd9dcc4f3ba439aef62d72984a",
      "10ac962d275748e9829a3aaf786fd833",
      "abef95413b3a4702a3159a6d5e1caf34",
      "ca93cfea63624df6b3ab4e5f40167f76",
      "4756f2f5e24245bda60ae58591c5d8c8",
      "8b1d4e5a5a5640799e155f8be941fc8b",
      "00b5733a843240739cf1f0aa5549daa5",
      "64a913b50bcd4ef8b248263286bfba26",
      "053d102cfc4b40d19d36ddb551f5a402",
      "51705a53bce34b17ad8bd1626d23a2e1",
      "ff67864564f14ee890c620c4f561abc9",
      "7b1627ec0f0b4a6b904b8fc4a78c6182",
      "9f87dfb65fda49e89bd1623e515181bb",
      "4367e7e177de408e80df3ad4fe70ae0d",
      "16fd8c7be66b41c089ed6e38f60fd5d7",
      "42988cdf239644f2a809634bb465abd3",
      "96fca87304f643efbbee0b799ec3251e",
      "6b0189d2047348d696839fe000c3c41a",
      "78453e5e920f4f3ab4c51c686b6b3443",
      "3dc9cab70c6445f8b93e65c9d53dfe8b",
      "a7db299f4c834ca3b98f3e57aa1b8b76",
      "1d35a817e10f4d17912be9a71380fb0e"
     ]
    },
    "id": "TTpn_X3xL3Z5",
    "outputId": "2a9e5f90-7869-49b4-d73b-b081b8619826"
   },
   "outputs": [
    {
     "name": "stdout",
     "output_type": "stream",
     "text": [
      "\n",
      "Processing dataset: fiqa\n",
      "Downloading fiqa from https://public.ukp.informatik.tu-darmstadt.de/thakur/BEIR/datasets/fiqa.zip to ./beir_datasets_security/fiqa...\n"
     ]
    },
    {
     "data": {
      "application/vnd.jupyter.widget-view+json": {
       "model_id": "ec02f5fd9dcc4f3ba439aef62d72984a",
       "version_major": 2,
       "version_minor": 0
      },
      "text/plain": [
       "./beir_datasets_security/fiqa/fiqa.zip:   0%|          | 0.00/17.1M [00:00<?, ?iB/s]"
      ]
     },
     "metadata": {},
     "output_type": "display_data"
    },
    {
     "data": {
      "application/vnd.jupyter.widget-view+json": {
       "model_id": "7b1627ec0f0b4a6b904b8fc4a78c6182",
       "version_major": 2,
       "version_minor": 0
      },
      "text/plain": [
       "  0%|          | 0/57638 [00:00<?, ?it/s]"
      ]
     },
     "metadata": {},
     "output_type": "display_data"
    },
    {
     "name": "stdout",
     "output_type": "stream",
     "text": [
      "Successfully loaded corpus for fiqa.\n",
      "  Corpus size: 57638 documents\n",
      "  [CRITICAL DEBUG] Actual loaded corpus size for 'fiqa': 57638 documents.\n"
     ]
    }
   ],
   "source": [
    "if os.path.exists(os.path.join(beir_data_path, dataset_name)):\n",
    "    print(f\"Dataset folder '{os.path.join(beir_data_path, dataset_name)}' already exists. Deleting to ensure fresh download.\")\n",
    "    shutil.rmtree(os.path.join(beir_data_path, dataset_name))\n",
    "\n",
    "print(f\"\\nProcessing dataset: {dataset_name}\")\n",
    "url = f\"https://public.ukp.informatik.tu-darmstadt.de/thakur/BEIR/datasets/{dataset_name}.zip\"\n",
    "out_dir = os.path.join(beir_data_path, dataset_name)\n",
    "\n",
    "print(f\"Downloading {dataset_name} from {url} to {out_dir}...\")\n",
    "data_path_after_unzip = util.download_and_unzip(url, out_dir)\n",
    "\n",
    "try:\n",
    "    corpus, _, _ = GenericDataLoader(data_folder=data_path_after_unzip).load(split=\"test\")\n",
    "    loaded_beir_data[dataset_name] = {\"corpus\": corpus}\n",
    "    print(f\"Successfully loaded corpus for {dataset_name}.\")\n",
    "    print(f\"  Corpus size: {len(corpus)} documents\")\n",
    "    print(f\"  [CRITICAL DEBUG] Actual loaded corpus size for '{dataset_name}': {len(loaded_beir_data[dataset_name]['corpus'])} documents.\")\n",
    "except Exception as e:\n",
    "    raise RuntimeError(f\"Error loading {dataset_name} corpus from '{data_path_after_unzip}': {e}\")"
   ]
  },
  {
   "cell_type": "code",
   "execution_count": 7,
   "metadata": {
    "id": "o67cZcnIMAXV"
   },
   "outputs": [],
   "source": [
    "# Security Evaluation Parameters\n",
    "PAILLIER_COMMON_SAMPLE_SIZE = 500\n",
    "COMMON_SECURITY_SAMPLE_SIZE = PAILLIER_COMMON_SAMPLE_SIZE # Unified sample size for all tests\n",
    "SECURITY_M_KNOWN_DOCS = PAILLIER_COMMON_SAMPLE_SIZE # Attacker knows up to this many\n",
    "SECURITY_N_SUBSET = PAILLIER_COMMON_SAMPLE_SIZE\n",
    "SECURITY_T_TRIALS = PAILLIER_COMMON_SAMPLE_SIZE # Number of trials for NN Re-ID\n",
    "SECURITY_ATTR_INF_SIZE = PAILLIER_COMMON_SAMPLE_SIZE # Size for Attribute Inference\n",
    "SECURITY_MEM_INF_PROBES = PAILLIER_COMMON_SAMPLE_SIZE // 2 # Half for members, half for non-members\n",
    "if SECURITY_MEM_INF_PROBES < 2:\n",
    "    SECURITY_MEM_INF_PROBES = 2\n"
   ]
  },
  {
   "cell_type": "markdown",
   "metadata": {
    "id": "on_HSO1cDKFu"
   },
   "source": [
    "# Helper Functions"
   ]
  },
  {
   "cell_type": "code",
   "execution_count": 8,
   "metadata": {
    "id": "ai-6Qv4WMEzz"
   },
   "outputs": [],
   "source": [
    "# Helper function to get embeddings for security tests\n",
    "def get_embeddings_for_security_tests(dataset_name: str, num_samples: int):\n",
    "    corpus = loaded_beir_data[dataset_name][\"corpus\"]\n",
    "    doc_ids = list(corpus.keys())\n",
    "\n",
    "    print(f\"  [DEBUG] get_embeddings_for_security_tests called for '{dataset_name}':\")\n",
    "    print(f\"  [DEBUG]   Corpus has {len(doc_ids)} total documents.\")\n",
    "    print(f\"  [DEBUG]   Requested num_samples: {num_samples}\")\n",
    "\n",
    "    if num_samples < len(doc_ids):\n",
    "        sampled_doc_ids = np.random.choice(doc_ids, num_samples, replace=False)\n",
    "        print(f\"  [DEBUG]   Sampling {len(sampled_doc_ids)} documents.\")\n",
    "    else:\n",
    "        sampled_doc_ids = doc_ids # Use all if fewer samples requested than available\n",
    "        print(f\"  [DEBUG]   Using ALL {len(sampled_doc_ids)} documents (requested >= available).\")\n",
    "\n",
    "    sampled_contents = [f\"{corpus[did].get('title', '')} {corpus[did].get('text', '')}\".strip() for did in sampled_doc_ids]\n",
    "\n",
    "    # Generate plaintext embeddings (NumPy array)\n",
    "    plaintext_embeddings = embedding_model.encode(sampled_contents, convert_to_numpy=True)\n",
    "\n",
    "    # Encrypt embeddings using Paillier\n",
    "    encrypted_embeddings_paillier = []\n",
    "    for i, vec in enumerate(tqdm(plaintext_embeddings, desc=\"Encrypting embeddings\")):\n",
    "        # Paillier encryption is very slow, so tqdm is helpful here.\n",
    "        # CRITICAL: Convert numpy array to Python list before encryption\n",
    "        encrypted_result = paillier_lib.encrypt_vector(PAILLIER_KEY, vec.tolist(), PAILLIER_SCALING_FACTOR)\n",
    "        # We store the ciphertext (normalized float list) and norm_params (string)\n",
    "        encrypted_embeddings_paillier.append({\n",
    "            'ciphertext': encrypted_result.ciphertext,\n",
    "            'norm_params': encrypted_result.norm_params\n",
    "        })\n",
    "\n",
    "    print(f\"  [DEBUG]   Returning {len(plaintext_embeddings)} plaintext and {len(encrypted_embeddings_paillier)} encrypted embeddings.\")\n",
    "    # Return plaintext as numpy array, encrypted as list of dicts (ciphertext, norm_params)\n",
    "    return plaintext_embeddings, encrypted_embeddings_paillier, sampled_doc_ids"
   ]
  },
  {
   "cell_type": "code",
   "execution_count": 9,
   "metadata": {
    "id": "jZ1Ag46GMHXJ"
   },
   "outputs": [],
   "source": [
    "# --- Helper for Dot Product Calculation ---\n",
    "def calculate_dot_product(vec1_plain: np.ndarray, vec2_plain: np.ndarray):\n",
    "    \"\"\"Calculates dot product for plaintext vectors.\"\"\"\n",
    "    return np.dot(vec1_plain, vec2_plain)"
   ]
  },
  {
   "cell_type": "code",
   "execution_count": 10,
   "metadata": {
    "id": "8eyRqZZgMJPm"
   },
   "outputs": [],
   "source": [
    "def calculate_encrypted_dot_product(key: paillier_lib.PaillierKey, enc_vec1: dict, enc_vec2_plain: np.ndarray):\n",
    "    \"\"\"\n",
    "    Simulates dot product of encrypted vector with plaintext vector using Paillier homomorphic properties.\n",
    "    This is typically how search would work: encrypted database, plaintext query.\n",
    "    \"\"\"\n",
    "    # Deserialize encrypted vector 1\n",
    "    recreated_enc_vec1 = paillier_lib._deserialize_encrypted_vector(key, enc_vec1['ciphertext'], enc_vec1['norm_params'])\n",
    "\n",
    "    # Scale plaintext vector 2 for multiplication\n",
    "    scaled_vec2_plain = [int(round(x * PAILLIER_SCALING_FACTOR)) for x in enc_vec2_plain.tolist()]\n",
    "\n",
    "    # Perform homomorphic scalar multiplication and sum\n",
    "    encrypted_dot_product = paillier_lib.paillier.EncryptedNumber(key.public_key, 0) # Initialize with encrypted zero\n",
    "    for enc_val1, plain_val2 in zip(recreated_enc_vec1, scaled_vec2_plain):\n",
    "        # (enc_val1 * plain_val2) is homomorphic multiplication\n",
    "        encrypted_dot_product += (enc_val1 * plain_val2)\n",
    "\n",
    "    # Decrypt the final dot product\n",
    "    decrypted_dot_product = key.private_key.decrypt(encrypted_dot_product)\n",
    "\n",
    "    # De-scale the result (dividing by scaling factor twice because both vectors were implicitly scaled)\n",
    "    return decrypted_dot_product / (PAILLIER_SCALING_FACTOR * PAILLIER_SCALING_FACTOR)"
   ]
  },
  {
   "cell_type": "markdown",
   "metadata": {
    "id": "8ZIGdWH_DNCm"
   },
   "source": [
    "# Testing Functions"
   ]
  },
  {
   "cell_type": "code",
   "execution_count": 11,
   "metadata": {
    "id": "hY2qf3sJMLL5"
   },
   "outputs": [],
   "source": [
    "def calculate_distance_matrix_paillier(vectors, key: paillier_lib.PaillierKey, metric='negative_dot_product', desc=\"Calculating Distances\"): # ADDED 'desc' parameter\n",
    "     \"\"\"\n",
    "     Calculates similarity/distance matrix for Paillier.\n",
    "     'vectors' is a list of (plaintext_vector, encrypted_vector_dict) tuples.\n",
    "     Metric should be 'negative_dot_product' for encrypted comparisons.\n",
    "     \"\"\"\n",
    "     n = len(vectors)\n",
    "     matrix = np.zeros((n, n))\n",
    "     for i in tqdm(range(n), desc=desc): # Use the passed 'desc'\n",
    "         for j in range(i + 1, n):\n",
    "             plain_vec_i, enc_vec_i_dict = vectors[i]\n",
    "             plain_vec_j, enc_vec_j_dict = vectors[j]\n",
    "\n",
    "             if metric == 'euclidean':\n",
    "                 val = euclidean(plain_vec_i, plain_vec_j)\n",
    "             elif metric == 'cosine':\n",
    "                 val = 1 - np.dot(plain_vec_i, plain_vec_j) / (np.linalg.norm(plain_vec_i) * np.linalg.norm(plain_vec_j))\n",
    "             elif metric == 'dot_product':\n",
    "                 val = np.dot(plain_vec_i, plain_vec_j)\n",
    "             elif metric == 'negative_dot_product':\n",
    "                 val = -calculate_encrypted_dot_product(key, enc_vec_i_dict, plain_vec_j)\n",
    "             else:\n",
    "                 raise ValueError(\"Metric must be 'euclidean', 'cosine', 'dot_product', or 'negative_dot_product'\")\n",
    "             matrix[i, j] = matrix[j, i] = val\n",
    "     return matrix"
   ]
  },
  {
   "cell_type": "code",
   "execution_count": 12,
   "metadata": {
    "id": "8FeGzSsZMO_1"
   },
   "outputs": [],
   "source": [
    "def run_distance_structure_leakage(plaintext_paired_with_enc, key: paillier_lib.PaillierKey, metric='negative_dot_product'):\n",
    "     \"\"\"\n",
    "     Calculates Spearman rank-correlation (rho) for similarity/distance matrices.\n",
    "     Lower rho indicates more privacy.\n",
    "     \"\"\"\n",
    "     if len(plaintext_paired_with_enc) < 2:\n",
    "         print(\"Not enough samples for Distance-Structure Leakage.\")\n",
    "         return None\n",
    "\n",
    "     print(\"  Calculating plaintext similarity matrix...\")\n",
    "     plain_embeds_only = [p for p, _ in plaintext_paired_with_enc]\n",
    "     plain_sim_matrix = calculate_distance_matrix_paillier(\n",
    "         [(p, None) for p in plain_embeds_only],\n",
    "         key,\n",
    "         metric='dot_product',\n",
    "         desc=\"Plaintext Distances\" # Add desc for tqdm\n",
    "     )\n",
    "\n",
    "     print(\"  Calculating encrypted similarity matrix...\")\n",
    "     enc_sim_matrix = calculate_distance_matrix_paillier(\n",
    "         plaintext_paired_with_enc,\n",
    "         key,\n",
    "         metric=metric,\n",
    "         desc=\"Encrypted Distances\" # Add desc for tqdm\n",
    "     )\n",
    "\n",
    "     n_samples = len(plain_sim_matrix)\n",
    "     upper_triangle_indices = np.triu_indices(n_samples, k=1)\n",
    "     plain_similarities = plain_sim_matrix[upper_triangle_indices]\n",
    "     enc_similarities = enc_sim_matrix[upper_triangle_indices]\n",
    "\n",
    "     if np.std(plain_similarities) == 0 or np.std(enc_similarities) == 0:\n",
    "         if np.all(plain_similarities == enc_similarities):\n",
    "             return 1.0\n",
    "         else:\n",
    "             return 0.0\n",
    "\n",
    "     rho, _ = spearmanr(plain_similarities, enc_similarities)\n",
    "     return rho"
   ]
  },
  {
   "cell_type": "code",
   "execution_count": 13,
   "metadata": {
    "id": "uRpVP7CQMSDJ"
   },
   "outputs": [],
   "source": [
    "def run_nn_re_identification_attack(corpus_plaintext_embeddings, corpus_encrypted_embeddings, attacker_known_size=SECURITY_M_KNOWN_DOCS, num_trials=SECURITY_T_TRIALS, metric='cosine'):\n",
    "    \"\"\"\n",
    "    Simulates an NN re-identification attack.\n",
    "    Attacker knows M encrypted docs. Probes an insider or outsider.\n",
    "    Values near 1/M indicate strong privacy.\n",
    "    \"\"\"\n",
    "    total_corpus_size = len(corpus_plaintext_embeddings)\n",
    "\n",
    "    # If attacker_known_size is larger than corpus, reduce it\n",
    "    if attacker_known_size > total_corpus_size:\n",
    "        attacker_known_size = total_corpus_size // 2 # Use at most half for known if corpus is small\n",
    "        print(f\"Warning: attacker_known_size reduced to {attacker_known_size} due to corpus size.\")\n",
    "\n",
    "    # Ensure num_trials is not excessive. We need num_trials/2 insiders and num_trials/2 outsiders.\n",
    "    # Outsiders must be distinct from known_indices.\n",
    "    max_possible_insider_probes = attacker_known_size\n",
    "    max_possible_outsider_probes = total_corpus_size - attacker_known_size\n",
    "\n",
    "    num_insider_probes_to_attempt = num_trials // 2\n",
    "    num_outsider_probes_to_attempt = num_trials - num_insider_probes_to_attempt # Handles odd num_trials\n",
    "\n",
    "    if num_insider_probes_to_attempt > max_possible_insider_probes:\n",
    "        num_insider_probes_to_attempt = max_possible_insider_probes\n",
    "        print(f\"Warning: Number of insider probes reduced to {num_insider_probes_to_attempt} due to attacker_known_size.\")\n",
    "\n",
    "    if num_outsider_probes_to_attempt > max_possible_outsider_probes:\n",
    "        num_outsider_probes_to_attempt = max_possible_outsider_probes\n",
    "        print(f\"Warning: Number of outsider probes reduced to {num_outsider_probes_to_attempt} due to corpus size.\")\n",
    "\n",
    "    actual_num_trials = num_insider_probes_to_attempt + num_outsider_probes_to_attempt\n",
    "    if actual_num_trials == 0 or num_insider_probes_to_attempt == 0:\n",
    "        print(\"Warning: Cannot perform NN Re-ID attack - not enough valid trials/insider probes can be generated.\")\n",
    "        return {\"Hit@1\": None, \"Hit@5\": None, \"random_baseline\": 1/attacker_known_size if attacker_known_size > 0 else 0}\n",
    "\n",
    "    print(f\"  Running NN Re-ID with attacker_known_size={attacker_known_size}, actual_num_trials={actual_num_trials} ({num_insider_probes_to_attempt} insiders, {num_outsider_probes_to_attempt} outsiders).\")\n",
    "\n",
    "\n",
    "    # Simulate attacker's prior knowledge: M encrypted documents\n",
    "    # Simulate attacker's prior knowledge: M encrypted documents\n",
    "    all_corpus_indices = np.arange(total_corpus_size)\n",
    "    # Ensure attacker_known_size does not exceed total_corpus_size\n",
    "    attacker_known_size = min(attacker_known_size, total_corpus_size)\n",
    "\n",
    "    known_indices = np.random.choice(all_corpus_indices, attacker_known_size, replace=False)\n",
    "    known_plaintext_embeds = corpus_plaintext_embeddings[known_indices]\n",
    "    known_encrypted_embeds = np.array(corpus_encrypted_embeddings, dtype=object)[known_indices] # Ensure Paillier type\n",
    "\n",
    "    # Pool for outsider probes\n",
    "    outsider_pool_indices = np.setdiff1d(all_corpus_indices, known_indices)\n",
    "\n",
    "    # Determine the actual number of insider/outsider probes we can attempt\n",
    "    actual_insider_probes_count = min(num_trials // 2, attacker_known_size)\n",
    "    actual_outsider_probes_count = min(num_trials // 2, len(outsider_pool_indices))\n",
    "\n",
    "    # Total trials will be the sum of what we can actually run\n",
    "    actual_num_trials = actual_insider_probes_count + actual_outsider_probes_count\n",
    "\n",
    "    if actual_num_trials == 0 or actual_insider_probes_count == 0:\n",
    "        print(\"Warning: Cannot perform NN Re-ID attack - not enough valid trials/insider probes can be generated.\")\n",
    "        return {\"Hit@1\": None, \"Hit@5\": None, \"random_baseline\": 1/attacker_known_size if attacker_known_size > 0 else 0}\n",
    "\n",
    "    print(f\"  Running NN Re-ID with attacker_known_size={attacker_known_size}, actual_num_trials={actual_num_trials} ({actual_insider_probes_count} insiders, {actual_outsider_probes_count} outsiders).\")\n",
    "\n",
    "    hits_at_1 = 0\n",
    "    hits_at_5 = 0\n",
    "    total_successful_insider_probes = 0\n",
    "\n",
    "    # Generate a mixed list of probe types based on actual counts\n",
    "    probe_types = [True] * actual_insider_probes_count + [False] * actual_outsider_probes_count\n",
    "    np.random.shuffle(probe_types)\n",
    "\n",
    "    # Keep track of indices already used for probes to avoid duplicates\n",
    "    # Use lists to store available indices, and pop from them\n",
    "    available_known_indices_for_probes = list(known_indices)\n",
    "    available_outsider_indices_for_probes = list(outsider_pool_indices)\n",
    "    np.random.shuffle(available_known_indices_for_probes)\n",
    "    np.random.shuffle(available_outsider_indices_for_probes)\n",
    "\n",
    "\n",
    "    for is_insider_trial in tqdm(probe_types, desc=\"NN Re-ID Attack Trials\"):\n",
    "        probe_original_idx = None\n",
    "        probe_plaintext_vec = None\n",
    "        true_known_idx_in_subset = -1\n",
    "\n",
    "        if is_insider_trial:\n",
    "            if not available_known_indices_for_probes:\n",
    "                continue # No more unique insider probes available\n",
    "\n",
    "            probe_original_idx = available_known_indices_for_probes.pop() # Get a unique known index\n",
    "            probe_plaintext_vec = corpus_plaintext_embeddings[probe_original_idx]\n",
    "            true_known_idx_in_subset = np.where(known_indices == probe_original_idx)[0][0]\n",
    "            total_successful_insider_probes += 1\n",
    "        else: # Outsider trial\n",
    "            if not available_outsider_indices_for_probes:\n",
    "                continue # No more unique outsider probes available\n",
    "\n",
    "            probe_original_idx = available_outsider_indices_for_probes.pop() # Get a unique outsider index\n",
    "            probe_plaintext_vec = corpus_plaintext_embeddings[probe_original_idx]\n",
    "\n",
    "        # If probe_plaintext_vec is None, it means we ran out of available probes of a certain type\n",
    "        if probe_plaintext_vec is None:\n",
    "            continue\n",
    "\n",
    "        # Re-encrypt the probe with a fresh IV/key (simulating a query)\n",
    "        probe_encrypted_fresh_iv_dict = paillier_lib.encrypt_vector(PAILLIER_KEY, probe_plaintext_vec.tolist(), PAILLIER_SCALING_FACTOR)\n",
    "\n",
    "        # Compute distances (negative dot product) to all known encrypted documents\n",
    "        similarities = []\n",
    "        for i in range(len(known_encrypted_embeds)):\n",
    "            # known_encrypted_embeds[i] is already a dict {'ciphertext': ..., 'norm_params': ...}\n",
    "            sim = calculate_encrypted_dot_product(PAILLIER_KEY, known_encrypted_embeds[i], probe_plaintext_vec)\n",
    "            similarities.append(sim)\n",
    "\n",
    "        # For ranking, higher similarity is better.\n",
    "        # Rank of the true insider in the sorted similarities (descending)\n",
    "        if is_insider_trial:\n",
    "            if true_known_idx_in_subset < 0 or true_known_idx_in_subset >= len(similarities):\n",
    "                continue # Safety check\n",
    "\n",
    "            true_sim = similarities[true_known_idx_in_subset]\n",
    "\n",
    "            # Count how many similarities are greater than or equal to the true similarity\n",
    "            # This gives its rank (1-based), assuming higher similarity is better (which it is for dot product)\n",
    "            rank_star = np.sum(np.array(similarities) >= true_sim)\n",
    "\n",
    "            if rank_star == 1:\n",
    "                hits_at_1 += 1\n",
    "            if rank_star <= 5:\n",
    "                hits_at_5 += 1\n",
    "\n",
    "    if total_successful_insider_probes == 0:\n",
    "        print(\"Warning: No valid insider probes were successfully executed for NN Re-ID attack to calculate hits.\")\n",
    "        return {\"Hit@1\": 0.0, \"Hit@5\": 0.0, \"random_baseline\": 1/attacker_known_size if attacker_known_size > 0 else 0}\n",
    "\n",
    "    hit_1 = hits_at_1 / total_successful_insider_probes\n",
    "    hit_5 = hits_at_5 / total_successful_insider_probes\n",
    "    random_baseline = 1 / attacker_known_size if attacker_known_size > 0 else 0\n",
    "\n",
    "    return {\"Hit@1\": hit_1, \"Hit@5\": hit_5, \"random_baseline\": random_baseline}"
   ]
  },
  {
   "cell_type": "code",
   "execution_count": 14,
   "metadata": {
    "id": "CJRBR9M_MUsJ"
   },
   "outputs": [],
   "source": [
    "def run_attribute_inference(embeddings_paired_with_enc, labels, test_size=0.1, random_state=42):\n",
    "    \"\"\"\n",
    "    Trains a logistic regression model on vectors to predict attributes.\n",
    "    Higher accuracy indicates more semantic leakage.\n",
    "    For Paillier, we use the plaintext embeddings for the 'plaintext' accuracy\n",
    "    and the normalized ciphertext (float list) for the 'encrypted' accuracy.\n",
    "    \"\"\"\n",
    "    if len(embeddings_paired_with_enc) < 100 or len(np.unique(labels)) < 2:\n",
    "        print(\"Not enough samples or unique labels for Attribute Inference.\")\n",
    "        return None\n",
    "\n",
    "    plain_X = np.array([p for p, _ in embeddings_paired_with_enc])\n",
    "    enc_X = np.array([e['ciphertext'] for _, e in embeddings_paired_with_enc])\n",
    "    y = labels\n",
    "\n",
    "    plain_acc = None\n",
    "    enc_acc = None\n",
    "\n",
    "    # Plaintext Accuracy\n",
    "    print(\"  Training Plaintext Logistic Regression...\")\n",
    "    try:\n",
    "        X_train_plain, X_test_plain, y_train, y_test = train_test_split(plain_X, y, test_size=test_size, random_state=random_state, stratify=y)\n",
    "        model_plain = LogisticRegression(max_iter=1000, solver='liblinear', random_state=random_state)\n",
    "        model_plain.fit(X_train_plain, y_train)\n",
    "        y_pred_plain = model_plain.predict(X_test_plain)\n",
    "        plain_acc = accuracy_score(y_test, y_pred_plain)\n",
    "        print(\"  Plaintext Logistic Regression training complete.\")\n",
    "    except Exception as e:\n",
    "        print(f\"Error in Plaintext Attribute Inference training/prediction: {e}\")\n",
    "\n",
    "    # Encrypted Accuracy (using normalized ciphertext floats)\n",
    "    print(\"  Training Encrypted Logistic Regression...\")\n",
    "    try:\n",
    "        X_train_enc, X_test_enc, y_train_enc, y_test_enc = train_test_split(enc_X, y, test_size=test_size, random_state=random_state, stratify=y)\n",
    "        model_enc = LogisticRegression(max_iter=1000, solver='liblinear', random_state=random_state)\n",
    "        model_enc.fit(X_train_enc, y_train_enc)\n",
    "        y_pred_enc = model_enc.predict(X_test_enc)\n",
    "        enc_acc = accuracy_score(y_test_enc, y_pred_enc)\n",
    "        print(\"  Encrypted Logistic Regression training complete.\")\n",
    "    except Exception as e:\n",
    "        print(f\"Error in Encrypted Attribute Inference training/prediction: {e}\")\n",
    "\n",
    "    return plain_acc, enc_acc"
   ]
  },
  {
   "cell_type": "code",
   "execution_count": 15,
   "metadata": {
    "id": "3TQMDna2MWT5"
   },
   "outputs": [],
   "source": [
    "def run_membership_inference(corpus_plaintext_embeddings, corpus_encrypted_embeddings, key: paillier_lib.PaillierKey, num_probes=SECURITY_MEM_INF_PROBES, metric='negative_dot_product'):\n",
    "    \"\"\"\n",
    "    Tests membership inference via minimum distance (or max similarity).\n",
    "    AUC near 0.5 indicates no advantage over chance.\n",
    "    \"\"\"\n",
    "    total_corpus_size = len(corpus_plaintext_embeddings)\n",
    "    if total_corpus_size < num_probes * 2:\n",
    "        print(f\"Warning: Not enough documents for Membership Inference. Need at least {num_probes*2}. Skipping.\")\n",
    "        return None\n",
    "\n",
    "    indices = np.arange(total_corpus_size)\n",
    "    actual_num_probes = num_probes\n",
    "\n",
    "    if total_corpus_size < actual_num_probes * 2:\n",
    "        actual_num_probes = total_corpus_size // 2\n",
    "        print(f\"Warning: Corpus size ({total_corpus_size}) is too small for {num_probes} members and {num_probes} non-members. Reducing probe count to {actual_num_probes}.\")\n",
    "\n",
    "    member_indices = np.random.choice(indices, actual_num_probes, replace=False)\n",
    "    non_member_indices = np.setdiff1d(indices, member_indices)\n",
    "    non_member_indices = np.random.choice(non_member_indices, actual_num_probes, replace=False)\n",
    "\n",
    "    member_probes_plaintext = corpus_plaintext_embeddings[member_indices]\n",
    "    non_member_probes_plaintext = corpus_plaintext_embeddings[non_member_indices]\n",
    "\n",
    "    all_probes_plaintext = np.concatenate((member_probes_plaintext, non_member_probes_plaintext))\n",
    "    true_labels = np.array([1]*actual_num_probes + [0]*actual_num_probes)\n",
    "\n",
    "    max_similarities = []\n",
    "\n",
    "    for q_plain in tqdm(all_probes_plaintext, desc=\"Membership Inference Searches\"):\n",
    "         similarities_to_corpus = []\n",
    "         for z_i_encrypted_dict in corpus_encrypted_embeddings:\n",
    "             sim = calculate_encrypted_dot_product(key, z_i_encrypted_dict, q_plain)\n",
    "             similarities_to_corpus.append(sim)\n",
    "\n",
    "         if not similarities_to_corpus:\n",
    "             max_similarities.append(0.0)\n",
    "         else:\n",
    "             max_similarities.append(np.max(similarities_to_corpus))\n",
    "    scores = np.array(max_similarities)\n",
    "\n",
    "    if len(np.unique(true_labels)) < 2:\n",
    "        print(\"Not enough unique labels for ROC AUC calculation.\")\n",
    "        return None\n",
    "\n",
    "    fpr, tpr, _ = roc_curve(true_labels, scores)\n",
    "    roc_auc = auc(fpr, tpr)\n",
    "    return roc_auc"
   ]
  },
  {
   "cell_type": "code",
   "execution_count": 16,
   "metadata": {
    "id": "KZsxANXnMX1J"
   },
   "outputs": [],
   "source": [
    "def run_absolute_distance_distortion(plaintext_paired_with_enc, key: paillier_lib.PaillierKey, metric='negative_dot_product'):\n",
    "    \"\"\"\n",
    "    Calculates the mean absolute similarity distortion.\n",
    "    Larger Delta indicates stronger obfuscation.\n",
    "    \"\"\"\n",
    "    if len(plaintext_paired_with_enc) < 2:\n",
    "        print(\"Not enough samples for Absolute Distance Distortion.\")\n",
    "        return None\n",
    "\n",
    "    # Calculate plaintext dot product matrix for correlation\n",
    "    print(\"  Calculating plaintext similarity matrix for distortion...\")\n",
    "    plain_embeds_only = [p for p, _ in plaintext_paired_with_enc]\n",
    "    plain_sim_matrix = calculate_distance_matrix_paillier(\n",
    "        [(p, None) for p in plain_embeds_only],\n",
    "        key,\n",
    "        metric='dot_product',\n",
    "        desc=\"Plain Distortions\" # Add desc for tqdm\n",
    "    )\n",
    "\n",
    "    print(\"  Calculating encrypted similarity matrix for distortion...\")\n",
    "    enc_sim_matrix = calculate_distance_matrix_paillier(\n",
    "        plaintext_paired_with_enc,\n",
    "        key,\n",
    "        metric=metric,\n",
    "        desc=\"Encrypted Distortions\" # Add desc for tqdm\n",
    "    )\n",
    "\n",
    "    n_samples = len(plain_sim_matrix)\n",
    "    upper_triangle_indices = np.triu_indices(n_samples, k=1)\n",
    "    plain_similarities = plain_sim_matrix[upper_triangle_indices]\n",
    "    enc_similarities = enc_sim_matrix[upper_triangle_indices]\n",
    "\n",
    "    distortions = []\n",
    "    for p_sim, e_sim in zip(plain_similarities, enc_similarities):\n",
    "        # We are comparing dot products.\n",
    "        # Delta = |Plain_Sim - Enc_Sim| / |Plain_Sim|\n",
    "        if p_sim == 0: # Avoid division by zero if plaintext similarity is zero\n",
    "            continue\n",
    "        delta_ij = np.abs(p_sim - e_sim) / np.abs(p_sim) # Use absolute value for relative change\n",
    "        distortions.append(delta_ij)\n",
    "\n",
    "    if not distortions:\n",
    "        return 0.0\n",
    "\n",
    "    return np.mean(distortions)"
   ]
  },
  {
   "cell_type": "markdown",
   "metadata": {
    "id": "_UMgCwr7DQ-0"
   },
   "source": [
    "# Getting embeddings with Paillier Encryption"
   ]
  },
  {
   "cell_type": "code",
   "execution_count": 17,
   "metadata": {
    "id": "CkcxDKLlMpE9"
   },
   "outputs": [],
   "source": [
    "security_results = {}\n",
    "\n",
    "dataset_for_security = \"fiqa\""
   ]
  },
  {
   "cell_type": "code",
   "execution_count": null,
   "metadata": {
    "colab": {
     "base_uri": "https://localhost:8080/",
     "height": 136,
     "referenced_widgets": [
      "f83fe0e905fd4bcab8af97ea6216280a",
      "e0b6c390991147e5ad8a2ca2a4868c58",
      "ac1f1af322cc4208af10434a93997d4a",
      "37f4c6cf226646bdbab828b3702499e7",
      "26b8e7cf8cfe465ca28d7dfd0fe05f3c",
      "10eda58f7c06443882c28035e218d1d4",
      "64369176157c4b3d88844d62b862e515",
      "46a94a7285bd44a3b55bd3acc8797541",
      "8f6d18d0b1724816b9342d9743703c0b",
      "e8ed56b18310432382dc735ea323d011",
      "e4e4b6a66a504bc8884f7f3f08ec705d"
     ]
    },
    "id": "-Wf5_YTaPply",
    "outputId": "6cb5d7aa-139e-4da5-91b7-21f875bb2278"
   },
   "outputs": [
    {
     "name": "stdout",
     "output_type": "stream",
     "text": [
      "  [DEBUG] get_embeddings_for_security_tests called for 'fiqa':\n",
      "  [DEBUG]   Corpus has 57638 total documents.\n",
      "  [DEBUG]   Requested num_samples: 1000\n",
      "  [DEBUG]   Sampling 1000 documents.\n"
     ]
    },
    {
     "data": {
      "application/vnd.jupyter.widget-view+json": {
       "model_id": "f83fe0e905fd4bcab8af97ea6216280a",
       "version_major": 2,
       "version_minor": 0
      },
      "text/plain": [
       "Encrypting embeddings:   0%|          | 0/1000 [00:00<?, ?it/s]"
      ]
     },
     "metadata": {},
     "output_type": "display_data"
    },
    {
     "name": "stdout",
     "output_type": "stream",
     "text": [
      "  [DEBUG]   Returning 1000 plaintext and 1000 encrypted embeddings.\n"
     ]
    }
   ],
   "source": [
    "corpus_plain_embeds, corpus_enc_embeds_paillier, _ = get_embeddings_for_security_tests(\n",
    "    dataset_for_security, COMMON_SECURITY_SAMPLE_SIZE\n",
    ")\n",
    "\n",
    "# Pair them up for functions that need both for comparison\n",
    "corpus_paired_embeds = list(zip(corpus_plain_embeds, corpus_enc_embeds_paillier))"
   ]
  },
  {
   "cell_type": "code",
   "execution_count": null,
   "metadata": {
    "colab": {
     "base_uri": "https://localhost:8080/"
    },
    "id": "P7iIGlVtQ09F",
    "outputId": "3fecb5a3-424f-4a1e-c1ec-5ec455e6b2ea"
   },
   "outputs": [
    {
     "name": "stdout",
     "output_type": "stream",
     "text": [
      "\n",
      "--- Saving Embeddings to ./saved_security_eval_data ---\n",
      "Error saving embeddings: name 'corpus_plain_embeds' is not defined\n"
     ]
    }
   ],
   "source": [
    "save_dir = \"./saved_security_eval_data\"\n",
    "os.makedirs(save_dir, exist_ok=True)\n",
    "\n",
    "plain_embeds_filename = os.path.join(save_dir, \"paillier_plain_embeds.npy\")\n",
    "enc_embeds_filename = os.path.join(save_dir, \"paillier_enc_embeds.pkl\") # .pkl for list of dicts\n",
    "\n",
    "print(f\"\\n--- Saving Embeddings to {save_dir} ---\")\n",
    "\n",
    "try:\n",
    "    # Save plaintext embeddings (NumPy array)\n",
    "    np.save(plain_embeds_filename, corpus_plain_embeds)\n",
    "    print(f\"Plaintext embeddings saved to {plain_embeds_filename}\")\n",
    "\n",
    "    # Save encrypted embeddings (list of lists/dicts) using pickle\n",
    "    import pickle\n",
    "    with open(enc_embeds_filename, 'wb') as f: pickle.dump(corpus_enc_embeds_paillier, f)\n",
    "    print(f\"Encrypted embeddings saved to {enc_embeds_filename}\")\n",
    "\n",
    "except Exception as e:\n",
    "    print(f\"Error saving embeddings: {e}\")"
   ]
  },
  {
   "cell_type": "markdown",
   "metadata": {
    "id": "mZPLCZVJPmIL"
   },
   "source": [
    "## Load embeddings locally"
   ]
  },
  {
   "cell_type": "code",
   "execution_count": 18,
   "metadata": {
    "colab": {
     "base_uri": "https://localhost:8080/"
    },
    "id": "XLa47wdlPk_C",
    "outputId": "06b278ec-1d53-442f-8fd7-cc9140a3d367"
   },
   "outputs": [
    {
     "name": "stdout",
     "output_type": "stream",
     "text": [
      "\n",
      "--- Loading Embeddings from ./saved_security_eval_data ---\n",
      "Plaintext embeddings loaded from ./saved_security_eval_data/paillier_plain_embeds.npy (Shape: (1000, 384))\n",
      "Encrypted embeddings loaded from ./saved_security_eval_data/paillier_enc_embeds.pkl (Count: 1000)\n",
      "Original loaded count: 1000 embeddings.\n",
      "Sampling down to 500 embeddings as requested...\n",
      "New plaintext embedding shape: (500, 384)\n",
      "New encrypted embedding count: 500\n",
      "\n",
      "'corpus_paired_embeds' recreated with 500 pairs.\n"
     ]
    }
   ],
   "source": [
    "# Define the directory where files were saved\n",
    "load_dir = \"./saved_security_eval_data\"\n",
    "\n",
    "plain_embeds_filename = os.path.join(load_dir, \"paillier_plain_embeds.npy\")\n",
    "enc_embeds_filename = os.path.join(load_dir, \"paillier_enc_embeds.pkl\")\n",
    "\n",
    "print(f\"\\n--- Loading Embeddings from {load_dir} ---\")\n",
    "\n",
    "try:\n",
    "    # Load plaintext embeddings\n",
    "    corpus_plain_embeds = np.load(plain_embeds_filename)\n",
    "    print(f\"Plaintext embeddings loaded from {plain_embeds_filename} (Shape: {corpus_plain_embeds.shape})\")\n",
    "\n",
    "    # Load encrypted embeddings\n",
    "    import pickle\n",
    "    with open(enc_embeds_filename, 'rb') as f:\n",
    "        corpus_enc_embeds_paillier = pickle.load(f)\n",
    "    print(f\"Encrypted embeddings loaded from {enc_embeds_filename} (Count: {len(corpus_enc_embeds_paillier)})\")\n",
    "\n",
    "    total_loaded_count = len(corpus_plain_embeds)\n",
    "    print(f\"Original loaded count: {total_loaded_count} embeddings.\")\n",
    "\n",
    "    # Check if we need to sample down\n",
    "    if total_loaded_count > PAILLIER_COMMON_SAMPLE_SIZE:\n",
    "        print(f\"Sampling down to {PAILLIER_COMMON_SAMPLE_SIZE} embeddings as requested...\")\n",
    "\n",
    "        # Generate random indices to select\n",
    "        # Use replace=False to ensure we get unique embeddings\n",
    "        sample_indices = np.random.choice(total_loaded_count, PAILLIER_COMMON_SAMPLE_SIZE, replace=False)\n",
    "\n",
    "        # Sample both the plaintext and encrypted embeddings using the same indices\n",
    "        corpus_plain_embeds = corpus_plain_embeds[sample_indices]\n",
    "        corpus_enc_embeds_paillier = [corpus_enc_embeds_paillier[i] for i in sample_indices]\n",
    "\n",
    "        print(f\"New plaintext embedding shape: {corpus_plain_embeds.shape}\")\n",
    "        print(f\"New encrypted embedding count: {len(corpus_enc_embeds_paillier)}\")\n",
    "    else:\n",
    "        print(\"Loaded count is less than or equal to the sample size. Using all loaded embeddings.\")\n",
    "\n",
    "    # Recreate the paired list with the (potentially smaller) sampled data\n",
    "    corpus_paired_embeds = list(zip(corpus_plain_embeds, corpus_enc_embeds_paillier))\n",
    "    print(f\"\\n'corpus_paired_embeds' recreated with {len(corpus_paired_embeds)} pairs.\")\n",
    "\n",
    "\n",
    "except FileNotFoundError:\n",
    "    print(f\"Error: Embeddings files not found in {load_dir}. Please ensure they were saved correctly.\")\n",
    "    print(\"You might need to run the embedding generation part of the pipeline first.\")\n",
    "    exit()\n",
    "except Exception as e:\n",
    "    print(f\"Error loading and sampling embeddings: {e}\")\n",
    "    exit()"
   ]
  },
  {
   "cell_type": "code",
   "execution_count": 19,
   "metadata": {
    "colab": {
     "base_uri": "https://localhost:8080/"
    },
    "id": "HoqHLaEtCoYe",
    "outputId": "06b5aef9-af2a-44fb-d5ea-157371de46f7"
   },
   "outputs": [
    {
     "name": "stdout",
     "output_type": "stream",
     "text": [
      "\n",
      "--- Loaded existing security results from ./saved_security_eval_data/paillier_security_results.json ---\n"
     ]
    }
   ],
   "source": [
    "# --- Helper function to save current security results ---\n",
    "def save_current_security_results(results_dict, filename_prefix):\n",
    "    save_dir = \"./saved_security_eval_data\"\n",
    "    os.makedirs(save_dir, exist_ok=True)\n",
    "    filename = os.path.join(save_dir, f\"{filename_prefix}_security_results.json\")\n",
    "    try:\n",
    "        with open(filename, 'w') as f:\n",
    "            json.dump(results_dict, f, indent=4)\n",
    "        print(f\"  --> Current security results saved to {filename}\")\n",
    "    except Exception as e:\n",
    "        print(f\"  --> ERROR saving current security results to {filename}: {e}\")\n",
    "\n",
    "# --- Code to Load Pre-existing Security Results (if resuming) ---\n",
    "# This block will attempt to load the 'security_results' dictionary if it exists.\n",
    "def load_existing_security_results(filename_prefix):\n",
    "    load_dir = \"./saved_security_eval_data\"\n",
    "    filename = os.path.join(load_dir, f\"{filename_prefix}_security_results.json\")\n",
    "    if os.path.exists(filename):\n",
    "        try:\n",
    "            with open(filename, 'r') as f:\n",
    "                loaded_results = json.load(f)\n",
    "            print(f\"\\n--- Loaded existing security results from {filename} ---\")\n",
    "            return loaded_results\n",
    "        except Exception as e:\n",
    "            print(f\"Error loading existing security results from {filename}: {e}\")\n",
    "            return {} # Return empty dict on error\n",
    "    return {} # Return empty dict if file not found\n",
    "\n",
    "current_results_filename_prefix = \"paillier\"\n",
    "\n",
    "# Attempt to load previous results at the start of the execution block\n",
    "security_results = load_existing_security_results(current_results_filename_prefix)"
   ]
  },
  {
   "cell_type": "markdown",
   "metadata": {
    "id": "Srl3_rOoDXY1"
   },
   "source": [
    "# Running tests"
   ]
  },
  {
   "cell_type": "code",
   "execution_count": null,
   "metadata": {
    "colab": {
     "base_uri": "https://localhost:8080/",
     "height": 255,
     "referenced_widgets": [
      "6141d37e6fa3410ea287f9837cd86269",
      "e85d3198683641bc81dfaa3252e66279",
      "fbbdf3890ce8469bbb4c10addf46f3d9",
      "0cb5e05b00104ff59188ccc7b171a941",
      "9596a732bc1b446abc0b31811581716f",
      "1eb729707ee6497fa4b553bbea923ca4",
      "62b91fe5f2aa48e2a6188b0a9f7addbb",
      "0e5c61cda3e94c61b073cc3a1d5d94cc",
      "14fb078bed764b76b3209784c3bda47b",
      "e847d12e5c0b4216bc37f0eaf44a5a44",
      "33203edadb094ff5b45ddb81593476ab",
      "17a20178fc164dbe96836f804911eea5",
      "2121c691af9c498b8c3638f206ba96eb",
      "ff0a34c857d64fb7bf971a28292f9010",
      "aa4a4d2b792a4023bda99d8c0685d510",
      "22d0ad399d2546b2addf12d267b79594",
      "2ea7a5aca4da41d28ce176afe6bc72f0",
      "409fe9241b0f48c5b277b4de89926212",
      "bef1f5cf94a84edfb73c5b4a5143037d",
      "7276779872a342b681a393dc0509e2db",
      "5da67e233f8c4962b6ad7f794fe04959",
      "6a1ed0fc1a204137b92763f39443ac8d"
     ]
    },
    "id": "ULmbWHT7MsI5",
    "outputId": "64f61289-1e14-43cb-99fa-bd798ba8d7c9"
   },
   "outputs": [
    {
     "name": "stdout",
     "output_type": "stream",
     "text": [
      "\n",
      "Running Similarity-Structure Leakage (Spearman ρ) using Dot Product...\n",
      "  Calculating plaintext similarity matrix...\n"
     ]
    },
    {
     "data": {
      "application/vnd.jupyter.widget-view+json": {
       "model_id": "6141d37e6fa3410ea287f9837cd86269",
       "version_major": 2,
       "version_minor": 0
      },
      "text/plain": [
       "Plaintext Distances:   0%|          | 0/500 [00:00<?, ?it/s]"
      ]
     },
     "metadata": {},
     "output_type": "display_data"
    },
    {
     "name": "stdout",
     "output_type": "stream",
     "text": [
      "  Calculating encrypted similarity matrix...\n"
     ]
    },
    {
     "data": {
      "application/vnd.jupyter.widget-view+json": {
       "model_id": "17a20178fc164dbe96836f804911eea5",
       "version_major": 2,
       "version_minor": 0
      },
      "text/plain": [
       "Encrypted Distances:   0%|          | 0/500 [00:00<?, ?it/s]"
      ]
     },
     "metadata": {},
     "output_type": "display_data"
    },
    {
     "name": "stdout",
     "output_type": "stream",
     "text": [
      "  Spearman ρ: nan\n",
      "  --> Current security results saved to ./saved_security_eval_data/paillier_security_results.json\n"
     ]
    },
    {
     "name": "stderr",
     "output_type": "stream",
     "text": [
      "/usr/local/lib/python3.11/dist-packages/numpy/core/_methods.py:176: RuntimeWarning: overflow encountered in multiply\n",
      "  x = um.multiply(x, x, out=x)\n",
      "/tmp/ipython-input-12-2918662082.py:38: ConstantInputWarning: An input array is constant; the correlation coefficient is not defined.\n",
      "  rho, _ = spearmanr(plain_similarities, enc_similarities)\n"
     ]
    }
   ],
   "source": [
    "# Test 1: Distance-Structure Leakage (Spearman rho)\n",
    "if \"Similarity_Structure_Leakage_rho\" not in security_results: # Check if already done\n",
    "    print(\"\\nRunning Similarity-Structure Leakage (Spearman ρ) using Dot Product...\")\n",
    "    rho_val = run_distance_structure_leakage(corpus_paired_embeds, PAILLIER_KEY, metric='negative_dot_product')\n",
    "    security_results[\"Similarity_Structure_Leakage_rho\"] = rho_val\n",
    "    print(f\"  Spearman ρ: {rho_val:.4f}\" if rho_val is not None else \"  Spearman ρ: N/A\")\n",
    "    save_current_security_results(security_results, current_results_filename_prefix) # SAVE HERE\n",
    "\n",
    "else:\n",
    "    print(\"\\nSkipping Distance-Structure Leakage (already in results).\")"
   ]
  },
  {
   "cell_type": "code",
   "execution_count": null,
   "metadata": {
    "colab": {
     "base_uri": "https://localhost:8080/",
     "height": 205,
     "referenced_widgets": [
      "54d1a99999224e76907dff5c36ab6b2e",
      "2fe9ddb0a27341e3a6455ce727301276",
      "125fd4ec734d4b0faeef38d0cc7a7730",
      "e3433d5ecf3f47d58830dc707955d770",
      "7eeff7655c704b75b1f4d0af28af4e10",
      "83c1b7077d34469aad6893bc24ff196e",
      "7d2922cc22b64a10909dc633fbe2165b",
      "44969c720b7c4c0393052654251c3157",
      "93e7434040c64b2d83b9e34e0a071f86",
      "92118209fd2e4b0f894723b345b8e9c7",
      "5dddb02ab8164adf84471c204f8a7b71"
     ]
    },
    "id": "3ijm7Y6hMueb",
    "outputId": "588c091d-733e-4962-d781-37a90f5bb76f"
   },
   "outputs": [
    {
     "name": "stdout",
     "output_type": "stream",
     "text": [
      "\n",
      "Running Nearest-Neighbour Re-Identification Attack (using Dot Product)...\n",
      "Warning: Number of outsider probes reduced to 0 due to corpus size.\n",
      "  Running NN Re-ID with attacker_known_size=500, actual_num_trials=250 (250 insiders, 0 outsiders).\n",
      "  Running NN Re-ID with attacker_known_size=500, actual_num_trials=250 (250 insiders, 0 outsiders).\n"
     ]
    },
    {
     "data": {
      "application/vnd.jupyter.widget-view+json": {
       "model_id": "54d1a99999224e76907dff5c36ab6b2e",
       "version_major": 2,
       "version_minor": 0
      },
      "text/plain": [
       "NN Re-ID Attack Trials:   0%|          | 0/250 [00:00<?, ?it/s]"
      ]
     },
     "metadata": {},
     "output_type": "display_data"
    },
    {
     "name": "stdout",
     "output_type": "stream",
     "text": [
      "  Hit@1: 0.0000\n",
      "  Hit@5: 0.0000\n",
      "  Random Baseline (1/M): 0.0020\n",
      "  --> Current security results saved to ./saved_security_eval_data/paillier_security_results.json\n"
     ]
    }
   ],
   "source": [
    "# Test 2: Nearest-Neighbour Re-Identification Attack (Hit@1, Hit@5)\n",
    "if \"NN_ReID_Hit@1\" not in security_results: # Check if already done\n",
    "    print(\"\\nRunning Nearest-Neighbour Re-Identification Attack (using Dot Product)...\")\n",
    "    nn_re_id_results = run_nn_re_identification_attack(\n",
    "        corpus_plain_embeds,\n",
    "        corpus_enc_embeds_paillier,\n",
    "        attacker_known_size=SECURITY_M_KNOWN_DOCS,\n",
    "        num_trials=SECURITY_T_TRIALS,\n",
    "        metric='negative_dot_product'\n",
    "    )\n",
    "    security_results[\"NN_ReID_Hit@1\"] = nn_re_id_results.get(\"Hit@1\")\n",
    "    security_results[\"NN_ReID_Hit@5\"] = nn_re_id_results.get(\"Hit@5\")\n",
    "    security_results[\"NN_ReID_Random_Baseline\"] = nn_re_id_results.get(\"random_baseline\")\n",
    "    print(f\"  Hit@1: {nn_re_id_results.get('Hit@1', 'N/A'):.4f}\" if isinstance(nn_re_id_results.get('Hit@1'), (int, float)) else f\"  Hit@1: {nn_re_id_results.get('Hit@1', 'N/A')}\")\n",
    "    print(f\"  Hit@5: {nn_re_id_results.get('Hit@5', 'N/A'):.4f}\" if isinstance(nn_re_id_results.get('Hit@5'), (int, float)) else f\"  Hit@5: {nn_re_id_results.get('Hit@5', 'N/A')}\")\n",
    "    print(f\"  Random Baseline (1/M): {nn_re_id_results.get('random_baseline', 'N/A'):.4f}\" if isinstance(nn_re_id_results.get('random_baseline'), (int, float)) else f\"  Random Baseline: {nn_re_id_results.get('random_baseline', 'N/A')}\")\n",
    "    save_current_security_results(security_results, current_results_filename_prefix) # SAVE HERE\n",
    "else:\n",
    "    print(\"\\nSkipping Nearest-Neighbour Re-Identification Attack (already in results).\")"
   ]
  },
  {
   "cell_type": "code",
   "execution_count": null,
   "metadata": {
    "colab": {
     "base_uri": "https://localhost:8080/"
    },
    "id": "wDUOpmyhMwhi",
    "outputId": "d7f2d318-955d-4503-db07-5af1819a552a"
   },
   "outputs": [
    {
     "name": "stdout",
     "output_type": "stream",
     "text": [
      "\n",
      "Running Attribute-Inference...\n",
      "  Training Plaintext Logistic Regression...\n",
      "  Plaintext Logistic Regression training complete.\n",
      "  Training Encrypted Logistic Regression...\n",
      "  Encrypted Logistic Regression training complete.\n",
      "  Plaintext Accuracy: 0.5400\n",
      "  Encrypted Accuracy: 0.5000\n",
      "  --> Current security results saved to ./saved_security_eval_data/paillier_security_results.json\n"
     ]
    }
   ],
   "source": [
    "# Test 3: Attribute-Inference on Encrypted Vectors (Accuracy)\n",
    "if \"Attr_Inf_Plain_Accuracy\" not in security_results: # Check if already done\n",
    "    print(\"\\nRunning Attribute-Inference...\")\n",
    "    dummy_labels = np.random.randint(0, 2, size=len(corpus_paired_embeds))\n",
    "\n",
    "    plain_acc, enc_acc = run_attribute_inference(corpus_paired_embeds, dummy_labels)\n",
    "    security_results[\"Attr_Inf_Plain_Accuracy\"] = plain_acc\n",
    "    security_results[\"Attr_Inf_Enc_Accuracy\"] = enc_acc\n",
    "    print(f\"  Plaintext Accuracy: {plain_acc:.4f}\" if plain_acc is not None else \"  Plaintext Accuracy: N/A\")\n",
    "    print(f\"  Encrypted Accuracy: {enc_acc:.4f}\" if enc_acc is not None else \"  Encrypted Accuracy: N/A\")\n",
    "    save_current_security_results(security_results, current_results_filename_prefix)\n",
    "else:\n",
    "    print(\"\\nSkipping Attribute-Inference (already in results).\")\n"
   ]
  },
  {
   "cell_type": "code",
   "execution_count": null,
   "metadata": {
    "colab": {
     "background_save": true,
     "base_uri": "https://localhost:8080/",
     "height": 84,
     "referenced_widgets": [
      "619bdcd0003b432dafbaa534d1abf9e7",
      "8463c681fd8d4180b9658d4672f0d73b",
      "f8f31ba5aec44370b4877db838b52755",
      "130be4b1080f434b96ff5a1ec78a8b48",
      "d738ed78c27f42c0b98e8966ab232024",
      "53b7bb05dfab4f218292a358b9d30838",
      "0b6f6e7da0d648bc96043538e529e15c",
      "75c96aea32c84644a6f218763b6c6b56",
      "7c335f0551a64bf98da9cbf71aafe8ea",
      "a722f5a70b274e19a0c21f0aac147533",
      "461ad6cc1a414c57ba50ff73cdc71117"
     ]
    },
    "id": "M69MpCB2MyLB",
    "outputId": "42d0f176-d879-4f1c-9000-a644fba75b3c"
   },
   "outputs": [
    {
     "name": "stdout",
     "output_type": "stream",
     "text": [
      "\n",
      "Running Membership-Inference via Maximum Similarity (Dot Product)...\n"
     ]
    },
    {
     "data": {
      "application/vnd.jupyter.widget-view+json": {
       "model_id": "619bdcd0003b432dafbaa534d1abf9e7",
       "version_major": 2,
       "version_minor": 0
      },
      "text/plain": [
       "Membership Inference Searches:   0%|          | 0/500 [00:00<?, ?it/s]"
      ]
     },
     "metadata": {},
     "output_type": "display_data"
    },
    {
     "name": "stdout",
     "output_type": "stream",
     "text": [
      "  Membership Inference AUC: 0.5000\n",
      "  --> Current security results saved to ./saved_security_eval_data/paillier_security_results.json\n"
     ]
    }
   ],
   "source": [
    "# Test 4: Membership-Inference via Maximum Similarity (Dot Product)\n",
    "if \"Membership_Inf_AUC\" not in security_results: # Check if already done\n",
    "    print(\"\\nRunning Membership-Inference via Maximum Similarity (Dot Product)...\")\n",
    "    auc_val = run_membership_inference(corpus_plain_embeds, corpus_enc_embeds_paillier, PAILLIER_KEY, num_probes=SECURITY_MEM_INF_PROBES, metric='negative_dot_product')\n",
    "    security_results[\"Membership_Inf_AUC\"] = auc_val\n",
    "    print(f\"  Membership Inference AUC: {auc_val:.4f}\" if auc_val is not None else \"  Membership Inference AUC: N/A\")\n",
    "    save_current_security_results(security_results, current_results_filename_prefix)\n",
    "else:\n",
    "    print(\"\\nSkipping Membership-Inference (already in results).\")"
   ]
  },
  {
   "cell_type": "code",
   "execution_count": 20,
   "metadata": {
    "colab": {
     "base_uri": "https://localhost:8080/",
     "height": 205,
     "referenced_widgets": [
      "4a645abb80694c7abebb5ddb0570d3b3",
      "76abc65ca9334a659feeea3f768863fc",
      "2d3143732b7c4e1f87e40d1305ff8144",
      "04e00fca0801421785d17e8b48f0f596",
      "12dff4e122af4011965055bf3de5491a",
      "231065164a6048ce985249b6256b8c34",
      "950c76bb44af444f8ad00d148dcaf136",
      "742f9b95b3334c0ba648f75d909f8294",
      "17dffadd18ec4fd8b3c824dfa9a22cc8",
      "4d8029376ee14239a1ff0e4f5a6ce993",
      "2ea6a6f3dff2470b8a80f659b40a1b87",
      "9bd64cd787004530af9c2a567b03d482",
      "27e28bfd418c4fb69debb7a0a67bd658",
      "6d5610e337b44b31b0ea80b3d4d31d00",
      "68812fc1552e49dca318eb557ea5f235",
      "2402e4311380478f90dc36295057df76",
      "785e794a28e346e99ff4dfd24c230a62",
      "4a1ab1a08073481fab2423c9fbce293d",
      "3c0fe3d3078d408385c181e9f6c060a3",
      "71999e6d32a8439bb73ea3077267a9f0",
      "7bdb8e7149064c2ea47069df8fbd7b8a",
      "aa19f375eb06486098fd97a955f412a6"
     ]
    },
    "id": "JVNsaXKkMzvL",
    "outputId": "82fd1bc9-398a-43c8-cb3b-78b5054b43c8"
   },
   "outputs": [
    {
     "name": "stdout",
     "output_type": "stream",
     "text": [
      "\n",
      "Running Absolute Similarity-Distortion (Mean Δ) using Dot Product...\n",
      "  Calculating plaintext similarity matrix for distortion...\n"
     ]
    },
    {
     "data": {
      "application/vnd.jupyter.widget-view+json": {
       "model_id": "4a645abb80694c7abebb5ddb0570d3b3",
       "version_major": 2,
       "version_minor": 0
      },
      "text/plain": [
       "Plain Distortions:   0%|          | 0/500 [00:00<?, ?it/s]"
      ]
     },
     "metadata": {},
     "output_type": "display_data"
    },
    {
     "name": "stdout",
     "output_type": "stream",
     "text": [
      "  Calculating encrypted similarity matrix for distortion...\n"
     ]
    },
    {
     "data": {
      "application/vnd.jupyter.widget-view+json": {
       "model_id": "9bd64cd787004530af9c2a567b03d482",
       "version_major": 2,
       "version_minor": 0
      },
      "text/plain": [
       "Encrypted Distortions:   0%|          | 0/500 [00:00<?, ?it/s]"
      ]
     },
     "metadata": {},
     "output_type": "display_data"
    },
    {
     "name": "stdout",
     "output_type": "stream",
     "text": [
      "  Mean Δ: 581818927932824036334104838078537704649688745551856680594546360981420363975577653553543843765335335407799998714224455297997163103971739406999437352173427980306119736366280906882825130558593844638088826026862695201266080880343138023892009386785717446037322691137519242553294250247909454178031605280407552.0000\n",
      "  --> Current security results saved to ./saved_security_eval_data/paillier_security_results.json\n"
     ]
    }
   ],
   "source": [
    "# Test 5: Absolute Distance-Distortion (Mean Delta)\n",
    "if \"Absolute_Similarity_Distortion_Delta\" not in security_results: # Check if already done\n",
    "    print(\"\\nRunning Absolute Similarity-Distortion (Mean Δ) using Dot Product...\")\n",
    "    delta_val = run_absolute_distance_distortion(corpus_paired_embeds, PAILLIER_KEY, metric='negative_dot_product')\n",
    "    security_results[\"Absolute_Similarity_Distortion_Delta\"] = delta_val\n",
    "    print(f\"  Mean Δ: {delta_val:.4f}\" if delta_val is not None else \"  Mean Δ: N/A\")\n",
    "    save_current_security_results(security_results, current_results_filename_prefix) # SAVE HERE\n",
    "else:\n",
    "    print(\"\\nSkipping Absolute Distance-Distortion (already in results).\")"
   ]
  },
  {
   "cell_type": "markdown",
   "metadata": {
    "id": "qgChOgWFDdm8"
   },
   "source": [
    "# Visualising Results"
   ]
  },
  {
   "cell_type": "code",
   "execution_count": 22,
   "metadata": {
    "colab": {
     "base_uri": "https://localhost:8080/",
     "height": 1000
    },
    "id": "f40dH7vUM3BL",
    "outputId": "c8f44538-2406-417c-b55e-372e7eec0b28"
   },
   "outputs": [
    {
     "name": "stdout",
     "output_type": "stream",
     "text": [
      "\n",
      "Security Results DataFrame for plotting:\n",
      "   NN_ReID_Hit@1  NN_ReID_Hit@5  NN_ReID_Random_Baseline  Similarity_Structure_Leakage_rho  Attr_Inf_Plain_Accuracy  Attr_Inf_Enc_Accuracy  Membership_Inf_AUC  Absolute_Similarity_Distortion_Delta\n",
      "0            0.0            0.0                    0.002                               NaN                     0.54                    0.5                 0.5                         5.818189e+302\n"
     ]
    },
    {
     "name": "stderr",
     "output_type": "stream",
     "text": [
      "/tmp/ipython-input-22-317038540.py:9: FutureWarning: \n",
      "\n",
      "Passing `palette` without assigning `hue` is deprecated and will be removed in v0.14.0. Assign the `x` variable to `hue` and set `legend=False` for the same effect.\n",
      "\n",
      "  sns.barplot(x=[\"Spearman ρ\"], y=[security_df[\"Similarity_Structure_Leakage_rho\"].iloc[0]], palette=\"crest\")\n"
     ]
    },
    {
     "data": {
      "image/png": "[encoded data removed]",
      "text/plain": [
       "<Figure size 700x500 with 1 Axes>"
      ]
     },
     "metadata": {},
     "output_type": "display_data"
    },
    {
     "name": "stderr",
     "output_type": "stream",
     "text": [
      "/tmp/ipython-input-22-317038540.py:28: FutureWarning: \n",
      "\n",
      "Passing `palette` without assigning `hue` is deprecated and will be removed in v0.14.0. Assign the `x` variable to `hue` and set `legend=False` for the same effect.\n",
      "\n",
      "  sns.barplot(x=\"Metric\", y=\"Value\", data=nn_reid_plot_df, palette=\"viridis\")\n"
     ]
    },
    {
     "data": {
      "image/png": "[encoded data removed]",
      "text/plain": [
       "<Figure size 800x600 with 1 Axes>"
      ]
     },
     "metadata": {},
     "output_type": "display_data"
    },
    {
     "name": "stderr",
     "output_type": "stream",
     "text": [
      "/tmp/ipython-input-22-317038540.py:49: FutureWarning: \n",
      "\n",
      "Passing `palette` without assigning `hue` is deprecated and will be removed in v0.14.0. Assign the `x` variable to `hue` and set `legend=False` for the same effect.\n",
      "\n",
      "  sns.barplot(x=\"Type\", y=\"Accuracy\", data=attr_inf_plot_df, palette=\"plasma\")\n"
     ]
    },
    {
     "data": {
      "image/png": "[encoded data removed]",
      "text/plain": [
       "<Figure size 700x500 with 1 Axes>"
      ]
     },
     "metadata": {},
     "output_type": "display_data"
    },
    {
     "name": "stderr",
     "output_type": "stream",
     "text": [
      "/tmp/ipython-input-22-317038540.py:60: FutureWarning: \n",
      "\n",
      "Passing `palette` without assigning `hue` is deprecated and will be removed in v0.14.0. Assign the `x` variable to `hue` and set `legend=False` for the same effect.\n",
      "\n",
      "  sns.barplot(x=[\"Membership Inference AUC\"], y=[security_df[\"Membership_Inf_AUC\"].iloc[0]], palette=\"rocket\")\n"
     ]
    },
    {
     "data": {
      "image/png": "[encoded data removed]",
      "text/plain": [
       "<Figure size 700x500 with 1 Axes>"
      ]
     },
     "metadata": {},
     "output_type": "display_data"
    },
    {
     "name": "stderr",
     "output_type": "stream",
     "text": [
      "/tmp/ipython-input-22-317038540.py:69: FutureWarning: \n",
      "\n",
      "Passing `palette` without assigning `hue` is deprecated and will be removed in v0.14.0. Assign the `x` variable to `hue` and set `legend=False` for the same effect.\n",
      "\n",
      "  sns.barplot(x=[\"Mean Δ\"], y=[security_df[\"Absolute_Similarity_Distortion_Delta\"].iloc[0]], palette=\"magma\")\n"
     ]
    },
    {
     "data": {
      "image/png": "[encoded data removed]",
      "text/plain": [
       "<Figure size 700x500 with 1 Axes>"
      ]
     },
     "metadata": {},
     "output_type": "display_data"
    },
    {
     "name": "stdout",
     "output_type": "stream",
     "text": [
      "\n",
      "--- Phase 7: Security Visualizations Generated ---\n"
     ]
    }
   ],
   "source": [
    "security_df = pd.DataFrame([security_results])\n",
    "pd.set_option('display.max_columns', None)\n",
    "print(\"\\nSecurity Results DataFrame for plotting:\")\n",
    "print(security_df.to_string())\n",
    "\n",
    "# Plotting Distance/Similarity Structure Leakage (Spearman Rho)\n",
    "if \"Similarity_Structure_Leakage_rho\" in security_df.columns and security_df[\"Similarity_Structure_Leakage_rho\"].iloc[0] is not None:\n",
    "    plt.figure(figsize=(7, 5))\n",
    "    sns.barplot(x=[\"Spearman ρ\"], y=[security_df[\"Similarity_Structure_Leakage_rho\"].iloc[0]], palette=\"crest\")\n",
    "    plt.title(\"Similarity-Structure Leakage (Spearman ρ)\\n(Lower is more private)\", fontsize=14)\n",
    "    plt.ylabel(\"Spearman ρ\", fontsize=12)\n",
    "    plt.ylim(-0.1, 1.0)\n",
    "    plt.show()\n",
    "\n",
    "# Plotting NN Re-Identification\n",
    "nn_reid_metrics = [\"NN_ReID_Hit@1\", \"NN_ReID_Hit@5\", \"NN_ReID_Random_Baseline\"]\n",
    "if all(m in security_df.columns and security_df[m].iloc[0] is not None for m in nn_reid_metrics):\n",
    "    nn_reid_plot_data = []\n",
    "    for metric_name in nn_reid_metrics:\n",
    "        value = security_df[metric_name].iloc[0]\n",
    "        if isinstance(value, (int, float)):\n",
    "            nn_reid_plot_data.append({\"Metric\": metric_name.replace(\"NN_ReID_\", \"\"), \"Value\": value})\n",
    "\n",
    "    if nn_reid_plot_data:\n",
    "        nn_reid_plot_df = pd.DataFrame(nn_reid_plot_data)\n",
    "\n",
    "        plt.figure(figsize=(8, 6))\n",
    "        sns.barplot(x=\"Metric\", y=\"Value\", data=nn_reid_plot_df, palette=\"viridis\")\n",
    "        plt.title(\"Nearest-Neighbour Re-Identification Attack\\n(Values near Random Baseline indicate strong privacy)\", fontsize=14)\n",
    "        plt.ylabel(\"Probability\", fontsize=12)\n",
    "        plt.ylim(0, max(nn_reid_plot_df[\"Value\"].max() * 1.2, 0.1))\n",
    "        plt.show()\n",
    "    else:\n",
    "        print(\"Skipping NN Re-Identification plot due to missing data.\")\n",
    "\n",
    "# Plotting Attribute Inference\n",
    "attr_inf_metrics = [\"Attr_Inf_Plain_Accuracy\", \"Attr_Inf_Enc_Accuracy\"]\n",
    "if all(m in security_df.columns and security_df[m].iloc[0] is not None for m in attr_inf_metrics):\n",
    "    attr_inf_plot_data = []\n",
    "    for metric_name in attr_inf_metrics:\n",
    "        value = security_df[metric_name].iloc[0]\n",
    "        if isinstance(value, (int, float)):\n",
    "            attr_inf_plot_data.append({\"Type\": metric_name.replace(\"Attr_Inf_\", \"\").replace(\"_Accuracy\", \"\"), \"Accuracy\": value})\n",
    "\n",
    "    if attr_inf_plot_data:\n",
    "        attr_inf_plot_df = pd.DataFrame(attr_inf_plot_data)\n",
    "\n",
    "        plt.figure(figsize=(7, 5))\n",
    "        sns.barplot(x=\"Type\", y=\"Accuracy\", data=attr_inf_plot_df, palette=\"plasma\")\n",
    "        plt.title(\"Attribute Inference Accuracy\\n(Large drop vs. plaintext ⇒ less semantic leakage)\", fontsize=14)\n",
    "        plt.ylabel(\"Accuracy\", fontsize=12)\n",
    "        plt.ylim(0, 1)\n",
    "        plt.show()\n",
    "    else:\n",
    "        print(\"Skipping Attribute Inference plot due to missing data.\")\n",
    "\n",
    "# Plotting Membership Inference\n",
    "if \"Membership_Inf_AUC\" in security_df.columns and security_df[\"Membership_Inf_AUC\"].iloc[0] is not None:\n",
    "    plt.figure(figsize=(7, 5))\n",
    "    sns.barplot(x=[\"Membership Inference AUC\"], y=[security_df[\"Membership_Inf_AUC\"].iloc[0]], palette=\"rocket\")\n",
    "    plt.title(\"Membership Inference (AUC)\\n(AUC ≈ 0.5 = no advantage over chance; higher ⇒ more leakage)\", fontsize=14)\n",
    "    plt.ylabel(\"AUC\", fontsize=12)\n",
    "    plt.ylim(0.45, 1.0)\n",
    "    plt.show()\n",
    "\n",
    "# Plotting Absolute Distance Distortion\n",
    "if \"Absolute_Similarity_Distortion_Delta\" in security_df.columns and security_df[\"Absolute_Similarity_Distortion_Delta\"].iloc[0] is not None:\n",
    "    plt.figure(figsize=(7, 5))\n",
    "    sns.barplot(x=[\"Mean Δ\"], y=[security_df[\"Absolute_Similarity_Distortion_Delta\"].iloc[0]], palette=\"magma\")\n",
    "    plt.title(\"Absolute Similarity Distortion (Mean Δ)\\n(Larger Δ means stronger obfuscation)\", fontsize=14)\n",
    "    plt.ylabel(\"Mean Distortion\", fontsize=12)\n",
    "    plt.show()\n",
    "\n",
    "print(\"\\n--- Phase 7: Security Visualizations Generated ---\")"
   ]
  },
  {
   "cell_type": "code",
   "execution_count": 23,
   "metadata": {
    "colab": {
     "base_uri": "https://localhost:8080/",
     "height": 1000
    },
    "id": "q_z6ZPLuM8O3",
    "outputId": "7b36be21-3e7e-48d3-9fb1-f0cdb3f9c458"
   },
   "outputs": [
    {
     "name": "stdout",
     "output_type": "stream",
     "text": [
      "\n",
      "--- Phase 7: Generating Improved Security Visualizations ---\n",
      "\n",
      "Security Results DataFrame for plotting:\n",
      "   NN_ReID_Hit@1  NN_ReID_Hit@5  NN_ReID_Random_Baseline  Similarity_Structure_Leakage_rho  Attr_Inf_Plain_Accuracy  Attr_Inf_Enc_Accuracy  Membership_Inf_AUC  Absolute_Similarity_Distortion_Delta\n",
      "0            0.0            0.0                    0.002                               NaN                     0.54                    0.5                 0.5                         5.818189e+302\n"
     ]
    },
    {
     "data": {
      "image/png": "[encoded data removed]",
      "text/plain": [
       "<Figure size 1200x700 with 1 Axes>"
      ]
     },
     "metadata": {},
     "output_type": "display_data"
    },
    {
     "name": "stderr",
     "output_type": "stream",
     "text": [
      "/tmp/ipython-input-23-2903243128.py:105: UserWarning: Tight layout not applied. The left and right margins cannot be made large enough to accommodate all Axes decorations.\n",
      "  plt.tight_layout()\n"
     ]
    },
    {
     "data": {
      "image/png": "[encoded data removed]",
      "text/plain": [
       "<Figure size 1000x600 with 1 Axes>"
      ]
     },
     "metadata": {},
     "output_type": "display_data"
    },
    {
     "name": "stdout",
     "output_type": "stream",
     "text": [
      "\n",
      "--- Phase 7: Security Visualizations Generated ---\n"
     ]
    }
   ],
   "source": [
    "# --- Phase 7: Security Visualization (Improved) ---\n",
    "print(\"\\n--- Phase 7: Generating Improved Security Visualizations ---\")\n",
    "\n",
    "# Convert security_results to a DataFrame for plotting\n",
    "security_df = pd.DataFrame([security_results])\n",
    "pd.set_option('display.max_columns', None) # Ensure all columns are displayed for debug\n",
    "print(\"\\nSecurity Results DataFrame for plotting:\")\n",
    "print(security_df.to_string())\n",
    "\n",
    "# Set a professional plotting style\n",
    "sns.set_theme(style=\"whitegrid\", palette=\"viridis\") # Use a pleasant, professional palette\n",
    "\n",
    "# --- Chart 1: Security Leakage Metrics (Lower is Better) ---\n",
    "# Metrics: Spearman ρ, NN Re-ID Hit@1, NN Re-ID Hit@5, Membership Inference AUC\n",
    "# Interpretation: Lower values are better for privacy (except AUC, where 0.5 is ideal)\n",
    "# For AUC, we want to show its deviation from 0.5, or just plot it directly and explain.\n",
    "# Let's plot it directly and use annotations.\n",
    "\n",
    "leakage_plot_data = []\n",
    "if \"Distance_Structure_Leakage_rho\" in security_df.columns and security_df[\"Distance_Structure_Leakage_rho\"].iloc[0] is not None:\n",
    "    leakage_plot_data.append({\"Metric\": \"Spearman ρ\", \"Value\": security_df[\"Distance_Structure_Leakage_rho\"].iloc[0], \"Type\": \"Leakage\"})\n",
    "if \"Similarity_Structure_Leakage_rho\" in security_df.columns and security_df[\"Similarity_Structure_Leakage_rho\"].iloc[0] is not None: # For Paillier\n",
    "    leakage_plot_data.append({\"Metric\": \"Spearman ρ (Similarity)\", \"Value\": security_df[\"Similarity_Structure_Leakage_rho\"].iloc[0], \"Type\": \"Leakage\"})\n",
    "\n",
    "nn_reid_metrics_present = True\n",
    "for m in [\"NN_ReID_Hit@1\", \"NN_ReID_Hit@5\"]:\n",
    "    if m not in security_df.columns or security_df[m].iloc[0] is None:\n",
    "        nn_reid_metrics_present = False\n",
    "        break\n",
    "if nn_reid_metrics_present:\n",
    "    leakage_plot_data.append({\"Metric\": \"NN Re-ID Hit@1\", \"Value\": security_df[\"NN_ReID_Hit@1\"].iloc[0], \"Type\": \"Leakage\"})\n",
    "    leakage_plot_data.append({\"Metric\": \"NN Re-ID Hit@5\", \"Value\": security_df[\"NN_ReID_Hit@5\"].iloc[0], \"Type\": \"Leakage\"})\n",
    "    leakage_plot_data.append({\"Metric\": \"NN Re-ID Random Baseline\", \"Value\": security_df[\"NN_ReID_Random_Baseline\"].iloc[0], \"Type\": \"Baseline\"})\n",
    "\n",
    "\n",
    "if \"Membership_Inf_AUC\" in security_df.columns and security_df[\"Membership_Inf_AUC\"].iloc[0] is not None:\n",
    "    leakage_plot_data.append({\"Metric\": \"Membership Inf. AUC\", \"Value\": security_df[\"Membership_Inf_AUC\"].iloc[0], \"Type\": \"Leakage\"})\n",
    "\n",
    "leakage_plot_df = pd.DataFrame(leakage_plot_data)\n",
    "\n",
    "if not leakage_plot_df.empty:\n",
    "    plt.figure(figsize=(12, 7)) # Adjusted size for clarity\n",
    "    ax = sns.barplot(x=\"Metric\", y=\"Value\", hue=\"Type\", data=leakage_plot_df, dodge=False, palette={\"Leakage\": \"steelblue\", \"Baseline\": \"lightcoral\"})\n",
    "\n",
    "    plt.title(\"Security Leakage Metrics (Lower values indicate stronger privacy)\", fontsize=16)\n",
    "    plt.ylabel(\"Score\", fontsize=12)\n",
    "    plt.xlabel(\"Metric\", fontsize=12)\n",
    "    plt.ylim(0, max(leakage_plot_df[\"Value\"].max() * 1.1, 0.1)) # Dynamic ylim, min 0.1 to show baselines\n",
    "\n",
    "    # Add interpretations as annotations or lines\n",
    "    if \"Membership Inf. AUC\" in leakage_plot_df[\"Metric\"].values:\n",
    "        plt.axhline(0.5, color='gray', linestyle='--', linewidth=1, label=\"AUC Random Baseline (0.5)\")\n",
    "\n",
    "    for container in ax.containers:\n",
    "        ax.bar_label(container, fmt='%.4f', label_type='edge') # Add value labels to bars\n",
    "\n",
    "    plt.legend(title=\"Metric Type\")\n",
    "    plt.tight_layout()\n",
    "    plt.show()\n",
    "else:\n",
    "    print(\"No leakage metrics data available for plotting.\")\n",
    "\n",
    "# --- Chart 2: Inference Resistance & Obfuscation (Contextual) ---\n",
    "# Metrics: Attribute Inference Accuracy (Plain vs Encrypted), Absolute Distance/Similarity Distortion\n",
    "\n",
    "resistance_plot_data = []\n",
    "attr_inf_metrics_present = True\n",
    "for m in [\"Attr_Inf_Plain_Accuracy\", \"Attr_Inf_Enc_Accuracy\"]:\n",
    "    if m not in security_df.columns or security_df[m].iloc[0] is None:\n",
    "        attr_inf_metrics_present = False\n",
    "        break\n",
    "if attr_inf_metrics_present:\n",
    "    resistance_plot_data.append({\"Metric\": \"Attribute Inference Accuracy\", \"Type\": \"Plaintext\", \"Value\": security_df[\"Attr_Inf_Plain_Accuracy\"].iloc[0]})\n",
    "    resistance_plot_data.append({\"Metric\": \"Attribute Inference Accuracy\", \"Type\": \"Encrypted\", \"Value\": security_df[\"Attr_Inf_Enc_Accuracy\"].iloc[0]})\n",
    "\n",
    "if \"Absolute_Distance_Distortion_Delta\" in security_df.columns and security_df[\"Absolute_Distance_Distortion_Delta\"].iloc[0] is not None:\n",
    "    resistance_plot_data.append({\"Metric\": \"Absolute Distortion (Euclidean)\", \"Type\": \"Obfuscation\", \"Value\": security_df[\"Absolute_Distance_Distortion_Delta\"].iloc[0]})\n",
    "if \"Absolute_Similarity_Distortion_Delta\" in security_df.columns and security_df[\"Absolute_Similarity_Distortion_Delta\"].iloc[0] is not None:\n",
    "    resistance_plot_data.append({\"Metric\": \"Absolute Distortion (Similarity)\", \"Type\": \"Obfuscation\", \"Value\": security_df[\"Absolute_Similarity_Distortion_Delta\"].iloc[0]})\n",
    "\n",
    "resistance_plot_df = pd.DataFrame(resistance_plot_data)\n",
    "\n",
    "if not resistance_plot_df.empty:\n",
    "    plt.figure(figsize=(10, 6)) # Adjusted size\n",
    "    ax = sns.barplot(x=\"Metric\", y=\"Value\", hue=\"Type\", data=resistance_plot_df, palette=\"viridis\")\n",
    "\n",
    "    plt.title(\"Inference Resistance & Obfuscation (Contextual Interpretation)\", fontsize=16)\n",
    "    plt.ylabel(\"Score/Value\", fontsize=12)\n",
    "    plt.xlabel(\"Metric\", fontsize=12)\n",
    "\n",
    "    # Add annotations and interpretation notes\n",
    "    if \"Attribute Inference Accuracy\" in resistance_plot_df[\"Metric\"].values:\n",
    "        plt.text(0, 0.9, \"For Attribute Inference:\\nLarge drop (Plaintext -> Encrypted)\\nindicates less semantic leakage.\",\n",
    "                 horizontalalignment='left', verticalalignment='top', transform=ax.transAxes, fontsize=9, bbox=dict(facecolor='white', alpha=0.7, edgecolor='none', boxstyle='round,pad=0.5'))\n",
    "\n",
    "    if \"Absolute Distortion (Euclidean)\" in resistance_plot_df[\"Metric\"].values or \"Absolute Distortion (Similarity)\" in resistance_plot_df[\"Metric\"].values:\n",
    "        plt.text(0.5, 0.9, \"For Absolute Distortion:\\nLarger value indicates stronger\\nobfuscation (more altered distances).\",\n",
    "                 horizontalalignment='left', verticalalignment='top', transform=ax.transAxes, fontsize=9, bbox=dict(facecolor='white', alpha=0.7, edgecolor='none', boxstyle='round,pad=0.5'))\n",
    "\n",
    "    for container in ax.containers:\n",
    "        ax.bar_label(container, fmt='%.4f', label_type='edge')\n",
    "\n",
    "    plt.ylim(0, max(resistance_plot_df[\"Value\"].max() * 1.1, 0.1)) # Dynamic ylim\n",
    "    plt.legend(title=\"Type\")\n",
    "    plt.tight_layout()\n",
    "    plt.show()\n",
    "else:\n",
    "    print(\"No inference resistance/obfuscation data available for plotting.\")\n",
    "\n",
    "print(\"\\n--- Phase 7: Security Visualizations Generated ---\")"
   ]
  },
  {
   "cell_type": "code",
   "execution_count": null,
   "metadata": {
    "id": "iJ3ydY5Z6QnB"
   },
   "outputs": [],
   "source": []
  },
  {
   "cell_type": "code",
   "execution_count": null,
   "metadata": {
    "id": "113e7179"
   },
   "outputs": [],
   "source": []
  }
 ],
 "metadata": {
  "colab": {
   "authorship_tag": "ABX9TyNLl/ASX2RODbr8NwGGXaJK",
   "include_colab_link": true,
   "provenance": []
  },
  "kernelspec": {
   "display_name": "Python 3",
   "name": "python3"
  },
  "language_info": {
   "name": "python"
  }
 },
 "nbformat": 4,
 "nbformat_minor": 0
}
