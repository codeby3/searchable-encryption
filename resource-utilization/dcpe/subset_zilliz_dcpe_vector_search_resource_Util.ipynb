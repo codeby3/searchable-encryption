{
 "cells": [
  {
   "cell_type": "markdown",
   "metadata": {
    "colab_type": "text",
    "id": "view-in-github"
   },
   "source": [
    "<a href=\"https://colab.research.google.com/github/codeby3/searchable-encryption/blob/resource-utilization/resource-utilization/dcpe/subset_zilliz_dcpe_vector_search_resource_Util.ipynb\" target=\"_parent\"><img src=\"https://colab.research.google.com/assets/colab-badge.svg\" alt=\"Open In Colab\"/></a>"
   ]
  },
  {
   "cell_type": "markdown",
   "metadata": {
    "id": "vd26fRC07BGs"
   },
   "source": [
    "# Set up"
   ]
  },
  {
   "cell_type": "code",
   "execution_count": 1,
   "metadata": {
    "colab": {
     "base_uri": "https://localhost:8080/"
    },
    "id": "ele1IiqmR5O7",
    "outputId": "2c4fcbe6-7f0b-4172-cf08-11a7589f311a"
   },
   "outputs": [
    {
     "name": "stdout",
     "output_type": "stream",
     "text": [
      "\u001b[?25l   \u001b[90m━━━━━━━━━━━━━━━━━━━━━━━━━━━━━━━━━━━━━━━━\u001b[0m \u001b[32m0.0/77.4 kB\u001b[0m \u001b[31m?\u001b[0m eta \u001b[36m-:--:--\u001b[0m\r",
      "\u001b[2K   \u001b[90m━━━━━━━━━━━━━━━━━━━━━━━━━━━━━━━━━━━━━━━━\u001b[0m \u001b[32m77.4/77.4 kB\u001b[0m \u001b[31m7.9 MB/s\u001b[0m eta \u001b[36m0:00:00\u001b[0m\n",
      "\u001b[?25h\u001b[?25l   \u001b[90m━━━━━━━━━━━━━━━━━━━━━━━━━━━━━━━━━━━━━━━━\u001b[0m \u001b[32m0.0/228.1 kB\u001b[0m \u001b[31m?\u001b[0m eta \u001b[36m-:--:--\u001b[0m\r",
      "\u001b[2K   \u001b[90m━━━━━━━━━━━━━━━━━━━━━━━━━━━━━━━━━━━━━━━━\u001b[0m \u001b[32m228.1/228.1 kB\u001b[0m \u001b[31m21.1 MB/s\u001b[0m eta \u001b[36m0:00:00\u001b[0m\n",
      "\u001b[?25h\u001b[?25l   \u001b[90m━━━━━━━━━━━━━━━━━━━━━━━━━━━━━━━━━━━━━━━━\u001b[0m \u001b[32m0.0/491.5 kB\u001b[0m \u001b[31m?\u001b[0m eta \u001b[36m-:--:--\u001b[0m\r",
      "\u001b[2K   \u001b[90m━━━━━━━━━━━━━━━━━━━━━━━━━━━━━━━━━━━━━━━━\u001b[0m \u001b[32m491.5/491.5 kB\u001b[0m \u001b[31m43.4 MB/s\u001b[0m eta \u001b[36m0:00:00\u001b[0m\n",
      "\u001b[?25h\u001b[?25l   \u001b[90m━━━━━━━━━━━━━━━━━━━━━━━━━━━━━━━━━━━━━━━━\u001b[0m \u001b[32m0.0/2.3 MB\u001b[0m \u001b[31m?\u001b[0m eta \u001b[36m-:--:--\u001b[0m\r",
      "\u001b[2K   \u001b[90m━━━━━━━━━━━━━━━━━━━━━━━━━━━━━━━━━━━━━━━━\u001b[0m \u001b[32m2.3/2.3 MB\u001b[0m \u001b[31m99.8 MB/s\u001b[0m eta \u001b[36m0:00:00\u001b[0m\n",
      "\u001b[?25h\u001b[?25l   \u001b[90m━━━━━━━━━━━━━━━━━━━━━━━━━━━━━━━━━━━━━━━━\u001b[0m \u001b[32m0.0/193.6 kB\u001b[0m \u001b[31m?\u001b[0m eta \u001b[36m-:--:--\u001b[0m\r",
      "\u001b[2K   \u001b[90m━━━━━━━━━━━━━━━━━━━━━━━━━━━━━━━━━━━━━━━━\u001b[0m \u001b[32m193.6/193.6 kB\u001b[0m \u001b[31m19.5 MB/s\u001b[0m eta \u001b[36m0:00:00\u001b[0m\n",
      "\u001b[2K   \u001b[90m━━━━━━━━━━━━━━━━━━━━━━━━━━━━━━━━━━━━━━━━\u001b[0m \u001b[32m5.9/5.9 MB\u001b[0m \u001b[31m120.0 MB/s\u001b[0m eta \u001b[36m0:00:00\u001b[0m\n",
      "\u001b[2K   \u001b[90m━━━━━━━━━━━━━━━━━━━━━━━━━━━━━━━━━━━━━━━━\u001b[0m \u001b[32m55.3/55.3 MB\u001b[0m \u001b[31m18.4 MB/s\u001b[0m eta \u001b[36m0:00:00\u001b[0m\n",
      "\u001b[2K   \u001b[90m━━━━━━━━━━━━━━━━━━━━━━━━━━━━━━━━━━━━━━━━\u001b[0m \u001b[32m363.4/363.4 MB\u001b[0m \u001b[31m4.6 MB/s\u001b[0m eta \u001b[36m0:00:00\u001b[0m\n",
      "\u001b[2K   \u001b[90m━━━━━━━━━━━━━━━━━━━━━━━━━━━━━━━━━━━━━━━━\u001b[0m \u001b[32m13.8/13.8 MB\u001b[0m \u001b[31m129.7 MB/s\u001b[0m eta \u001b[36m0:00:00\u001b[0m\n",
      "\u001b[2K   \u001b[90m━━━━━━━━━━━━━━━━━━━━━━━━━━━━━━━━━━━━━━━━\u001b[0m \u001b[32m24.6/24.6 MB\u001b[0m \u001b[31m99.3 MB/s\u001b[0m eta \u001b[36m0:00:00\u001b[0m\n",
      "\u001b[2K   \u001b[90m━━━━━━━━━━━━━━━━━━━━━━━━━━━━━━━━━━━━━━━━\u001b[0m \u001b[32m883.7/883.7 kB\u001b[0m \u001b[31m57.4 MB/s\u001b[0m eta \u001b[36m0:00:00\u001b[0m\n",
      "\u001b[2K   \u001b[90m━━━━━━━━━━━━━━━━━━━━━━━━━━━━━━━━━━━━━━━━\u001b[0m \u001b[32m664.8/664.8 MB\u001b[0m \u001b[31m2.2 MB/s\u001b[0m eta \u001b[36m0:00:00\u001b[0m\n",
      "\u001b[2K   \u001b[90m━━━━━━━━━━━━━━━━━━━━━━━━━━━━━━━━━━━━━━━━\u001b[0m \u001b[32m211.5/211.5 MB\u001b[0m \u001b[31m4.9 MB/s\u001b[0m eta \u001b[36m0:00:00\u001b[0m\n",
      "\u001b[2K   \u001b[90m━━━━━━━━━━━━━━━━━━━━━━━━━━━━━━━━━━━━━━━━\u001b[0m \u001b[32m56.3/56.3 MB\u001b[0m \u001b[31m11.4 MB/s\u001b[0m eta \u001b[36m0:00:00\u001b[0m\n",
      "\u001b[2K   \u001b[90m━━━━━━━━━━━━━━━━━━━━━━━━━━━━━━━━━━━━━━━━\u001b[0m \u001b[32m127.9/127.9 MB\u001b[0m \u001b[31m5.8 MB/s\u001b[0m eta \u001b[36m0:00:00\u001b[0m\n",
      "\u001b[2K   \u001b[90m━━━━━━━━━━━━━━━━━━━━━━━━━━━━━━━━━━━━━━━━\u001b[0m \u001b[32m207.5/207.5 MB\u001b[0m \u001b[31m5.3 MB/s\u001b[0m eta \u001b[36m0:00:00\u001b[0m\n",
      "\u001b[2K   \u001b[90m━━━━━━━━━━━━━━━━━━━━━━━━━━━━━━━━━━━━━━━━\u001b[0m \u001b[32m21.1/21.1 MB\u001b[0m \u001b[31m49.2 MB/s\u001b[0m eta \u001b[36m0:00:00\u001b[0m\n",
      "\u001b[2K   \u001b[90m━━━━━━━━━━━━━━━━━━━━━━━━━━━━━━━━━━━━━━━━\u001b[0m \u001b[32m53.6/53.6 kB\u001b[0m \u001b[31m4.0 MB/s\u001b[0m eta \u001b[36m0:00:00\u001b[0m\n",
      "\u001b[2K   \u001b[90m━━━━━━━━━━━━━━━━━━━━━━━━━━━━━━━━━━━━━━━━\u001b[0m \u001b[32m288.0/288.0 kB\u001b[0m \u001b[31m15.0 MB/s\u001b[0m eta \u001b[36m0:00:00\u001b[0m\n",
      "\u001b[?25h\u001b[31mERROR: pip's dependency resolver does not currently take into account all the packages that are installed. This behaviour is the source of the following dependency conflicts.\n",
      "grpcio-status 1.71.0 requires grpcio>=1.71.0, but you have grpcio 1.67.1 which is incompatible.\n",
      "gcsfs 2025.3.2 requires fsspec==2025.3.2, but you have fsspec 2025.3.0 which is incompatible.\u001b[0m\u001b[31m\n",
      "\u001b[0m"
     ]
    }
   ],
   "source": [
    "!pip install -qU beir sentence-transformers pymilvus datasets pycryptodome"
   ]
  },
  {
   "cell_type": "code",
   "execution_count": 2,
   "metadata": {
    "colab": {
     "base_uri": "https://localhost:8080/"
    },
    "id": "CsT0EcFZBh_w",
    "outputId": "6db0c0e0-210d-4a23-98e8-c8a1a27f220c"
   },
   "outputs": [
    {
     "name": "stdout",
     "output_type": "stream",
     "text": [
      "\u001b[2K     \u001b[90m━━━━━━━━━━━━━━━━━━━━━━━━━━━━━━━━━━━━━━━\u001b[0m \u001b[32m663.9/663.9 MB\u001b[0m \u001b[31m2.8 MB/s\u001b[0m eta \u001b[36m0:00:00\u001b[0m\n",
      "\u001b[2K     \u001b[90m━━━━━━━━━━━━━━━━━━━━━━━━━━━━━━━━━━━━━━━\u001b[0m \u001b[32m147.8/147.8 MB\u001b[0m \u001b[31m6.8 MB/s\u001b[0m eta \u001b[36m0:00:00\u001b[0m\n",
      "\u001b[2K   \u001b[90m━━━━━━━━━━━━━━━━━━━━━━━━━━━━━━━━━━━━━━━━\u001b[0m \u001b[32m905.3/905.3 MB\u001b[0m \u001b[31m1.4 MB/s\u001b[0m eta \u001b[36m0:00:00\u001b[0m\n",
      "\u001b[2K   \u001b[90m━━━━━━━━━━━━━━━━━━━━━━━━━━━━━━━━━━━━━━━━\u001b[0m \u001b[32m417.9/417.9 MB\u001b[0m \u001b[31m1.4 MB/s\u001b[0m eta \u001b[36m0:00:00\u001b[0m\n",
      "\u001b[2K   \u001b[90m━━━━━━━━━━━━━━━━━━━━━━━━━━━━━━━━━━━━━━━━\u001b[0m \u001b[32m13.1/13.1 MB\u001b[0m \u001b[31m110.6 MB/s\u001b[0m eta \u001b[36m0:00:00\u001b[0m\n",
      "\u001b[2K   \u001b[90m━━━━━━━━━━━━━━━━━━━━━━━━━━━━━━━━━━━━━━━━\u001b[0m \u001b[32m23.2/23.2 MB\u001b[0m \u001b[31m98.2 MB/s\u001b[0m eta \u001b[36m0:00:00\u001b[0m\n",
      "\u001b[2K   \u001b[90m━━━━━━━━━━━━━━━━━━━━━━━━━━━━━━━━━━━━━━━━\u001b[0m \u001b[32m875.6/875.6 kB\u001b[0m \u001b[31m61.5 MB/s\u001b[0m eta \u001b[36m0:00:00\u001b[0m\n",
      "\u001b[2K   \u001b[90m━━━━━━━━━━━━━━━━━━━━━━━━━━━━━━━━━━━━━━━━\u001b[0m \u001b[32m168.4/168.4 MB\u001b[0m \u001b[31m6.4 MB/s\u001b[0m eta \u001b[36m0:00:00\u001b[0m\n",
      "\u001b[2K   \u001b[90m━━━━━━━━━━━━━━━━━━━━━━━━━━━━━━━━━━━━━━━━\u001b[0m \u001b[32m58.1/58.1 MB\u001b[0m \u001b[31m14.0 MB/s\u001b[0m eta \u001b[36m0:00:00\u001b[0m\n",
      "\u001b[2K   \u001b[90m━━━━━━━━━━━━━━━━━━━━━━━━━━━━━━━━━━━━━━━━\u001b[0m \u001b[32m128.2/128.2 MB\u001b[0m \u001b[31m8.2 MB/s\u001b[0m eta \u001b[36m0:00:00\u001b[0m\n",
      "\u001b[2K   \u001b[90m━━━━━━━━━━━━━━━━━━━━━━━━━━━━━━━━━━━━━━━━\u001b[0m \u001b[32m204.1/204.1 MB\u001b[0m \u001b[31m5.6 MB/s\u001b[0m eta \u001b[36m0:00:00\u001b[0m\n",
      "\u001b[2K   \u001b[90m━━━━━━━━━━━━━━━━━━━━━━━━━━━━━━━━━━━━━━━━\u001b[0m \u001b[32m99.1/99.1 kB\u001b[0m \u001b[31m9.6 MB/s\u001b[0m eta \u001b[36m0:00:00\u001b[0m\n",
      "\u001b[2K   \u001b[90m━━━━━━━━━━━━━━━━━━━━━━━━━━━━━━━━━━━━━━━━\u001b[0m \u001b[32m155.7/155.7 MB\u001b[0m \u001b[31m6.5 MB/s\u001b[0m eta \u001b[36m0:00:00\u001b[0m\n",
      "\u001b[2K   \u001b[90m━━━━━━━━━━━━━━━━━━━━━━━━━━━━━━━━━━━━━━━━\u001b[0m \u001b[32m6.7/6.7 MB\u001b[0m \u001b[31m100.8 MB/s\u001b[0m eta \u001b[36m0:00:00\u001b[0m\n",
      "\u001b[2K   \u001b[90m━━━━━━━━━━━━━━━━━━━━━━━━━━━━━━━━━━━━━━━━\u001b[0m \u001b[32m6.3/6.3 MB\u001b[0m \u001b[31m122.6 MB/s\u001b[0m eta \u001b[36m0:00:00\u001b[0m\n",
      "\u001b[?25h\u001b[31mERROR: pip's dependency resolver does not currently take into account all the packages that are installed. This behaviour is the source of the following dependency conflicts.\n",
      "fastai 2.7.19 requires torch<2.7,>=1.10, but you have torch 2.7.1+cu118 which is incompatible.\n",
      "torchaudio 2.6.0+cu124 requires torch==2.6.0, but you have torch 2.7.1+cu118 which is incompatible.\u001b[0m\u001b[31m\n",
      "\u001b[0m"
     ]
    }
   ],
   "source": [
    "!pip install --upgrade --quiet torch torchvision --extra-index-url https://download.pytorch.org/whl/cu118"
   ]
  },
  {
   "cell_type": "code",
   "execution_count": 3,
   "metadata": {
    "colab": {
     "base_uri": "https://localhost:8080/"
    },
    "id": "zUKH5xL6yQY-",
    "outputId": "018ac613-525f-4a51-b0aa-8114e47a0c49"
   },
   "outputs": [
    {
     "name": "stderr",
     "output_type": "stream",
     "text": [
      "/usr/local/lib/python3.11/dist-packages/beir/util.py:11: TqdmExperimentalWarning: Using `tqdm.autonotebook.tqdm` in notebook mode. Use `tqdm.tqdm` instead to force console mode (e.g. in jupyter console)\n",
      "  from tqdm.autonotebook import tqdm\n"
     ]
    }
   ],
   "source": [
    "import os\n",
    "from beir import util\n",
    "from beir.datasets.data_loader import GenericDataLoader\n",
    "from beir.retrieval.evaluation import EvaluateRetrieval\n",
    "import pandas as pd\n",
    "from pymilvus import MilvusClient, FieldSchema, DataType, CollectionSchema, Collection\n",
    "from sentence_transformers import SentenceTransformer\n",
    "import torch\n",
    "from google.colab import userdata\n",
    "from tqdm.auto import tqdm\n",
    "import matplotlib.pyplot as plt\n",
    "import seaborn as sns\n",
    "import base64\n",
    "import time\n",
    "import numpy as np\n",
    "import sys\n",
    "import os\n",
    "import random"
   ]
  },
  {
   "cell_type": "code",
   "execution_count": 4,
   "metadata": {
    "id": "NaH6m8MoUV4G"
   },
   "outputs": [],
   "source": [
    "sys.path.append(os.getcwd())\n",
    "import dcpe"
   ]
  },
  {
   "cell_type": "code",
   "execution_count": 5,
   "metadata": {
    "id": "gjS56drAW9Et"
   },
   "outputs": [],
   "source": [
    "DCPE_KEY = dcpe.DCPEKey.generate_random(scaling_factor=1.2) # Using a scaling factor of 1.2\n",
    "DCPE_APPROXIMATION_FACTOR = 1.0 # Using an approximation factor of 1.0 for a good tradeoff between sceurity and accuracy"
   ]
  },
  {
   "cell_type": "markdown",
   "metadata": {
    "id": "HgaeW_U57GEJ"
   },
   "source": [
    "# Load Datasets\n",
    "We're using 3 datasets from the BEIR datasets - nfcorpus, fiqa and scidocs (https://huggingface.co/datasets/BeIR/beir)"
   ]
  },
  {
   "cell_type": "code",
   "execution_count": 6,
   "metadata": {
    "id": "9nzKsJgx31vU"
   },
   "outputs": [],
   "source": [
    "datasets_to_load = [\"nfcorpus\", \"fiqa\", \"scidocs\"]\n",
    "beir_data_path = \"./beir_datasets\" # Local directory to store BEIR data\n",
    "os.makedirs(beir_data_path, exist_ok=True)\n",
    "loaded_beir_data = {}"
   ]
  },
  {
   "cell_type": "code",
   "execution_count": 7,
   "metadata": {
    "colab": {
     "base_uri": "https://localhost:8080/",
     "height": 750,
     "referenced_widgets": [
      "29806967b47a429d9a509869a753a870",
      "3d624e61ba7f40398b3f1e4d728da15b",
      "61665547e3454723899758a81d43950c",
      "df8ade1db2e347a495511b6985e1a4a6",
      "c564b9b3c8bf4b42b6ac87f1227440aa",
      "17fdc145baca4d53823d8df98d562cf5",
      "9985abebdecf4a1693381982d12f7c76",
      "6dad8aa1c5794b3fad818cf6d936de71",
      "fbd96b16dd804bba8970ffbeb91fcb19",
      "89611825a1ee485db7331ade9c0cb6f2",
      "419fb5c7bce84bcbbc0a5df6f861d8bf",
      "9485f9cde7ff4c9f8249da3bb13bf75f",
      "1b8cc32913b547909a2f150f1a9c9fab",
      "007a296705fe49ea9f2cfb6c51800190",
      "ad2767f205af489f93419f25c978e094",
      "fcaadcf2cf034e6baf741e1a55c041e9",
      "993f550befd2444784ad688b6cc3a6f9",
      "150fbeb527f447289fb0130f838ee508",
      "c52c4f94e22c4adaaa4edb21d4a575b3",
      "a3dcb3a570a943aa87a3509452165273",
      "d085043a4114470ebdd4d792bf600073",
      "ea001b7e54f84aaf99606c3b1e6cf238",
      "31e9cb1ff15441ef97f6b75053205c88",
      "3cf5e18005a7436f9e59f8fc0e2f4423",
      "d3c054c0d3394244aaf29b799828ba4d",
      "92ca2ddfe114494fad2c6d79cf8061fa",
      "039a786cb4dc411baa0952e5774182e9",
      "d3cbf9e02a384ad2ad045c4e29dc8fd3",
      "7a6104ad8f84423ab28d3ba7ef2be04d",
      "bfd534a74b47428291f28a1cf71d75a3",
      "4d605226e14d4a31aa916e81a085fbfb",
      "c85b0cbe165b4fabae8f6b87c2f7edf4",
      "1d711a8231ab483398316ebb88824643",
      "af4bba7637af41b98e1777df6a2a041c",
      "8176288af1274176921c85c7b6973614",
      "ebb66c5ffdbd47bbaf9b90a43b8d181f",
      "c3497437bc784d20a330147e9044aa3f",
      "1d9c19b425cc44978185fbe5df1a0031",
      "d7009c4f4ddc44f68b9f0d6c0f049d73",
      "9bd99da3f7704243a7891c3aca9d7fe2",
      "10fae3a3539a4cc8abf00d2ef84f75ec",
      "33ab6c8f7aa14862b6d6f7108dfb1293",
      "1a9fcf04067942e3b7ffe38df8323917",
      "bf46015999554a22b4088d77ade2bbe5",
      "2fb66c07d76e4c06a0ba09c48b4f1426",
      "8313cd83f6ed4cd68c176c73a7296dca",
      "f86a06745ab04c06b19892ef60a40e2b",
      "b2be999d2e4f4521ab8ac5b202865136",
      "d020a1d608f94ec4926d0505631e37ed",
      "a2fa32007ddd4fe29fde080349c9d998",
      "e469377b35574d5e9280a74c3c42d427",
      "3e52984dddc7443ca5395ac35314f6d8",
      "f47b4e66a9794dd58a86ab6d760d51cb",
      "3ce50fca324947e18f0515a150c14013",
      "4d45b2abba734fa2ac25462c9a0b4401",
      "9f00a453f751470c9d728f7a330d556e",
      "7556567c879a4e7ab20e66c580d5f412",
      "b082802868d9474fb49056c7120233eb",
      "119e6161cf5646a086b4fc0e530a726f",
      "325f7fa0d7a842f0afaa7699f9e45792",
      "87bdf08380c147f48eae792f9268ff6a",
      "6819456a262c4820b0b2407461704437",
      "928d2fe221b040d7a238d80ace87334c",
      "b193fa3ed5c24e9b81ea1ba69b832d60",
      "9c74ff9d14cc4ddfa863d98b93a8190d",
      "8af18e782100405e974789db1f182b93"
     ]
    },
    "id": "VJJq83bw4NJ3",
    "outputId": "b63971a9-c7f8-458f-d795-6bfa02c2e78a"
   },
   "outputs": [
    {
     "name": "stdout",
     "output_type": "stream",
     "text": [
      "\n",
      "Processing dataset: nfcorpus\n",
      "Downloading nfcorpus from https://public.ukp.informatik.tu-darmstadt.de/thakur/BEIR/datasets/nfcorpus.zip to ./beir_datasets/nfcorpus...\n"
     ]
    },
    {
     "data": {
      "application/vnd.jupyter.widget-view+json": {
       "model_id": "29806967b47a429d9a509869a753a870",
       "version_major": 2,
       "version_minor": 0
      },
      "text/plain": [
       "./beir_datasets/nfcorpus/nfcorpus.zip:   0%|          | 0.00/2.34M [00:00<?, ?iB/s]"
      ]
     },
     "metadata": {},
     "output_type": "display_data"
    },
    {
     "name": "stdout",
     "output_type": "stream",
     "text": [
      "Downloaded nfcorpus to: ./beir_datasets/nfcorpus/nfcorpus\n"
     ]
    },
    {
     "data": {
      "application/vnd.jupyter.widget-view+json": {
       "model_id": "9485f9cde7ff4c9f8249da3bb13bf75f",
       "version_major": 2,
       "version_minor": 0
      },
      "text/plain": [
       "  0%|          | 0/3633 [00:00<?, ?it/s]"
      ]
     },
     "metadata": {},
     "output_type": "display_data"
    },
    {
     "name": "stdout",
     "output_type": "stream",
     "text": [
      "Successfully loaded data for nfcorpus.\n",
      "  Corpus size: 3633 documents\n",
      "  Queries size: 323 queries\n",
      "  Qrels size: 323 relevance judgments\n",
      "  Sample corpus entry (MED-10): Statin Use and Breast Cancer Survival: A Nationwide Cohort Study from Finland - Recent studies have suggested that statins, an established drug group in the prevention of cardiovas...\n",
      "  Sample query entry (PLAIN-2): Do Cholesterol Statin Drugs Cause Breast Cancer?...\n",
      "\n",
      "Processing dataset: fiqa\n",
      "Downloading fiqa from https://public.ukp.informatik.tu-darmstadt.de/thakur/BEIR/datasets/fiqa.zip to ./beir_datasets/fiqa...\n"
     ]
    },
    {
     "data": {
      "application/vnd.jupyter.widget-view+json": {
       "model_id": "31e9cb1ff15441ef97f6b75053205c88",
       "version_major": 2,
       "version_minor": 0
      },
      "text/plain": [
       "./beir_datasets/fiqa/fiqa.zip:   0%|          | 0.00/17.1M [00:00<?, ?iB/s]"
      ]
     },
     "metadata": {},
     "output_type": "display_data"
    },
    {
     "name": "stdout",
     "output_type": "stream",
     "text": [
      "Downloaded fiqa to: ./beir_datasets/fiqa/fiqa\n"
     ]
    },
    {
     "data": {
      "application/vnd.jupyter.widget-view+json": {
       "model_id": "af4bba7637af41b98e1777df6a2a041c",
       "version_major": 2,
       "version_minor": 0
      },
      "text/plain": [
       "  0%|          | 0/57638 [00:00<?, ?it/s]"
      ]
     },
     "metadata": {},
     "output_type": "display_data"
    },
    {
     "name": "stdout",
     "output_type": "stream",
     "text": [
      "Successfully loaded data for fiqa.\n",
      "  Corpus size: 57638 documents\n",
      "  Queries size: 648 queries\n",
      "  Qrels size: 648 relevance judgments\n",
      "  Sample corpus entry (3):  - I'm not saying I don't like the idea of on-the-job training too, but you can't expect the company to...\n",
      "  Sample query entry (8): How to deposit a cheque issued to an associate in my business into my business account?...\n",
      "\n",
      "Processing dataset: scidocs\n",
      "Downloading scidocs from https://public.ukp.informatik.tu-darmstadt.de/thakur/BEIR/datasets/scidocs.zip to ./beir_datasets/scidocs...\n"
     ]
    },
    {
     "data": {
      "application/vnd.jupyter.widget-view+json": {
       "model_id": "2fb66c07d76e4c06a0ba09c48b4f1426",
       "version_major": 2,
       "version_minor": 0
      },
      "text/plain": [
       "./beir_datasets/scidocs/scidocs.zip:   0%|          | 0.00/136M [00:00<?, ?iB/s]"
      ]
     },
     "metadata": {},
     "output_type": "display_data"
    },
    {
     "name": "stdout",
     "output_type": "stream",
     "text": [
      "Downloaded scidocs to: ./beir_datasets/scidocs/scidocs\n"
     ]
    },
    {
     "data": {
      "application/vnd.jupyter.widget-view+json": {
       "model_id": "9f00a453f751470c9d728f7a330d556e",
       "version_major": 2,
       "version_minor": 0
      },
      "text/plain": [
       "  0%|          | 0/25657 [00:00<?, ?it/s]"
      ]
     },
     "metadata": {},
     "output_type": "display_data"
    },
    {
     "name": "stdout",
     "output_type": "stream",
     "text": [
      "Successfully loaded data for scidocs.\n",
      "  Corpus size: 25657 documents\n",
      "  Queries size: 1000 queries\n",
      "  Qrels size: 1000 relevance judgments\n",
      "  Sample corpus entry (632589828c8b9fca2c3a59e97451fde8fa7d188d): A hybrid of genetic algorithm and particle swarm optimization for recurrent network design - An evolutionary recurrent network which automates the design of recurrent neural/fuzzy networks usin...\n",
      "  Sample query entry (78495383450e02c5fe817e408726134b3084905d): A Direct Search Method to solve Economic Dispatch Problem with Valve-Point Effect...\n"
     ]
    }
   ],
   "source": [
    "for dataset_name in datasets_to_load:\n",
    "    print(f\"\\nProcessing dataset: {dataset_name}\")\n",
    "\n",
    "    # Step 3a: Download the dataset\n",
    "    url = f\"https://public.ukp.informatik.tu-darmstadt.de/thakur/BEIR/datasets/{dataset_name}.zip\"\n",
    "    out_dir = os.path.join(beir_data_path, dataset_name)\n",
    "\n",
    "    if not os.path.exists(out_dir):\n",
    "        print(f\"Downloading {dataset_name} from {url} to {out_dir}...\")\n",
    "        data_path = util.download_and_unzip(url, out_dir)\n",
    "        print(f\"Downloaded {dataset_name} to: {data_path}\")\n",
    "    else:\n",
    "        print(f\"Dataset {dataset_name} already exists at {out_dir}. Skipping download.\")\n",
    "        data_path = out_dir\n",
    "\n",
    "    # Step 3b: Load the corpus, queries, and qrels\n",
    "    try:\n",
    "        corpus, queries, qrels = GenericDataLoader(data_folder=data_path).load(split=\"test\")\n",
    "        loaded_beir_data[dataset_name] = {\n",
    "            \"corpus\": corpus,\n",
    "            \"queries\": queries,\n",
    "            \"qrels\": qrels\n",
    "        }\n",
    "        print(f\"Successfully loaded data for {dataset_name}.\")\n",
    "        print(f\"  Corpus size: {len(corpus)} documents\")\n",
    "        print(f\"  Queries size: {len(queries)} queries\")\n",
    "        print(f\"  Qrels size: {len(qrels)} relevance judgments\")\n",
    "\n",
    "        # Print a sample document and query to verify\n",
    "        if len(corpus) > 0:\n",
    "            sample_doc_id = list(corpus.keys())[0]\n",
    "            print(f\"  Sample corpus entry ({sample_doc_id}): {corpus[sample_doc_id]['title']} - {corpus[sample_doc_id]['text'][:100]}...\")\n",
    "        if len(queries) > 0:\n",
    "            sample_query_id = list(queries.keys())[0]\n",
    "            print(f\"  Sample query entry ({sample_query_id}): {queries[sample_query_id][:100]}...\")\n",
    "\n",
    "    except Exception as e:\n",
    "        print(f\"Error loading {dataset_name}: {e}\")"
   ]
  },
  {
   "cell_type": "markdown",
   "metadata": {
    "id": "pvbxK7o_gnOm"
   },
   "source": [
    "### Using subsets of data"
   ]
  },
  {
   "cell_type": "code",
   "execution_count": 8,
   "metadata": {
    "id": "ZXkMNge-goVz"
   },
   "outputs": [],
   "source": [
    "SUBSET_QUERY_PERCENTAGE = 0.05\n",
    "RANDOM_SEED = 42 # VERY IMPORTANT: Use a fixed seed for reproducibility!\n",
    "\n",
    "random.seed(RANDOM_SEED)\n",
    "subset_beir_data = {}"
   ]
  },
  {
   "cell_type": "code",
   "execution_count": 9,
   "metadata": {
    "colab": {
     "base_uri": "https://localhost:8080/"
    },
    "id": "FCR6_Iy8gqDV",
    "outputId": "71a52356-7b3b-48bb-9605-f1300589aea6"
   },
   "outputs": [
    {
     "name": "stdout",
     "output_type": "stream",
     "text": [
      "\n",
      "Creating subset for dataset: nfcorpus\n",
      "  Selected 16 queries (out of 323)\n",
      "  Selected 713 documents relevant to the query subset.\n",
      "  Filtered qrels to 16 queries with relevant documents in the new corpus subset.\n",
      "\n",
      "Creating subset for dataset: fiqa\n",
      "  Selected 32 queries (out of 648)\n",
      "  Selected 100 documents relevant to the query subset.\n",
      "  Filtered qrels to 32 queries with relevant documents in the new corpus subset.\n",
      "\n",
      "Creating subset for dataset: scidocs\n",
      "  Selected 50 queries (out of 1000)\n",
      "  Selected 241 documents relevant to the query subset.\n",
      "  Filtered qrels to 50 queries with relevant documents in the new corpus subset.\n"
     ]
    }
   ],
   "source": [
    "for dataset_name, data in loaded_beir_data.items():\n",
    "    print(f\"\\nCreating subset for dataset: {dataset_name}\")\n",
    "\n",
    "    corpus = data[\"corpus\"]\n",
    "    queries = data[\"queries\"]\n",
    "    qrels = data[\"qrels\"]\n",
    "\n",
    "    # Create a subset of queries ---\n",
    "    num_queries_subset = int(len(queries) * SUBSET_QUERY_PERCENTAGE)\n",
    "    query_ids = list(queries.keys())\n",
    "    # Ensure there are queries to sample from\n",
    "    if num_queries_subset > 0 and len(query_ids) >= num_queries_subset:\n",
    "        subset_query_ids = set(random.sample(query_ids, num_queries_subset))\n",
    "    else:\n",
    "        subset_query_ids = set(query_ids) # Use all if subset is too small or percentage is 100%\n",
    "\n",
    "    subset_queries = {qid: queries[qid] for qid in subset_query_ids}\n",
    "    print(f\"  Selected {len(subset_queries)} queries (out of {len(queries)})\")\n",
    "\n",
    "    # Create a corpus subset containing only relevant documents for the query subset ---\n",
    "    # This is a better approach than random corpus sampling for ensuring evaluation is meaningful.\n",
    "    relevant_corpus_ids = set()\n",
    "    for qid in subset_query_ids:\n",
    "        if qid in qrels:\n",
    "            for doc_id, score in qrels[qid].items():\n",
    "                if score > 0: # A score > 0 indicates relevance\n",
    "                    relevant_corpus_ids.add(doc_id)\n",
    "\n",
    "    # Filter the main corpus to only include these relevant documents\n",
    "    subset_corpus = {cid: corpus[cid] for cid in relevant_corpus_ids if cid in corpus}\n",
    "    print(f\"  Selected {len(subset_corpus)} documents relevant to the query subset.\")\n",
    "\n",
    "    # Filter qrels to match the new query and corpus subsets ---\n",
    "    subset_qrels = {}\n",
    "    for qid, doc_scores in qrels.items():\n",
    "        if qid in subset_query_ids: # Only consider queries in our subset\n",
    "            filtered_scores = {did: score for did, score in doc_scores.items() if did in subset_corpus}\n",
    "            if filtered_scores: # Only add the query if it has relevant docs in the subset\n",
    "                subset_qrels[qid] = filtered_scores\n",
    "    print(f\"  Filtered qrels to {len(subset_qrels)} queries with relevant documents in the new corpus subset.\")\n",
    "\n",
    "\n",
    "    # Store the new subset data ---\n",
    "    subset_beir_data[dataset_name] = {\n",
    "        \"corpus\": subset_corpus,\n",
    "        \"queries\": subset_queries,\n",
    "        \"qrels\": subset_qrels\n",
    "    }"
   ]
  },
  {
   "cell_type": "markdown",
   "metadata": {
    "id": "VWIoxEHH7S4J"
   },
   "source": [
    "# Ingest data in Zilliz Vector DB"
   ]
  },
  {
   "cell_type": "code",
   "execution_count": 10,
   "metadata": {
    "id": "dsoo7s3L4RNY"
   },
   "outputs": [],
   "source": [
    "ZILLIZ_CLOUD_URI = userdata.get(\"ZILLIZ_ENDPOINT\")\n",
    "ZILLIZ_CLOUD_API_KEY = userdata.get(\"ZILLIZ_TOKEN\")"
   ]
  },
  {
   "cell_type": "code",
   "execution_count": 11,
   "metadata": {
    "id": "v19uRfE3ENYK"
   },
   "outputs": [],
   "source": [
    "zilliz_client = MilvusClient(\n",
    "        uri=ZILLIZ_CLOUD_URI,\n",
    "        token=ZILLIZ_CLOUD_API_KEY\n",
    "    )"
   ]
  },
  {
   "cell_type": "markdown",
   "metadata": {
    "id": "4kKr-cGF7ef5"
   },
   "source": [
    "Using all-MiniLM-L6-v2 embedding model from HuggingFace SentenceTransformers Library. It generates embeddings of 384 dimensions.\n",
    "\n"
   ]
  },
  {
   "cell_type": "code",
   "execution_count": 12,
   "metadata": {
    "colab": {
     "base_uri": "https://localhost:8080/",
     "height": 528,
     "referenced_widgets": [
      "6d6232fe8eec44d3865629ddcd25c4d0",
      "2b986b71c2134a27a33af720c5456f57",
      "6626c5c517404286bec639b025615876",
      "2632c44b116e46f9974570988094cab0",
      "fa9f9de81bbf492885b2d757c2693177",
      "d8ef2a32ed164f1c86760dd5e0aebf10",
      "588d2ea927cf48aba0c518e449759190",
      "2d4c9b750bb440169752704c90df7459",
      "7dd6ac19d4fb4514b888ace6dd17da54",
      "9abdd65aeaad4353b1207c2b6ff76eeb",
      "8fe17d8be5e5418d8e21e7d6510a300c",
      "9bd55fb181bd4a169a209c8c8586b091",
      "6f589242182448b8bbd0480f79d88c37",
      "acc3dbfd1bd84cf8b12036c2ac130cff",
      "78028a025aac4bc7a9a107727c174ec6",
      "1dd6837ac19443d88bbe740056de61b7",
      "b63a207c219a41688faa14a2c1d7fd2f",
      "080f6dac3bba4d69b14cebe014a4226c",
      "d7eb61f6c58f4813984ff4612a7f4beb",
      "232dbb69a0d946c29066c3fec0d79137",
      "50788a7a636245b3b8880fdd69c67898",
      "a0709a277d9441859ea70ab37f20e2a2",
      "0eeefc0201fd4649943f39a3896da85f",
      "44bf8948f9c948d6bda8305dfaecf3a3",
      "3ea5c6f53c784bb69c756b98d4bc0eb3",
      "3ca211b0be194bdd9df2a1fe34a2d891",
      "ed63c960ea63481e9d5d34b9528f2164",
      "1cb3d65c667c449bb44a393e21cec54a",
      "2ea0cdd425274a8b9fa056f1d477c94c",
      "293365624f7b4d7e9eb3c89a15280208",
      "2895fa1dc7984ed4938c2d816ebd854e",
      "8fbebfc6567f4b1c8611a03e374a5ba7",
      "3147522a21b141db87139ea6663ae560",
      "6748cc6dcb234d80a969898fb5fb77ff",
      "538f90ec3c3748bcb46cbca0b949d0ad",
      "e415265c585b43c7a1dc60802bf2d025",
      "8c5c8d5403ae4d6d8509dbb57bd5ae69",
      "efccb83b637241a48992d4300259b947",
      "a2230b5ffc4a4ae1a6819ef2b640780c",
      "983097a30702472ebcb22977ee1e06b7",
      "da7962df24f746dbbffb5d743be606ed",
      "9e61b9835dba494ca03bdd06527d6967",
      "eb72cb4b08274a41ba97b9f599e0e3f1",
      "11455ff0c57c4c07b27bab0fa60888fc",
      "8edcd36c2947455fb364f0b07d2c92a8",
      "1f2de14e169841588076438d4c867121",
      "40e6746c457c43e0bb42c1c4d021c6ca",
      "cf4b32033cca4065bd45a4718414ebcd",
      "5acccf11945542b48fa2812d0a83238a",
      "b518e0cae86442008cafa7ea6fa25969",
      "756ad773640642baa7def4c4e4cd4a8d",
      "d8a6c99ee3364a3eb3284d33352b731a",
      "81f3e7cce14b49429a4b1d51ad9c46be",
      "707b7cad3a8542dfbc675f4960422bb6",
      "5fdf4b5be81e49f3abfc01eecfa1297b",
      "1f932704bbd34ade822e520261ebc132",
      "f2acf1385b1948f09328bb4a3b7dc27b",
      "988571e9ed3943d3b7289c54e52d453e",
      "9cfe76702dc741cea5b37b3b5c0fbaa9",
      "916d21926a0742e8a2dbf40e02c9e7e7",
      "f9f1aff49acc4da9906651975af22e75",
      "7a9155859d3144ce85404a818e878d81",
      "5f253967e8544f2d88d9c0e7ccd4f18f",
      "6eb40980c13345a3bd4758ff3647c6f6",
      "dc53f1286f7a4700af1eef1e9cf431db",
      "c5c6cf41ef2e4bc3ac9779184f73809f",
      "2408522a8b104993bac1e61da7f71afe",
      "7e25f9ac6ab04061984c208d623821ef",
      "196b9bc5bcfa4df3b47b0076c5797f6a",
      "9a383857d5314e71abdd33585c1b641d",
      "0bb50831b13743f69997b1aef78fb836",
      "0c045089b8a7494ca0cf800ee58fdc49",
      "55b175d99ca546d7b708280315ace22e",
      "70de2b4ca31847188bd363ab2fd5b7c5",
      "9a5def2a943140f4a6e50ef07575d46b",
      "18d8566749644a2ba83f1956a26d8076",
      "68bc901cb7284646ad651e03fdfd5381",
      "9a81277c76eb4cea9641e0d0b6bcdb0e",
      "5a2217a60cd84c04abca98d8d1173abb",
      "fda00742ae0e4bf0b7fc6470bd56969f",
      "1a359ebe172c4a85926b71da1641c5ac",
      "56d3112b75954e5da195b200d875e935",
      "0550da4af12f4cf8ba366f2d9a022708",
      "7345fa6cba2e42afbaa7e7400ef0fead",
      "4860c8d5b033402b94ab57f2704aac22",
      "67acc9d7e5124569be0c47558bbd40c1",
      "1dd50a69593a4bc79531b7d89ca3e896",
      "287210b0f00c4f4c84415215c139b293",
      "0b794a627747439c83ddd788790ccd6b",
      "6d8b5d3a10d047478ea0f1a0af5fac93",
      "b9bd95f044b1423ea59d88d8c1bdf151",
      "f43c860ba2404ddcbf8da5fde48c5303",
      "1cab481548cf4196ba15bc194383d166",
      "7a1005270b6146288921d94939d30566",
      "bdbbbc417448484aad2ee854f39f683e",
      "c5c40716190c431ea3db5484b916a6fa",
      "685a9988a67a487888f985d7a74ca4b7",
      "e9e310f6abdb4f92827b91c80836869c",
      "ec60dc07a6d34835ae49c42f94941592",
      "cbc3c2c846044d1c8ec79c3615f2532b",
      "c5fe9d4b24734588bfe93cb2440c7ebd",
      "dcc2a7b2da434943adad00e54662eaaf",
      "8cd682d69e3e4508856d8ab375dcd249",
      "646ca2757e8b448883a466c2e0d89fa5",
      "f1c7dd8051594035ae9a84f70ea07120",
      "1efd3085c20f4bf4add3422a41d297c5",
      "e1ac90687e82415cb671262493868c85",
      "0e3915d1eff74acaab75136a5d26ee98",
      "c7e7920abbc841228ae57343541058d6",
      "baa7b166c5a74be4aaa165b464eb3e2f",
      "f18ca4ec53a04dafb8107e39fd624857",
      "dce792f57fd34c0696dcf7b9d1bb21d5",
      "1bf43eb83fa04756ab1f935bac44d9ca",
      "fe6af1c324bd4af384661241b49817d1",
      "8f11d554a01e4e59b039ebf7df3bc590",
      "b5960c72217e4954b04bf3438146cd72",
      "ced0ecc15b9242b1975401a5a29c9bd6",
      "426297beb59540cbab0de47470526e95",
      "a0856372de344a1896f1d4f12278676a",
      "f860269e1455456da8618abb5c428c45",
      "3e5d29a298274295b390a523df8d101d"
     ]
    },
    "id": "0vD4EAxbEW01",
    "outputId": "d5f6e37c-c0bc-4598-9113-d50b6a8df49e"
   },
   "outputs": [
    {
     "name": "stderr",
     "output_type": "stream",
     "text": [
      "/usr/local/lib/python3.11/dist-packages/huggingface_hub/utils/_auth.py:94: UserWarning: \n",
      "The secret `HF_TOKEN` does not exist in your Colab secrets.\n",
      "To authenticate with the Hugging Face Hub, create a token in your settings tab (https://huggingface.co/settings/tokens), set it as secret in your Google Colab and restart your session.\n",
      "You will be able to reuse this secret in all of your notebooks.\n",
      "Please note that authentication is recommended but still optional to access public models or datasets.\n",
      "  warnings.warn(\n"
     ]
    },
    {
     "data": {
      "application/vnd.jupyter.widget-view+json": {
       "model_id": "6d6232fe8eec44d3865629ddcd25c4d0",
       "version_major": 2,
       "version_minor": 0
      },
      "text/plain": [
       "modules.json:   0%|          | 0.00/349 [00:00<?, ?B/s]"
      ]
     },
     "metadata": {},
     "output_type": "display_data"
    },
    {
     "data": {
      "application/vnd.jupyter.widget-view+json": {
       "model_id": "9bd55fb181bd4a169a209c8c8586b091",
       "version_major": 2,
       "version_minor": 0
      },
      "text/plain": [
       "config_sentence_transformers.json:   0%|          | 0.00/116 [00:00<?, ?B/s]"
      ]
     },
     "metadata": {},
     "output_type": "display_data"
    },
    {
     "data": {
      "application/vnd.jupyter.widget-view+json": {
       "model_id": "0eeefc0201fd4649943f39a3896da85f",
       "version_major": 2,
       "version_minor": 0
      },
      "text/plain": [
       "README.md: 0.00B [00:00, ?B/s]"
      ]
     },
     "metadata": {},
     "output_type": "display_data"
    },
    {
     "data": {
      "application/vnd.jupyter.widget-view+json": {
       "model_id": "6748cc6dcb234d80a969898fb5fb77ff",
       "version_major": 2,
       "version_minor": 0
      },
      "text/plain": [
       "sentence_bert_config.json:   0%|          | 0.00/53.0 [00:00<?, ?B/s]"
      ]
     },
     "metadata": {},
     "output_type": "display_data"
    },
    {
     "data": {
      "application/vnd.jupyter.widget-view+json": {
       "model_id": "8edcd36c2947455fb364f0b07d2c92a8",
       "version_major": 2,
       "version_minor": 0
      },
      "text/plain": [
       "config.json:   0%|          | 0.00/612 [00:00<?, ?B/s]"
      ]
     },
     "metadata": {},
     "output_type": "display_data"
    },
    {
     "data": {
      "application/vnd.jupyter.widget-view+json": {
       "model_id": "1f932704bbd34ade822e520261ebc132",
       "version_major": 2,
       "version_minor": 0
      },
      "text/plain": [
       "model.safetensors:   0%|          | 0.00/90.9M [00:00<?, ?B/s]"
      ]
     },
     "metadata": {},
     "output_type": "display_data"
    },
    {
     "data": {
      "application/vnd.jupyter.widget-view+json": {
       "model_id": "2408522a8b104993bac1e61da7f71afe",
       "version_major": 2,
       "version_minor": 0
      },
      "text/plain": [
       "tokenizer_config.json:   0%|          | 0.00/350 [00:00<?, ?B/s]"
      ]
     },
     "metadata": {},
     "output_type": "display_data"
    },
    {
     "data": {
      "application/vnd.jupyter.widget-view+json": {
       "model_id": "9a81277c76eb4cea9641e0d0b6bcdb0e",
       "version_major": 2,
       "version_minor": 0
      },
      "text/plain": [
       "vocab.txt: 0.00B [00:00, ?B/s]"
      ]
     },
     "metadata": {},
     "output_type": "display_data"
    },
    {
     "data": {
      "application/vnd.jupyter.widget-view+json": {
       "model_id": "0b794a627747439c83ddd788790ccd6b",
       "version_major": 2,
       "version_minor": 0
      },
      "text/plain": [
       "tokenizer.json: 0.00B [00:00, ?B/s]"
      ]
     },
     "metadata": {},
     "output_type": "display_data"
    },
    {
     "data": {
      "application/vnd.jupyter.widget-view+json": {
       "model_id": "cbc3c2c846044d1c8ec79c3615f2532b",
       "version_major": 2,
       "version_minor": 0
      },
      "text/plain": [
       "special_tokens_map.json:   0%|          | 0.00/112 [00:00<?, ?B/s]"
      ]
     },
     "metadata": {},
     "output_type": "display_data"
    },
    {
     "data": {
      "application/vnd.jupyter.widget-view+json": {
       "model_id": "f18ca4ec53a04dafb8107e39fd624857",
       "version_major": 2,
       "version_minor": 0
      },
      "text/plain": [
       "config.json:   0%|          | 0.00/190 [00:00<?, ?B/s]"
      ]
     },
     "metadata": {},
     "output_type": "display_data"
    },
    {
     "name": "stdout",
     "output_type": "stream",
     "text": [
      "Model 'all-MiniLM-L6-v2' loaded successfully on cuda.\n",
      "Model output dimension: 384\n"
     ]
    }
   ],
   "source": [
    "device = \"cuda\" if torch.cuda.is_available() else \"cpu\"\n",
    "\n",
    "# Load the model\n",
    "try:\n",
    "    embedding_model = SentenceTransformer(\"all-MiniLM-L6-v2\", device=device)\n",
    "    print(f\"Model 'all-MiniLM-L6-v2' loaded successfully on {device}.\")\n",
    "    # Verify model output dimension (all-MiniLM-L6-v2 has 384 dimensions)\n",
    "    dummy_embedding = embedding_model.encode(\"test sentence\")\n",
    "    print(f\"Model output dimension: {len(dummy_embedding)}\")\n",
    "\n",
    "except Exception as e:\n",
    "    print(f\"Failed to load embedding model: {e}\")"
   ]
  },
  {
   "cell_type": "markdown",
   "metadata": {
    "id": "HDb7ObBl7wFX"
   },
   "source": [
    "Batch ingestion"
   ]
  },
  {
   "cell_type": "code",
   "execution_count": 13,
   "metadata": {
    "id": "ZUheTEgNFARP"
   },
   "outputs": [],
   "source": [
    "DIMENSION = 384 # Dimension for all-MiniLM-L6-v2\n",
    "BATCH_SIZE = 64\n",
    "embedding_model = SentenceTransformer(\"all-MiniLM-L6-v2\")\n",
    "ingestion_metrics = {}"
   ]
  },
  {
   "cell_type": "code",
   "execution_count": 14,
   "metadata": {
    "colab": {
     "base_uri": "https://localhost:8080/",
     "height": 738,
     "referenced_widgets": [
      "afd8c10950754af987138a7a63c23a77",
      "2f2b3e08a2354c36941c9af5ad274530",
      "ca85ea7d12db4a8fab36ea786254de28",
      "04131d993edb47069eecb24a8405c832",
      "ebbad509d3214a30a1fe3e4971953d70",
      "7f5294b9353246259c308b2e1b03ff5c",
      "9fd5be746d6a4a32954d011ca0d35941",
      "9d3f35558d8a436daa7970852ba6d37a",
      "07106403499d403ea4a11828f2bbeeb8",
      "7bf3fd41837847a5a6ea2bcfae578ec9",
      "2d496477316d4793acaa0dcee158fe4e",
      "9e6f108553ec457d941c3ff4a311a001",
      "85d8f4fdac1046259ecd846d7b32ee0e",
      "a5dae8ec0e4a418cb58e75d43d6cc500",
      "9d8b75ddce6441019556cb05c26bb2cb",
      "432583bbee2f484f99cef69d0fe9fb5a",
      "05fb4a497876411b9a36a72e6d8b55cf",
      "ef154a86853644f8b1f5dfd0dc782ace",
      "4c3b85928c66408caa45a7b3c36d22b0",
      "8461e6ef4856408cbc0f542511bf849d",
      "f155b26ec2834cb6a553d6f374a14af2",
      "2ea4f3475a5547dabc126c96ec1a4671",
      "cb002f86d1744bf5928fd16c50d7e7bd",
      "75d20b52fddd4c10b37ad4e9c55376f4",
      "0d5575dc65c547d5b805ba5b64ad9dc9",
      "2e057ddee82342f6900471b4224a3831",
      "6a1cbf4da8784441899d3214161cd4a2",
      "d456282eff0b4eef8834e551c5c19c4b",
      "6a24d0ed6c78476eae549b99a14f190c",
      "d7db36552ca149b38988dd9352b7d2ae",
      "589113224d0448a997a5b196153b94e2",
      "9d75f5f57bab4daf8709038b609479a4",
      "020e69a4528b439295a780c95bf43126"
     ]
    },
    "id": "UUW7qqZkG9tF",
    "outputId": "2c07752c-f833-48ce-bd1a-f43dbfd422eb"
   },
   "outputs": [
    {
     "name": "stdout",
     "output_type": "stream",
     "text": [
      "\n",
      "Processing Zilliz ingestion for dataset: nfcorpus\n",
      "Collection 'subset_beir_nfcorpus_dcpe' already exists. Dropping and recreating.\n",
      "Creating collection 'subset_beir_nfcorpus_dcpe'...\n",
      "Collection 'subset_beir_nfcorpus_dcpe' created successfully.\n",
      "Generating embeddings and inserting encrypted data for 'nfcorpus' corpus (713 documents)...\n"
     ]
    },
    {
     "data": {
      "application/vnd.jupyter.widget-view+json": {
       "model_id": "afd8c10950754af987138a7a63c23a77",
       "version_major": 2,
       "version_minor": 0
      },
      "text/plain": [
       "Ingesting nfcorpus:   0%|          | 0/12 [00:00<?, ?it/s]"
      ]
     },
     "metadata": {},
     "output_type": "display_data"
    },
    {
     "name": "stdout",
     "output_type": "stream",
     "text": [
      "Finished inserting encrypted data for 'nfcorpus'. Total ingestion time: 11.44 seconds\n",
      "Estimated encrypted embedding data size for 'nfcorpus': 1.13 MB (including IV/AuthHash as VARCHAR)\n",
      "Creating HNSW index for 'subset_beir_nfcorpus_dcpe'...\n",
      "HNSW index created for 'subset_beir_nfcorpus_dcpe'.\n",
      "Loading collection 'subset_beir_nfcorpus_dcpe' into memory...\n",
      "Collection 'subset_beir_nfcorpus_dcpe' loaded successfully.\n",
      "\n",
      "Processing Zilliz ingestion for dataset: fiqa\n",
      "Collection 'subset_beir_fiqa_dcpe' already exists. Dropping and recreating.\n",
      "Creating collection 'subset_beir_fiqa_dcpe'...\n",
      "Collection 'subset_beir_fiqa_dcpe' created successfully.\n",
      "Generating embeddings and inserting encrypted data for 'fiqa' corpus (100 documents)...\n"
     ]
    },
    {
     "data": {
      "application/vnd.jupyter.widget-view+json": {
       "model_id": "9e6f108553ec457d941c3ff4a311a001",
       "version_major": 2,
       "version_minor": 0
      },
      "text/plain": [
       "Ingesting fiqa:   0%|          | 0/2 [00:00<?, ?it/s]"
      ]
     },
     "metadata": {},
     "output_type": "display_data"
    },
    {
     "name": "stdout",
     "output_type": "stream",
     "text": [
      "Finished inserting encrypted data for 'fiqa'. Total ingestion time: 1.38 seconds\n",
      "Estimated encrypted embedding data size for 'fiqa': 0.16 MB (including IV/AuthHash as VARCHAR)\n",
      "Creating HNSW index for 'subset_beir_fiqa_dcpe'...\n",
      "HNSW index created for 'subset_beir_fiqa_dcpe'.\n",
      "Loading collection 'subset_beir_fiqa_dcpe' into memory...\n",
      "Collection 'subset_beir_fiqa_dcpe' loaded successfully.\n",
      "\n",
      "Processing Zilliz ingestion for dataset: scidocs\n",
      "Collection 'subset_beir_scidocs_dcpe' already exists. Dropping and recreating.\n",
      "Creating collection 'subset_beir_scidocs_dcpe'...\n",
      "Collection 'subset_beir_scidocs_dcpe' created successfully.\n",
      "Generating embeddings and inserting encrypted data for 'scidocs' corpus (241 documents)...\n"
     ]
    },
    {
     "data": {
      "application/vnd.jupyter.widget-view+json": {
       "model_id": "cb002f86d1744bf5928fd16c50d7e7bd",
       "version_major": 2,
       "version_minor": 0
      },
      "text/plain": [
       "Ingesting scidocs:   0%|          | 0/4 [00:00<?, ?it/s]"
      ]
     },
     "metadata": {},
     "output_type": "display_data"
    },
    {
     "name": "stdout",
     "output_type": "stream",
     "text": [
      "Finished inserting encrypted data for 'scidocs'. Total ingestion time: 2.74 seconds\n",
      "Estimated encrypted embedding data size for 'scidocs': 0.38 MB (including IV/AuthHash as VARCHAR)\n",
      "Creating HNSW index for 'subset_beir_scidocs_dcpe'...\n",
      "HNSW index created for 'subset_beir_scidocs_dcpe'.\n",
      "Loading collection 'subset_beir_scidocs_dcpe' into memory...\n",
      "Collection 'subset_beir_scidocs_dcpe' loaded successfully.\n"
     ]
    }
   ],
   "source": [
    "for dataset_name in subset_beir_data:\n",
    "    print(f\"\\nProcessing Zilliz ingestion for dataset: {dataset_name}\")\n",
    "    collection_name = f\"subset_beir_{dataset_name.replace('-', '_')}_dcpe\"\n",
    "\n",
    "    if zilliz_client.has_collection(collection_name=collection_name):\n",
    "        print(f\"Collection '{collection_name}' already exists. Dropping and recreating.\")\n",
    "        zilliz_client.drop_collection(collection_name=collection_name)\n",
    "\n",
    "    # Define fields\n",
    "    fields = [\n",
    "        FieldSchema(name=\"doc_id\", dtype=DataType.VARCHAR, max_length=512, is_primary=True),\n",
    "        FieldSchema(name=\"title\", dtype=DataType.VARCHAR, max_length=512),\n",
    "        FieldSchema(name=\"text\", dtype=DataType.VARCHAR, max_length=65535),\n",
    "        FieldSchema(name=\"encrypted_vector\", dtype=DataType.FLOAT_VECTOR, dim=DIMENSION),\n",
    "        FieldSchema(name=\"iv\", dtype=DataType.VARCHAR, max_length=64),\n",
    "        FieldSchema(name=\"auth_hash\", dtype=DataType.VARCHAR, max_length=64)\n",
    "    ]\n",
    "    schema = CollectionSchema(fields, description=f\"BEIR {dataset_name} DCPE encrypted documents\")\n",
    "\n",
    "    print(f\"Creating collection '{collection_name}'...\")\n",
    "    zilliz_client.create_collection(\n",
    "        collection_name=collection_name,\n",
    "        schema=schema,\n",
    "        consistency_level=\"Strong\"\n",
    "    )\n",
    "    print(f\"Collection '{collection_name}' created successfully.\")\n",
    "\n",
    "    corpus = subset_beir_data[dataset_name][\"corpus\"]\n",
    "    doc_ids = list(corpus.keys())\n",
    "    num_documents = len(doc_ids)\n",
    "\n",
    "    start_total_ingestion = time.perf_counter()\n",
    "\n",
    "    documents_to_embed = []\n",
    "    original_titles = []\n",
    "    original_texts = []\n",
    "\n",
    "    for doc_id in doc_ids:\n",
    "        title = corpus[doc_id].get(\"title\", \"\")\n",
    "        text = corpus[doc_id].get(\"text\", \"\")\n",
    "        content_to_embed = f\"{title} {text}\".strip()\n",
    "        documents_to_embed.append(content_to_embed)\n",
    "        original_titles.append(title)\n",
    "        original_texts.append(text)\n",
    "\n",
    "    print(f\"Generating embeddings and inserting encrypted data for '{dataset_name}' corpus ({len(doc_ids)} documents)...\")\n",
    "\n",
    "    # Lists to hold encrypted components for batch insertion\n",
    "    batch_encrypted_vectors_list = []\n",
    "    batch_ivs_list = []\n",
    "    batch_auth_hashes_list = []\n",
    "    batch_doc_ids_list = []\n",
    "    batch_titles_list = []\n",
    "    batch_texts_list = []\n",
    "\n",
    "    for i in tqdm(range(0, len(doc_ids), BATCH_SIZE), desc=f\"Ingesting {dataset_name}\"):\n",
    "        batch_current_doc_ids = doc_ids[i:i + BATCH_SIZE]\n",
    "        batch_contents = documents_to_embed[i:i + BATCH_SIZE]\n",
    "        batch_titles = original_titles[i:i + BATCH_SIZE]\n",
    "        batch_texts = original_texts[i:i + BATCH_SIZE]\n",
    "\n",
    "        # Generate original embeddings\n",
    "        original_batch_vectors = embedding_model.encode(batch_contents, convert_to_list=True)\n",
    "\n",
    "        # Encrypt each vector in the batch\n",
    "        encrypted_batch_vectors = []\n",
    "        encrypted_batch_ivs = []\n",
    "        encrypted_batch_auth_hashes = []\n",
    "\n",
    "        for vec in original_batch_vectors:\n",
    "           encrypted_result = dcpe.encrypt_vector(DCPE_KEY, vec.tolist(), DCPE_APPROXIMATION_FACTOR)\n",
    "           encrypted_batch_vectors.append(encrypted_result.ciphertext)\n",
    "           encrypted_batch_ivs.append(base64.b64encode(encrypted_result.iv).decode('utf-8'))\n",
    "           encrypted_batch_auth_hashes.append(base64.b64encode(encrypted_result.auth_hash.get_bytes()).decode('utf-8'))\n",
    "\n",
    "        # Prepare entities for insertion\n",
    "        entities = []\n",
    "        for j in range(len(batch_current_doc_ids)):\n",
    "            entities.append({\n",
    "                \"doc_id\": batch_current_doc_ids[j],\n",
    "                \"title\": batch_titles[j],\n",
    "                \"text\": batch_texts[j],\n",
    "                \"encrypted_vector\": encrypted_batch_vectors[j], # Use encrypted vector\n",
    "                \"iv\": encrypted_batch_ivs[j],\n",
    "                \"auth_hash\": encrypted_batch_auth_hashes[j]\n",
    "            })\n",
    "\n",
    "        zilliz_client.insert(collection_name=collection_name, data=entities)\n",
    "\n",
    "    end_total_ingestion = time.perf_counter()\n",
    "    total_ingestion_time = end_total_ingestion - start_total_ingestion\n",
    "    print(f\"Finished inserting encrypted data for '{dataset_name}'. Total ingestion time: {total_ingestion_time:.2f} seconds\")\n",
    "\n",
    "    # Estimated size calculation to account for VARCHAR storage\n",
    "    # Encrypted vector: DIMENSION * 4 bytes (float32)\n",
    "    # IV (Base64): 12 bytes raw -> ~16-24 chars, let's assume average 20 bytes/char for VARCHAR storage if not compressed.\n",
    "    # Auth Hash (Base64): 32 bytes raw -> ~44-48 chars, assume average 46 bytes/char.\n",
    "    # A VARCHAR(64) field will consume more than just raw byte size, depending on encoding.\n",
    "    # For simplicity in estimation, we'll use the max_length for VARCHAR fields.\n",
    "    estimated_single_record_size_bytes = (DIMENSION * 4) + (64) + (64) # Vector + max_length for IV + max_length for AuthHash\n",
    "    estimated_total_embedding_size_bytes = num_documents * estimated_single_record_size_bytes\n",
    "    estimated_embedding_size_mb = estimated_total_embedding_size_bytes / (1024 * 1024)\n",
    "    print(f\"Estimated encrypted embedding data size for '{dataset_name}': {estimated_embedding_size_mb:.2f} MB (including IV/AuthHash as VARCHAR)\")\n",
    "\n",
    "    ingestion_metrics[dataset_name] = {\n",
    "        \"total_ingestion_time_seconds\": total_ingestion_time,\n",
    "        \"estimated_embedding_size_mb\": estimated_embedding_size_mb,\n",
    "        \"num_documents\": num_documents\n",
    "    }\n",
    "\n",
    "    print(f\"Creating HNSW index for '{collection_name}'...\")\n",
    "    index_params = zilliz_client.prepare_index_params()\n",
    "    # Index on 'encrypted_vector'\n",
    "    index_params.add_index(field_name=\"encrypted_vector\", index_type=\"HNSW\", metric_type=\"COSINE\")\n",
    "    zilliz_client.create_index(collection_name=collection_name, index_params=index_params)\n",
    "    print(f\"HNSW index created for '{collection_name}'.\")\n",
    "\n",
    "    print(f\"Loading collection '{collection_name}' into memory...\")\n",
    "    zilliz_client.load_collection(collection_name=collection_name)\n",
    "    print(f\"Collection '{collection_name}' loaded successfully.\")"
   ]
  },
  {
   "cell_type": "markdown",
   "metadata": {
    "id": "PWwrXC0472T-"
   },
   "source": [
    "# Running queries"
   ]
  },
  {
   "cell_type": "code",
   "execution_count": 15,
   "metadata": {
    "id": "u8JdklLCIvOJ"
   },
   "outputs": [],
   "source": [
    "QUERY_BATCH_SIZE = 10 # Process queries in batches for embedding and searching - 10 is the max allowed by Zilliz\n",
    "MAX_SEARCH_RESULTS = 100 # Retrieve top 100 for max k_value"
   ]
  },
  {
   "cell_type": "code",
   "execution_count": 16,
   "metadata": {
    "id": "XF13Va3NMjCx"
   },
   "outputs": [],
   "source": [
    "def get_zilliz_search_results_dcpe(\n",
    "    zilliz_client: MilvusClient,\n",
    "    embedding_model: SentenceTransformer,\n",
    "    collection_name: str,\n",
    "    queries: dict,\n",
    "    dcpe_key: dcpe.DCPEKey, # DCPE key\n",
    "    dcpe_approx_factor: float, # DCPE approximation factor\n",
    "    top_k: int = MAX_SEARCH_RESULTS\n",
    ") -> tuple[dict, list]:\n",
    "    print(f\"Retrieving results from '{collection_name}' for {len(queries)} queries, top_k={top_k}...\")\n",
    "\n",
    "    search_results = {}\n",
    "    query_ids = list(queries.keys())\n",
    "    query_texts = [queries[qid] for qid in query_ids]\n",
    "\n",
    "    all_query_latencies_ms = []\n",
    "\n",
    "    for i in tqdm(range(0, len(query_ids), QUERY_BATCH_SIZE), desc=f\"Searching {collection_name}\"):\n",
    "        batch_query_ids = query_ids[i:i + QUERY_BATCH_SIZE]\n",
    "        batch_query_texts = query_texts[i:i + QUERY_BATCH_SIZE]\n",
    "\n",
    "        start_query_embedding = time.perf_counter()\n",
    "        original_batch_vectors = embedding_model.encode(batch_query_texts, convert_to_list=True)\n",
    "        # MODIFIED: Encrypt query vectors - apply .tolist() to each vector before encryption\n",
    "        encrypted_batch_query_vectors = [\n",
    "            dcpe.encrypt_vector(dcpe_key, vec.tolist(), dcpe_approx_factor).ciphertext\n",
    "            for vec in original_batch_vectors\n",
    "        ]\n",
    "        end_query_embedding = time.perf_counter()\n",
    "        query_embedding_time_ms = (end_query_embedding - start_query_embedding) * 1000\n",
    "\n",
    "        search_params = {\n",
    "            \"metric_type\": \"COSINE\",\n",
    "            \"params\": {\"ef\": max(top_k, 128)}\n",
    "        }\n",
    "\n",
    "        start_search_call = time.perf_counter()\n",
    "        try:\n",
    "            # Search on 'encrypted_vector' field\n",
    "            hits_per_query = zilliz_client.search(\n",
    "                collection_name=collection_name,\n",
    "                data=encrypted_batch_query_vectors, # Use encrypted vectors for search\n",
    "                limit=top_k,\n",
    "                output_fields=[\"doc_id\"],\n",
    "                search_params=search_params\n",
    "            )\n",
    "            end_search_call = time.perf_counter()\n",
    "            search_call_duration_ms = (end_search_call - start_search_call) * 1000\n",
    "\n",
    "            if batch_query_ids:\n",
    "                latency_per_query_in_batch = search_call_duration_ms / len(batch_query_ids)\n",
    "                all_query_latencies_ms.extend([latency_per_query_in_batch] * len(batch_query_ids))\n",
    "\n",
    "            for q_idx, query_id in enumerate(batch_query_ids):\n",
    "                query_hits = {}\n",
    "                for hit in hits_per_query[q_idx]:\n",
    "                    query_hits[str(hit.id)] = float(hit.distance)\n",
    "                search_results[str(query_id)] = query_hits\n",
    "\n",
    "        except Exception as e:\n",
    "            print(f\"Error during search for batch starting with {batch_query_ids[0]}: {e}\")\n",
    "            continue\n",
    "\n",
    "    print(f\"Finished retrieving results from '{collection_name}'.\")\n",
    "    return search_results, all_query_latencies_ms"
   ]
  },
  {
   "cell_type": "code",
   "execution_count": 17,
   "metadata": {
    "id": "HPcbe8Z3NDco"
   },
   "outputs": [],
   "source": [
    "# Define the list of k-values for evaluation\n",
    "k_values = [1, 3, 5, 10, 50, 100]\n",
    "\n",
    "# List to store results for all datasets\n",
    "all_evaluation_results = []"
   ]
  },
  {
   "cell_type": "markdown",
   "metadata": {
    "id": "hqD_xlTc7_ei"
   },
   "source": [
    "## Evaluating Results"
   ]
  },
  {
   "cell_type": "code",
   "execution_count": 18,
   "metadata": {
    "id": "-mzpRjojvIT9"
   },
   "outputs": [],
   "source": [
    "!pip install -q psutil memory_profiler pyRAPL"
   ]
  },
  {
   "cell_type": "code",
   "execution_count": 19,
   "metadata": {
    "id": "aOgFldchvPOo"
   },
   "outputs": [],
   "source": [
    "from contextlib import contextmanager\n",
    "import psutil, os, time, tracemalloc\n",
    "\n",
    "@contextmanager\n",
    "def resource_probe(label):\n",
    "    proc = psutil.Process(os.getpid())\n",
    "    cpu_t0 = proc.cpu_times().user + proc.cpu_times().system\n",
    "    mem0 = proc.memory_info().rss\n",
    "    tracemalloc.start()\n",
    "    t0 = time.perf_counter()\n",
    "    yield\n",
    "    elapsed = time.perf_counter() - t0\n",
    "    mem_peak = max(stat.size for stat in tracemalloc.take_snapshot().statistics('filename')) if tracemalloc.is_tracing() else 0\n",
    "    tracemalloc.stop()\n",
    "    cpu_t1 = proc.cpu_times().user + proc.cpu_times().system\n",
    "    mem1 = proc.memory_info().rss\n",
    "    cpu_sec = cpu_t1 - cpu_t0\n",
    "    delta_rss = (mem1 - mem0) / 1e6\n",
    "    peak_mb = mem_peak / 1e6\n",
    "    print(f\"[{label}] wall={elapsed*1e3:.2f} ms | CPU={cpu_sec:.3f}s | ΔRSS={delta_rss:.1f} MB | peak={peak_mb:.1f} MB\")"
   ]
  },
  {
   "cell_type": "code",
   "execution_count": 20,
   "metadata": {
    "colab": {
     "base_uri": "https://localhost:8080/",
     "height": 686,
     "referenced_widgets": [
      "cf352fe31b2b4c5abe1ad45790cb22c6",
      "740efad886e2470ca6e6846cee311e6b",
      "0ab669cbe1a0477dbc3a8a862f9242c8",
      "f7073f4c78b04b10b742a9148fae8da1",
      "e381b38848c34bc8894514731b6b523d",
      "d4dbd58b5b634ee899aa253d6bf0eba2",
      "44a733ddc68843fb8d0a408ca7b3eb06",
      "38c124abcb7b42b18f397dac0ef20d55",
      "34f1fe59de8e4d06a1f208ca790ae3a5",
      "29aefc043f964343ae8762561b38df70",
      "351b7947e2e34921b4154524026bdd79",
      "8182726c438e46638a37e3791bbf920f",
      "6170744fff414dcd97bfcca7192dd4d3",
      "79973cec160f433db91ab92e8300f9a2",
      "b34c9766ed944b5ea8701cb9c7662763",
      "b14f8acae8784cbd944a6fdcafff7978",
      "c04665f340f04dcdb3dd0646fe03b80b",
      "60aa6cb45c78411d9717e15cb17c3df8",
      "fa6b52ee79a74b3aacd574d77fe084cb",
      "e5140779cdd44b77b7f018bbb42a98fd",
      "154be9b9720249a8bf37beb75780fdaa",
      "660830da9eaf4bafb0df2711b95f4cb1",
      "f29e3ceaa2174fef9dcb9cb89a21c589",
      "8620320d28ed4a879fe876f9378e0ae5",
      "73530f995cae45a39e0a449d18b1f03f",
      "81106ea601924e2d82478a759943924c",
      "88bf097eb3684d7e868c4098dfb92cb1",
      "6fb844ed3f8c433c8e0587ce224b9594",
      "873febfd4ffe4fb1911f9d0543116b5c",
      "8e31ec47117e4701972f671ce58c7008",
      "d162b5c18cc0483fb0fad3cb81fceb65",
      "f0842f5cff454ff08e23cb0dbb725c18",
      "1710dc72368d4be18e5cba9c02f68c72"
     ]
    },
    "id": "J5SvYYUHOSMd",
    "outputId": "e48ddf7c-4542-451a-8aeb-3b61b353a6df"
   },
   "outputs": [
    {
     "name": "stdout",
     "output_type": "stream",
     "text": [
      "\n",
      "Starting evaluation for dataset: nfcorpus\n",
      "Retrieving search results from Zilliz for 'nfcorpus'...\n",
      "Retrieving results from 'subset_beir_nfcorpus_dcpe' for 16 queries, top_k=100...\n"
     ]
    },
    {
     "data": {
      "application/vnd.jupyter.widget-view+json": {
       "model_id": "cf352fe31b2b4c5abe1ad45790cb22c6",
       "version_major": 2,
       "version_minor": 0
      },
      "text/plain": [
       "Searching subset_beir_nfcorpus_dcpe:   0%|          | 0/2 [00:00<?, ?it/s]"
      ]
     },
     "metadata": {},
     "output_type": "display_data"
    },
    {
     "name": "stdout",
     "output_type": "stream",
     "text": [
      "Finished retrieving results from 'subset_beir_nfcorpus_dcpe'.\n",
      "[nfcorpus_query_eval] wall=2733.92 ms | CPU=0.900s | ΔRSS=0.0 MB | peak=0.1 MB\n",
      "Retrieved 16 queries' results for 'nfcorpus'.\n",
      "  Avg Search Latency: 72.50 ms\n",
      "  P90 Search Latency: 76.73 ms\n",
      "  P99 Search Latency: 76.73 ms\n",
      "Evaluation for 'nfcorpus' complete.\n",
      "\n",
      "Starting evaluation for dataset: fiqa\n",
      "Retrieving search results from Zilliz for 'fiqa'...\n",
      "Retrieving results from 'subset_beir_fiqa_dcpe' for 32 queries, top_k=100...\n"
     ]
    },
    {
     "data": {
      "application/vnd.jupyter.widget-view+json": {
       "model_id": "8182726c438e46638a37e3791bbf920f",
       "version_major": 2,
       "version_minor": 0
      },
      "text/plain": [
       "Searching subset_beir_fiqa_dcpe:   0%|          | 0/4 [00:00<?, ?it/s]"
      ]
     },
     "metadata": {},
     "output_type": "display_data"
    },
    {
     "name": "stdout",
     "output_type": "stream",
     "text": [
      "Finished retrieving results from 'subset_beir_fiqa_dcpe'.\n",
      "[fiqa_query_eval] wall=4859.21 ms | CPU=1.690s | ΔRSS=0.0 MB | peak=0.3 MB\n",
      "Retrieved 32 queries' results for 'fiqa'.\n",
      "  Avg Search Latency: 93.12 ms\n",
      "  P90 Search Latency: 94.38 ms\n",
      "  P99 Search Latency: 291.15 ms\n",
      "Evaluation for 'fiqa' complete.\n",
      "\n",
      "Starting evaluation for dataset: scidocs\n",
      "Retrieving search results from Zilliz for 'scidocs'...\n",
      "Retrieving results from 'subset_beir_scidocs_dcpe' for 50 queries, top_k=100...\n"
     ]
    },
    {
     "data": {
      "application/vnd.jupyter.widget-view+json": {
       "model_id": "f29e3ceaa2174fef9dcb9cb89a21c589",
       "version_major": 2,
       "version_minor": 0
      },
      "text/plain": [
       "Searching subset_beir_scidocs_dcpe:   0%|          | 0/5 [00:00<?, ?it/s]"
      ]
     },
     "metadata": {},
     "output_type": "display_data"
    },
    {
     "name": "stdout",
     "output_type": "stream",
     "text": [
      "Finished retrieving results from 'subset_beir_scidocs_dcpe'.\n",
      "[scidocs_query_eval] wall=5857.29 ms | CPU=2.080s | ΔRSS=0.0 MB | peak=0.6 MB\n",
      "Retrieved 50 queries' results for 'scidocs'.\n",
      "  Avg Search Latency: 80.76 ms\n",
      "  P90 Search Latency: 101.37 ms\n",
      "  P99 Search Latency: 101.37 ms\n",
      "Evaluation for 'scidocs' complete.\n"
     ]
    }
   ],
   "source": [
    "# Loop through each dataset\n",
    "for dataset_name in subset_beir_data:\n",
    "    print(f\"\\nStarting evaluation for dataset: {dataset_name}\")\n",
    "\n",
    "    qrels = {\n",
    "        str(query_id): {str(doc_id): int(score) for doc_id, score in doc_scores_dict.items()}\n",
    "        for query_id, doc_scores_dict in subset_beir_data[dataset_name][\"qrels\"].items()\n",
    "    }\n",
    "    queries = subset_beir_data[dataset_name][\"queries\"]\n",
    "\n",
    "    # Skip evaluation if there are no queries or qrels in the subset\n",
    "    if not queries or not qrels:\n",
    "        print(f\"  Skipping evaluation for '{dataset_name}' as the query or qrels subset is empty.\")\n",
    "        continue\n",
    "\n",
    "    collection_name = f\"subset_beir_{dataset_name.replace('-', '_')}_dcpe\"\n",
    "\n",
    "    print(f\"Retrieving search results from Zilliz for '{dataset_name}'...\")\n",
    "\n",
    "    # Wrap query retrieval in resource probe\n",
    "    with resource_probe(f\"{dataset_name}_query_eval\"):\n",
    "        results, query_latencies_ms = get_zilliz_search_results_dcpe(\n",
    "            zilliz_client=zilliz_client,\n",
    "            embedding_model=embedding_model,\n",
    "            collection_name=collection_name,\n",
    "            queries=queries,\n",
    "            dcpe_key=DCPE_KEY,\n",
    "            dcpe_approx_factor=DCPE_APPROXIMATION_FACTOR,\n",
    "            top_k=max(k_values)\n",
    "        )\n",
    "\n",
    "    if not results:\n",
    "        print(f\"No results retrieved for '{dataset_name}'. Skipping evaluation for this dataset.\")\n",
    "        continue\n",
    "\n",
    "    print(f\"Retrieved {len(results)} queries' results for '{dataset_name}'.\")\n",
    "\n",
    "    avg_search_latency_ms = 0\n",
    "    p90_search_latency_ms = 0\n",
    "    p99_search_latency_ms = 0\n",
    "\n",
    "    if query_latencies_ms:\n",
    "        avg_search_latency_ms = np.mean(query_latencies_ms)\n",
    "        p90_search_latency_ms = np.percentile(query_latencies_ms, 90)\n",
    "        p99_search_latency_ms = np.percentile(query_latencies_ms, 99)\n",
    "\n",
    "    print(f\"  Avg Search Latency: {avg_search_latency_ms:.2f} ms\")\n",
    "    print(f\"  P90 Search Latency: {p90_search_latency_ms:.2f} ms\")\n",
    "    print(f\"  P99 Search Latency: {p99_search_latency_ms:.2f} ms\")\n",
    "\n",
    "    # Save only operational metrics\n",
    "    dataset_results = {\n",
    "        \"Dataset\": f\"{dataset_name}_subset\",\n",
    "        \"Avg_Search_Latency_ms\": avg_search_latency_ms,\n",
    "        \"P90_Search_Latency_ms\": p90_search_latency_ms,\n",
    "        \"P99_Search_Latency_ms\": p99_search_latency_ms,\n",
    "        \"Total_Ingestion_Time_s\": ingestion_metrics[dataset_name][\"total_ingestion_time_seconds\"],\n",
    "        \"Estimated_Embedding_Size_MB\": ingestion_metrics[dataset_name][\"estimated_embedding_size_mb\"],\n",
    "        \"Num_Documents\": ingestion_metrics[dataset_name][\"num_documents\"]\n",
    "    }\n",
    "    all_evaluation_results.append(dataset_results)\n",
    "\n",
    "    print(f\"Evaluation for '{dataset_name}' complete.\")\n"
   ]
  },
  {
   "cell_type": "markdown",
   "metadata": {
    "id": "7sEztddG8CRK"
   },
   "source": [
    "# Visualizing the results"
   ]
  },
  {
   "cell_type": "code",
   "execution_count": 21,
   "metadata": {
    "colab": {
     "base_uri": "https://localhost:8080/",
     "height": 652
    },
    "id": "G7evhyxWYqMg",
    "outputId": "df5ae518-b945-47d8-db9d-01f6088640dc"
   },
   "outputs": [
    {
     "name": "stdout",
     "output_type": "stream",
     "text": [
      "\n",
      "--- Consolidated Resource Utilization Results (DCPE Encrypted) ---\n",
      "           Dataset  Total_Ingestion_Time_s  Estimated_Embedding_Size_MB  Avg_Search_Latency_ms  P90_Search_Latency_ms  P99_Search_Latency_ms  Num_Documents\n",
      "0  nfcorpus_subset               11.439804                     1.131470              72.502442              76.730670              76.730670            713\n",
      "1      fiqa_subset                1.378441                     0.158691              93.120120              94.377919             291.150840            100\n",
      "2   scidocs_subset                2.743813                     0.382446              80.762312             101.368556             101.368556            241\n"
     ]
    },
    {
     "name": "stderr",
     "output_type": "stream",
     "text": [
      "/tmp/ipython-input-21-1322568523.py:47: FutureWarning: \n",
      "\n",
      "Passing `palette` without assigning `hue` is deprecated and will be removed in v0.14.0. Assign the `x` variable to `hue` and set `legend=False` for the same effect.\n",
      "\n",
      "  sns.barplot(x=\"Dataset\", y=\"Total Ingestion Time (s)\", data=operational_df, palette=\"crest\")\n",
      "/tmp/ipython-input-21-1322568523.py:53: FutureWarning: \n",
      "\n",
      "Passing `palette` without assigning `hue` is deprecated and will be removed in v0.14.0. Assign the `x` variable to `hue` and set `legend=False` for the same effect.\n",
      "\n",
      "  sns.barplot(x=\"Dataset\", y=\"Estimated Embedding Size (MB)\", data=operational_df, palette=\"mako\")\n"
     ]
    },
    {
     "data": {
      "image/png": "[encoded data removed]",
      "text/plain": [
       "<Figure size 2000x700 with 3 Axes>"
      ]
     },
     "metadata": {},
     "output_type": "display_data"
    }
   ],
   "source": [
    "# --- Flatten and build DataFrame (resource metrics only) ---\n",
    "flattened_results = []\n",
    "for dataset_result in all_evaluation_results:\n",
    "    row = {\n",
    "        \"Dataset\": dataset_result[\"Dataset\"],\n",
    "        \"Avg_Search_Latency_ms\": dataset_result[\"Avg_Search_Latency_ms\"],\n",
    "        \"P90_Search_Latency_ms\": dataset_result[\"P90_Search_Latency_ms\"],\n",
    "        \"P99_Search_Latency_ms\": dataset_result[\"P99_Search_Latency_ms\"],\n",
    "        \"Total_Ingestion_Time_s\": dataset_result[\"Total_Ingestion_Time_s\"],\n",
    "        \"Estimated_Embedding_Size_MB\": dataset_result[\"Estimated_Embedding_Size_MB\"],\n",
    "        \"Num_Documents\": dataset_result[\"Num_Documents\"]\n",
    "    }\n",
    "    flattened_results.append(row)\n",
    "\n",
    "results_df = pd.DataFrame(flattened_results)\n",
    "\n",
    "# Define operational columns\n",
    "operational_columns = [\n",
    "    \"Total_Ingestion_Time_s\", \"Estimated_Embedding_Size_MB\",\n",
    "    \"Avg_Search_Latency_ms\", \"P90_Search_Latency_ms\", \"P99_Search_Latency_ms\",\n",
    "    \"Num_Documents\"\n",
    "]\n",
    "ordered_columns = ['Dataset'] + operational_columns\n",
    "results_df = results_df[ordered_columns]\n",
    "\n",
    "print(\"\\n--- Consolidated Resource Utilization Results (DCPE Encrypted) ---\")\n",
    "print(results_df.to_string())\n",
    "\n",
    "# --- Resource Utilization Visualization (Bar Plots) ---\n",
    "operational_plot_data = []\n",
    "for dataset_result in all_evaluation_results:\n",
    "    operational_plot_data.append({\n",
    "        \"Dataset\": dataset_result[\"Dataset\"],\n",
    "        \"Total Ingestion Time (s)\": dataset_result[\"Total_Ingestion_Time_s\"],\n",
    "        \"Estimated Embedding Size (MB)\": dataset_result[\"Estimated_Embedding_Size_MB\"],\n",
    "        \"Avg Search Latency (ms)\": dataset_result[\"Avg_Search_Latency_ms\"],\n",
    "        \"P90 Search Latency (ms)\": dataset_result[\"P90_Search_Latency_ms\"],\n",
    "        \"P99 Search Latency (ms)\": dataset_result[\"P99_Search_Latency_ms\"]\n",
    "    })\n",
    "\n",
    "operational_df = pd.DataFrame(operational_plot_data)\n",
    "\n",
    "if not operational_df.empty:\n",
    "    plt.figure(figsize=(20, 7))\n",
    "\n",
    "    plt.subplot(1, 3, 1)\n",
    "    sns.barplot(x=\"Dataset\", y=\"Total Ingestion Time (s)\", data=operational_df, palette=\"crest\")\n",
    "    plt.title(\"Total Ingestion Time\", fontsize=14)\n",
    "    plt.ylabel(\"Seconds\", fontsize=10)\n",
    "    plt.xlabel(\"\")\n",
    "\n",
    "    plt.subplot(1, 3, 2)\n",
    "    sns.barplot(x=\"Dataset\", y=\"Estimated Embedding Size (MB)\", data=operational_df, palette=\"mako\")\n",
    "    plt.title(\"Embedding Size\", fontsize=14)\n",
    "    plt.ylabel(\"MB\", fontsize=10)\n",
    "    plt.xlabel(\"\")\n",
    "\n",
    "    plt.subplot(1, 3, 3)\n",
    "    latency_melted_df = operational_df.melt(id_vars=['Dataset'],\n",
    "                                            value_vars=[\"Avg Search Latency (ms)\", \"P90 Search Latency (ms)\", \"P99 Search Latency (ms)\"],\n",
    "                                            var_name=\"Latency Type\", value_name=\"Latency (ms)\")\n",
    "    sns.barplot(x=\"Latency Type\", y=\"Latency (ms)\", hue=\"Dataset\", data=latency_melted_df, palette=\"flare\")\n",
    "    plt.title(\"Query Latency\", fontsize=14)\n",
    "    plt.ylabel(\"ms\", fontsize=10)\n",
    "    plt.xlabel(\"\")\n",
    "    plt.xticks(rotation=20, ha='right')\n",
    "    plt.legend(title=\"Dataset\", loc='best')\n",
    "\n",
    "    plt.tight_layout()\n",
    "    plt.show()\n",
    "else:\n",
    "    print(\"No operational metrics data available for plotting.\")"
   ]
  }
 ],
 "metadata": {
  "accelerator": "GPU",
  "colab": {
   "gpuType": "T4",
   "include_colab_link": true,
   "provenance": []
  },
  "kernelspec": {
   "display_name": "Python 3",
   "name": "python3"
  },
  "language_info": {
   "name": "python"
  }
 },
 "nbformat": 4,
 "nbformat_minor": 0
}
