{
 "cells": [
  {
   "cell_type": "markdown",
   "metadata": {
    "colab_type": "text",
    "id": "view-in-github"
   },
   "source": [
    "<a href=\"https://colab.research.google.com/github/codeby3/searchable-encryption/blob/resource-utilization/resource-utilization/paillier/subset_zilliz_paillier_vector_search_resource_util.ipynb\" target=\"_parent\"><img src=\"https://colab.research.google.com/assets/colab-badge.svg\" alt=\"Open In Colab\"/></a>"
   ]
  },
  {
   "cell_type": "markdown",
   "metadata": {
    "id": "vd26fRC07BGs"
   },
   "source": [
    "# Set up"
   ]
  },
  {
   "cell_type": "code",
   "execution_count": 2,
   "metadata": {
    "colab": {
     "base_uri": "https://localhost:8080/"
    },
    "id": "ele1IiqmR5O7",
    "outputId": "85701b25-406b-4188-bb44-622c609a3bdf"
   },
   "outputs": [
    {
     "name": "stdout",
     "output_type": "stream",
     "text": [
      "\u001b[?25l   \u001b[90m━━━━━━━━━━━━━━━━━━━━━━━━━━━━━━━━━━━━━━━━\u001b[0m \u001b[32m0.0/77.4 kB\u001b[0m \u001b[31m?\u001b[0m eta \u001b[36m-:--:--\u001b[0m\r",
      "\u001b[2K   \u001b[90m━━━━━━━━━━━━━━━━━━━━━━━━━━━━━━━━━━━━━━━━\u001b[0m \u001b[32m77.4/77.4 kB\u001b[0m \u001b[31m6.8 MB/s\u001b[0m eta \u001b[36m0:00:00\u001b[0m\n",
      "\u001b[?25h\u001b[?25l   \u001b[90m━━━━━━━━━━━━━━━━━━━━━━━━━━━━━━━━━━━━━━━━\u001b[0m \u001b[32m0.0/228.1 kB\u001b[0m \u001b[31m?\u001b[0m eta \u001b[36m-:--:--\u001b[0m\r",
      "\u001b[2K   \u001b[90m━━━━━━━━━━━━━━━━━━━━━━━━━━━━━━━━━━━━━━━━\u001b[0m \u001b[32m228.1/228.1 kB\u001b[0m \u001b[31m19.1 MB/s\u001b[0m eta \u001b[36m0:00:00\u001b[0m\n",
      "\u001b[?25h\u001b[?25l   \u001b[90m━━━━━━━━━━━━━━━━━━━━━━━━━━━━━━━━━━━━━━━━\u001b[0m \u001b[32m0.0/491.5 kB\u001b[0m \u001b[31m?\u001b[0m eta \u001b[36m-:--:--\u001b[0m\r",
      "\u001b[2K   \u001b[90m━━━━━━━━━━━━━━━━━━━━━━━━━━━━━━━━━━━━━━━━\u001b[0m \u001b[32m491.5/491.5 kB\u001b[0m \u001b[31m35.0 MB/s\u001b[0m eta \u001b[36m0:00:00\u001b[0m\n",
      "\u001b[?25h\u001b[?25l   \u001b[90m━━━━━━━━━━━━━━━━━━━━━━━━━━━━━━━━━━━━━━━━\u001b[0m \u001b[32m0.0/53.7 kB\u001b[0m \u001b[31m?\u001b[0m eta \u001b[36m-:--:--\u001b[0m\r",
      "\u001b[2K   \u001b[90m━━━━━━━━━━━━━━━━━━━━━━━━━━━━━━━━━━━━━━━━\u001b[0m \u001b[32m53.7/53.7 kB\u001b[0m \u001b[31m4.7 MB/s\u001b[0m eta \u001b[36m0:00:00\u001b[0m\n",
      "\u001b[2K   \u001b[90m━━━━━━━━━━━━━━━━━━━━━━━━━━━━━━━━━━━━━━━━\u001b[0m \u001b[32m193.6/193.6 kB\u001b[0m \u001b[31m17.2 MB/s\u001b[0m eta \u001b[36m0:00:00\u001b[0m\n",
      "\u001b[2K   \u001b[90m━━━━━━━━━━━━━━━━━━━━━━━━━━━━━━━━━━━━━━━━\u001b[0m \u001b[32m5.9/5.9 MB\u001b[0m \u001b[31m107.0 MB/s\u001b[0m eta \u001b[36m0:00:00\u001b[0m\n",
      "\u001b[2K   \u001b[90m━━━━━━━━━━━━━━━━━━━━━━━━━━━━━━━━━━━━━━━━\u001b[0m \u001b[32m55.3/55.3 MB\u001b[0m \u001b[31m18.8 MB/s\u001b[0m eta \u001b[36m0:00:00\u001b[0m\n",
      "\u001b[2K   \u001b[90m━━━━━━━━━━━━━━━━━━━━━━━━━━━━━━━━━━━━━━━━\u001b[0m \u001b[32m363.4/363.4 MB\u001b[0m \u001b[31m4.0 MB/s\u001b[0m eta \u001b[36m0:00:00\u001b[0m\n",
      "\u001b[2K   \u001b[90m━━━━━━━━━━━━━━━━━━━━━━━━━━━━━━━━━━━━━━━━\u001b[0m \u001b[32m13.8/13.8 MB\u001b[0m \u001b[31m50.2 MB/s\u001b[0m eta \u001b[36m0:00:00\u001b[0m\n",
      "\u001b[2K   \u001b[90m━━━━━━━━━━━━━━━━━━━━━━━━━━━━━━━━━━━━━━━━\u001b[0m \u001b[32m24.6/24.6 MB\u001b[0m \u001b[31m33.3 MB/s\u001b[0m eta \u001b[36m0:00:00\u001b[0m\n",
      "\u001b[2K   \u001b[90m━━━━━━━━━━━━━━━━━━━━━━━━━━━━━━━━━━━━━━━━\u001b[0m \u001b[32m883.7/883.7 kB\u001b[0m \u001b[31m46.8 MB/s\u001b[0m eta \u001b[36m0:00:00\u001b[0m\n",
      "\u001b[2K   \u001b[90m━━━━━━━━━━━━━━━━━━━━━━━━━━━━━━━━━━━━━━━━\u001b[0m \u001b[32m664.8/664.8 MB\u001b[0m \u001b[31m2.1 MB/s\u001b[0m eta \u001b[36m0:00:00\u001b[0m\n",
      "\u001b[2K   \u001b[90m━━━━━━━━━━━━━━━━━━━━━━━━━━━━━━━━━━━━━━━━\u001b[0m \u001b[32m211.5/211.5 MB\u001b[0m \u001b[31m6.0 MB/s\u001b[0m eta \u001b[36m0:00:00\u001b[0m\n",
      "\u001b[2K   \u001b[90m━━━━━━━━━━━━━━━━━━━━━━━━━━━━━━━━━━━━━━━━\u001b[0m \u001b[32m56.3/56.3 MB\u001b[0m \u001b[31m12.8 MB/s\u001b[0m eta \u001b[36m0:00:00\u001b[0m\n",
      "\u001b[2K   \u001b[90m━━━━━━━━━━━━━━━━━━━━━━━━━━━━━━━━━━━━━━━━\u001b[0m \u001b[32m127.9/127.9 MB\u001b[0m \u001b[31m7.4 MB/s\u001b[0m eta \u001b[36m0:00:00\u001b[0m\n",
      "\u001b[2K   \u001b[90m━━━━━━━━━━━━━━━━━━━━━━━━━━━━━━━━━━━━━━━━\u001b[0m \u001b[32m207.5/207.5 MB\u001b[0m \u001b[31m6.1 MB/s\u001b[0m eta \u001b[36m0:00:00\u001b[0m\n",
      "\u001b[2K   \u001b[90m━━━━━━━━━━━━━━━━━━━━━━━━━━━━━━━━━━━━━━━━\u001b[0m \u001b[32m21.1/21.1 MB\u001b[0m \u001b[31m96.0 MB/s\u001b[0m eta \u001b[36m0:00:00\u001b[0m\n",
      "\u001b[2K   \u001b[90m━━━━━━━━━━━━━━━━━━━━━━━━━━━━━━━━━━━━━━━━\u001b[0m \u001b[32m53.6/53.6 kB\u001b[0m \u001b[31m4.5 MB/s\u001b[0m eta \u001b[36m0:00:00\u001b[0m\n",
      "\u001b[2K   \u001b[90m━━━━━━━━━━━━━━━━━━━━━━━━━━━━━━━━━━━━━━━━\u001b[0m \u001b[32m288.0/288.0 kB\u001b[0m \u001b[31m24.6 MB/s\u001b[0m eta \u001b[36m0:00:00\u001b[0m\n",
      "\u001b[?25h\u001b[31mERROR: pip's dependency resolver does not currently take into account all the packages that are installed. This behaviour is the source of the following dependency conflicts.\n",
      "gcsfs 2025.3.2 requires fsspec==2025.3.2, but you have fsspec 2025.3.0 which is incompatible.\n",
      "grpcio-status 1.71.0 requires grpcio>=1.71.0, but you have grpcio 1.67.1 which is incompatible.\u001b[0m\u001b[31m\n",
      "\u001b[0m"
     ]
    }
   ],
   "source": [
    "!pip install -qU beir sentence-transformers pymilvus datasets phe"
   ]
  },
  {
   "cell_type": "code",
   "execution_count": 3,
   "metadata": {
    "colab": {
     "base_uri": "https://localhost:8080/"
    },
    "id": "CsT0EcFZBh_w",
    "outputId": "4b39eabc-73ec-40c0-e970-bed7152dc732"
   },
   "outputs": [
    {
     "name": "stdout",
     "output_type": "stream",
     "text": [
      "\u001b[2K     \u001b[90m━━━━━━━━━━━━━━━━━━━━━━━━━━━━━━━━━━━━━━━\u001b[0m \u001b[32m663.9/663.9 MB\u001b[0m \u001b[31m1.3 MB/s\u001b[0m eta \u001b[36m0:00:00\u001b[0m\n",
      "\u001b[2K     \u001b[90m━━━━━━━━━━━━━━━━━━━━━━━━━━━━━━━━━━━━━━━\u001b[0m \u001b[32m147.8/147.8 MB\u001b[0m \u001b[31m6.5 MB/s\u001b[0m eta \u001b[36m0:00:00\u001b[0m\n",
      "\u001b[2K   \u001b[90m━━━━━━━━━━━━━━━━━━━━━━━━━━━━━━━━━━━━━━━━\u001b[0m \u001b[32m905.3/905.3 MB\u001b[0m \u001b[31m1.5 MB/s\u001b[0m eta \u001b[36m0:00:00\u001b[0m\n",
      "\u001b[2K   \u001b[90m━━━━━━━━━━━━━━━━━━━━━━━━━━━━━━━━━━━━━━━━\u001b[0m \u001b[32m417.9/417.9 MB\u001b[0m \u001b[31m4.1 MB/s\u001b[0m eta \u001b[36m0:00:00\u001b[0m\n",
      "\u001b[2K   \u001b[90m━━━━━━━━━━━━━━━━━━━━━━━━━━━━━━━━━━━━━━━━\u001b[0m \u001b[32m13.1/13.1 MB\u001b[0m \u001b[31m92.0 MB/s\u001b[0m eta \u001b[36m0:00:00\u001b[0m\n",
      "\u001b[2K   \u001b[90m━━━━━━━━━━━━━━━━━━━━━━━━━━━━━━━━━━━━━━━━\u001b[0m \u001b[32m23.2/23.2 MB\u001b[0m \u001b[31m83.5 MB/s\u001b[0m eta \u001b[36m0:00:00\u001b[0m\n",
      "\u001b[2K   \u001b[90m━━━━━━━━━━━━━━━━━━━━━━━━━━━━━━━━━━━━━━━━\u001b[0m \u001b[32m875.6/875.6 kB\u001b[0m \u001b[31m52.2 MB/s\u001b[0m eta \u001b[36m0:00:00\u001b[0m\n",
      "\u001b[2K   \u001b[90m━━━━━━━━━━━━━━━━━━━━━━━━━━━━━━━━━━━━━━━━\u001b[0m \u001b[32m168.4/168.4 MB\u001b[0m \u001b[31m6.6 MB/s\u001b[0m eta \u001b[36m0:00:00\u001b[0m\n",
      "\u001b[2K   \u001b[90m━━━━━━━━━━━━━━━━━━━━━━━━━━━━━━━━━━━━━━━━\u001b[0m \u001b[32m58.1/58.1 MB\u001b[0m \u001b[31m12.0 MB/s\u001b[0m eta \u001b[36m0:00:00\u001b[0m\n",
      "\u001b[2K   \u001b[90m━━━━━━━━━━━━━━━━━━━━━━━━━━━━━━━━━━━━━━━━\u001b[0m \u001b[32m128.2/128.2 MB\u001b[0m \u001b[31m7.5 MB/s\u001b[0m eta \u001b[36m0:00:00\u001b[0m\n",
      "\u001b[2K   \u001b[90m━━━━━━━━━━━━━━━━━━━━━━━━━━━━━━━━━━━━━━━━\u001b[0m \u001b[32m204.1/204.1 MB\u001b[0m \u001b[31m6.1 MB/s\u001b[0m eta \u001b[36m0:00:00\u001b[0m\n",
      "\u001b[2K   \u001b[90m━━━━━━━━━━━━━━━━━━━━━━━━━━━━━━━━━━━━━━━━\u001b[0m \u001b[32m99.1/99.1 kB\u001b[0m \u001b[31m8.2 MB/s\u001b[0m eta \u001b[36m0:00:00\u001b[0m\n",
      "\u001b[2K   \u001b[90m━━━━━━━━━━━━━━━━━━━━━━━━━━━━━━━━━━━━━━━━\u001b[0m \u001b[32m155.7/155.7 MB\u001b[0m \u001b[31m6.8 MB/s\u001b[0m eta \u001b[36m0:00:00\u001b[0m\n",
      "\u001b[2K   \u001b[90m━━━━━━━━━━━━━━━━━━━━━━━━━━━━━━━━━━━━━━━━\u001b[0m \u001b[32m6.7/6.7 MB\u001b[0m \u001b[31m104.5 MB/s\u001b[0m eta \u001b[36m0:00:00\u001b[0m\n",
      "\u001b[2K   \u001b[90m━━━━━━━━━━━━━━━━━━━━━━━━━━━━━━━━━━━━━━━━\u001b[0m \u001b[32m6.3/6.3 MB\u001b[0m \u001b[31m101.4 MB/s\u001b[0m eta \u001b[36m0:00:00\u001b[0m\n",
      "\u001b[?25h\u001b[31mERROR: pip's dependency resolver does not currently take into account all the packages that are installed. This behaviour is the source of the following dependency conflicts.\n",
      "torchaudio 2.6.0+cu124 requires torch==2.6.0, but you have torch 2.7.1+cu118 which is incompatible.\n",
      "fastai 2.7.19 requires torch<2.7,>=1.10, but you have torch 2.7.1+cu118 which is incompatible.\u001b[0m\u001b[31m\n",
      "\u001b[0m"
     ]
    }
   ],
   "source": [
    "!pip install --upgrade --quiet torch torchvision --extra-index-url https://download.pytorch.org/whl/cu118"
   ]
  },
  {
   "cell_type": "code",
   "execution_count": 4,
   "metadata": {
    "colab": {
     "base_uri": "https://localhost:8080/"
    },
    "id": "zUKH5xL6yQY-",
    "outputId": "df45b189-7774-477f-badd-192f640fe290"
   },
   "outputs": [
    {
     "name": "stderr",
     "output_type": "stream",
     "text": [
      "/usr/local/lib/python3.11/dist-packages/beir/util.py:11: TqdmExperimentalWarning: Using `tqdm.autonotebook.tqdm` in notebook mode. Use `tqdm.tqdm` instead to force console mode (e.g. in jupyter console)\n",
      "  from tqdm.autonotebook import tqdm\n"
     ]
    }
   ],
   "source": [
    "import os\n",
    "from beir import util\n",
    "from beir.datasets.data_loader import GenericDataLoader\n",
    "from beir.retrieval.evaluation import EvaluateRetrieval\n",
    "import pandas as pd\n",
    "from pymilvus import MilvusClient, FieldSchema, DataType, CollectionSchema, Collection\n",
    "from sentence_transformers import SentenceTransformer\n",
    "import torch\n",
    "from google.colab import userdata\n",
    "from tqdm.auto import tqdm\n",
    "import matplotlib.pyplot as plt\n",
    "import seaborn as sns\n",
    "import time\n",
    "import numpy as np\n",
    "import sys\n",
    "import random"
   ]
  },
  {
   "cell_type": "code",
   "execution_count": 6,
   "metadata": {
    "id": "zWuFcxpXtfW6"
   },
   "outputs": [],
   "source": [
    "sys.path.append(os.getcwd())\n",
    "import paillier\n",
    "from paillier import PaillierKey, encrypt_vector"
   ]
  },
  {
   "cell_type": "code",
   "execution_count": 7,
   "metadata": {
    "id": "wxlesdmxtoeC"
   },
   "outputs": [],
   "source": [
    "PAILLIER_N_LENGTH = 1024 # Key length for Paillier encryption\n",
    "PAILLIER_SCALING_FACTOR = 1000 # Scaling factor for float to int conversion in Paillier"
   ]
  },
  {
   "cell_type": "code",
   "execution_count": 8,
   "metadata": {
    "id": "WX4g3veJMmHY"
   },
   "outputs": [],
   "source": [
    "paillier_key = paillier.generate_random_key(n_length=1024)"
   ]
  },
  {
   "cell_type": "markdown",
   "metadata": {
    "id": "HgaeW_U57GEJ"
   },
   "source": [
    "# Load Datasets\n",
    "We're using 3 datasets from the BEIR datasets - nfcorpus, fiqa and scidocs (https://huggingface.co/datasets/BeIR/beir)"
   ]
  },
  {
   "cell_type": "code",
   "execution_count": 9,
   "metadata": {
    "id": "9nzKsJgx31vU"
   },
   "outputs": [],
   "source": [
    "datasets_to_load = [\"nfcorpus\", \"fiqa\", \"scidocs\"]\n",
    "beir_data_path = \"./beir_datasets\" # Local directory to store BEIR data\n",
    "os.makedirs(beir_data_path, exist_ok=True)\n",
    "loaded_beir_data = {}"
   ]
  },
  {
   "cell_type": "code",
   "execution_count": 10,
   "metadata": {
    "colab": {
     "base_uri": "https://localhost:8080/",
     "height": 750,
     "referenced_widgets": [
      "cb8f057c33404d5b9357b2288f108f96",
      "7eb5e545f57f4994bce5f369d54523ee",
      "dabb180d867042cdbe9dbe6b1a8e50ca",
      "7898f245668c4c919740f5c36578ceb1",
      "b0fdb1d6ba0247d596e021dcc4cf1cf0",
      "005fe3d0e5f64430a089349970fc9b55",
      "b1213648deb94aebbdb9aee36c23044c",
      "28224146740548f2ad0623047a57bdf0",
      "95fba5e557fa41348415d1569761feaa",
      "feee17f565f44caa96716250faa71bc2",
      "c82d879456d648778320c7aa7386b072",
      "d3121ad5cc4e40d0b5c0cdd38865277c",
      "50f0232ea030468899f8963b36464670",
      "f0c9759cb4e54a419a1e36ff2e32e760",
      "b041fd3df1f142f8b094ad215bb21f33",
      "515881df5c514e2ebbe4cb0e02b3488d",
      "302aad93976547ab96601b985e6f1957",
      "975ef4e188424c31a036f746f0709dcb",
      "3f9d7f3be0474a32be1ad3613dc1d6a9",
      "f214a52ed690493ca8cd25b82b12d9f7",
      "aae666bfa9184a9b91785892d2a09ba6",
      "0ef711951b2345bbbfcfe5969bfcba9c",
      "e49bc2b34a0c46aca79423ade0eb4c29",
      "d67d6de136694145821eed8b2b9db2ae",
      "7ec870c81df44e0ba3c6faac8e76d0c1",
      "da04751119e04c09b7c53fe2630e923e",
      "063882738c1b4587924ed845907cd5bb",
      "ff2d791128894c94ad454884b04216cd",
      "19b83c1332554bf2b2087976904f4486",
      "e93a9df99f264c7d83c4035763026703",
      "e493125b9de9485c94fe43ed386b91a4",
      "d0463d862ccd4cb0927d506d1a021826",
      "5b4a469a80324b22a0a24987f651cc08",
      "52c9a29958264c619b776f7f3713e31f",
      "2bf5854812e241feb677056d5975a20c",
      "28fee72b879243019eab73243d5940ab",
      "0b85e11f117a444bbc7c1e682ed3de2f",
      "6ae19464ee3945edbf14a19cfd4a8c2b",
      "6fdaf1149d5c42938856c6bb8fdd81f6",
      "98a5ab76b59e4d2fbfeaf6192d80d6e6",
      "4df2f9f7da1043e2ad6dab2433b27f60",
      "b0b7531b9d1e4db19f87888b4f8be0b1",
      "9aa169b6025d4f339c5ec12120c16387",
      "ff51435a51dc4106b9de8777da455d37",
      "f22c21c039bb4491b1ef3db856836603",
      "e5ac725ccdc14b90b9f6260ae4eed82e",
      "d08e115394d44736801baf7b603c58b5",
      "9f5c1cca26ff4f84b1017e16c9ee0c6e",
      "aebbe605dc3245afa52cb19b71a2aafb",
      "2fa9448b45e24fd890ea2fe4c6c9c2e3",
      "104a9da5d22347509d58828840e4a0ff",
      "f6d7f1d8696743a7a9f8538ff67f0d76",
      "e43ab0e1a40349bdbd4ac13136e426ee",
      "fcc9aa39fb0d42aebd6429923587dd59",
      "ef7229d8699440e68367b94736705cec",
      "0dc7b48ebfa3457aa4ee80cf3a12548d",
      "bbffce5dc2324e56a0ebb51d0386b8e5",
      "cc61bcca5e014d64b94c2da0db848d27",
      "891e2c11206a4e849aa8eb2d91b20193",
      "0e467e2dedff4234acb084195bddf960",
      "cefce757e9024777a0109427f03bba30",
      "ef951733a0784039980593cc6d7431b3",
      "a6f598651cb54d008801e965717358dc",
      "13cbf0c839324731986209f69aa1fca9",
      "66b068f112e647cdac8969e3de4108c6",
      "b34f9f556ea2426480c9bb4748f9d324"
     ]
    },
    "id": "VJJq83bw4NJ3",
    "outputId": "04c35628-ac13-43cd-dbcd-a008c3db732b"
   },
   "outputs": [
    {
     "name": "stdout",
     "output_type": "stream",
     "text": [
      "\n",
      "Processing dataset: nfcorpus\n",
      "Downloading nfcorpus from https://public.ukp.informatik.tu-darmstadt.de/thakur/BEIR/datasets/nfcorpus.zip to ./beir_datasets/nfcorpus...\n"
     ]
    },
    {
     "data": {
      "application/vnd.jupyter.widget-view+json": {
       "model_id": "cb8f057c33404d5b9357b2288f108f96",
       "version_major": 2,
       "version_minor": 0
      },
      "text/plain": [
       "./beir_datasets/nfcorpus/nfcorpus.zip:   0%|          | 0.00/2.34M [00:00<?, ?iB/s]"
      ]
     },
     "metadata": {},
     "output_type": "display_data"
    },
    {
     "name": "stdout",
     "output_type": "stream",
     "text": [
      "Downloaded nfcorpus to: ./beir_datasets/nfcorpus/nfcorpus\n"
     ]
    },
    {
     "data": {
      "application/vnd.jupyter.widget-view+json": {
       "model_id": "d3121ad5cc4e40d0b5c0cdd38865277c",
       "version_major": 2,
       "version_minor": 0
      },
      "text/plain": [
       "  0%|          | 0/3633 [00:00<?, ?it/s]"
      ]
     },
     "metadata": {},
     "output_type": "display_data"
    },
    {
     "name": "stdout",
     "output_type": "stream",
     "text": [
      "Successfully loaded data for nfcorpus.\n",
      "  Corpus size: 3633 documents\n",
      "  Queries size: 323 queries\n",
      "  Qrels size: 323 relevance judgments\n",
      "  Sample corpus entry (MED-10): Statin Use and Breast Cancer Survival: A Nationwide Cohort Study from Finland - Recent studies have suggested that statins, an established drug group in the prevention of cardiovas...\n",
      "  Sample query entry (PLAIN-2): Do Cholesterol Statin Drugs Cause Breast Cancer?...\n",
      "\n",
      "Processing dataset: fiqa\n",
      "Downloading fiqa from https://public.ukp.informatik.tu-darmstadt.de/thakur/BEIR/datasets/fiqa.zip to ./beir_datasets/fiqa...\n"
     ]
    },
    {
     "data": {
      "application/vnd.jupyter.widget-view+json": {
       "model_id": "e49bc2b34a0c46aca79423ade0eb4c29",
       "version_major": 2,
       "version_minor": 0
      },
      "text/plain": [
       "./beir_datasets/fiqa/fiqa.zip:   0%|          | 0.00/17.1M [00:00<?, ?iB/s]"
      ]
     },
     "metadata": {},
     "output_type": "display_data"
    },
    {
     "name": "stdout",
     "output_type": "stream",
     "text": [
      "Downloaded fiqa to: ./beir_datasets/fiqa/fiqa\n"
     ]
    },
    {
     "data": {
      "application/vnd.jupyter.widget-view+json": {
       "model_id": "52c9a29958264c619b776f7f3713e31f",
       "version_major": 2,
       "version_minor": 0
      },
      "text/plain": [
       "  0%|          | 0/57638 [00:00<?, ?it/s]"
      ]
     },
     "metadata": {},
     "output_type": "display_data"
    },
    {
     "name": "stdout",
     "output_type": "stream",
     "text": [
      "Successfully loaded data for fiqa.\n",
      "  Corpus size: 57638 documents\n",
      "  Queries size: 648 queries\n",
      "  Qrels size: 648 relevance judgments\n",
      "  Sample corpus entry (3):  - I'm not saying I don't like the idea of on-the-job training too, but you can't expect the company to...\n",
      "  Sample query entry (8): How to deposit a cheque issued to an associate in my business into my business account?...\n",
      "\n",
      "Processing dataset: scidocs\n",
      "Downloading scidocs from https://public.ukp.informatik.tu-darmstadt.de/thakur/BEIR/datasets/scidocs.zip to ./beir_datasets/scidocs...\n"
     ]
    },
    {
     "data": {
      "application/vnd.jupyter.widget-view+json": {
       "model_id": "f22c21c039bb4491b1ef3db856836603",
       "version_major": 2,
       "version_minor": 0
      },
      "text/plain": [
       "./beir_datasets/scidocs/scidocs.zip:   0%|          | 0.00/136M [00:00<?, ?iB/s]"
      ]
     },
     "metadata": {},
     "output_type": "display_data"
    },
    {
     "name": "stdout",
     "output_type": "stream",
     "text": [
      "Downloaded scidocs to: ./beir_datasets/scidocs/scidocs\n"
     ]
    },
    {
     "data": {
      "application/vnd.jupyter.widget-view+json": {
       "model_id": "0dc7b48ebfa3457aa4ee80cf3a12548d",
       "version_major": 2,
       "version_minor": 0
      },
      "text/plain": [
       "  0%|          | 0/25657 [00:00<?, ?it/s]"
      ]
     },
     "metadata": {},
     "output_type": "display_data"
    },
    {
     "name": "stdout",
     "output_type": "stream",
     "text": [
      "Successfully loaded data for scidocs.\n",
      "  Corpus size: 25657 documents\n",
      "  Queries size: 1000 queries\n",
      "  Qrels size: 1000 relevance judgments\n",
      "  Sample corpus entry (632589828c8b9fca2c3a59e97451fde8fa7d188d): A hybrid of genetic algorithm and particle swarm optimization for recurrent network design - An evolutionary recurrent network which automates the design of recurrent neural/fuzzy networks usin...\n",
      "  Sample query entry (78495383450e02c5fe817e408726134b3084905d): A Direct Search Method to solve Economic Dispatch Problem with Valve-Point Effect...\n"
     ]
    }
   ],
   "source": [
    "for dataset_name in datasets_to_load:\n",
    "    print(f\"\\nProcessing dataset: {dataset_name}\")\n",
    "\n",
    "    # Step 3a: Download the dataset\n",
    "    url = f\"https://public.ukp.informatik.tu-darmstadt.de/thakur/BEIR/datasets/{dataset_name}.zip\"\n",
    "    out_dir = os.path.join(beir_data_path, dataset_name)\n",
    "\n",
    "    if not os.path.exists(out_dir):\n",
    "        print(f\"Downloading {dataset_name} from {url} to {out_dir}...\")\n",
    "        data_path = util.download_and_unzip(url, out_dir)\n",
    "        print(f\"Downloaded {dataset_name} to: {data_path}\")\n",
    "    else:\n",
    "        print(f\"Dataset {dataset_name} already exists at {out_dir}. Skipping download.\")\n",
    "        data_path = out_dir\n",
    "\n",
    "    # Step 3b: Load the corpus, queries, and qrels\n",
    "    try:\n",
    "        corpus, queries, qrels = GenericDataLoader(data_folder=data_path).load(split=\"test\")\n",
    "        loaded_beir_data[dataset_name] = {\n",
    "            \"corpus\": corpus,\n",
    "            \"queries\": queries,\n",
    "            \"qrels\": qrels\n",
    "        }\n",
    "        print(f\"Successfully loaded data for {dataset_name}.\")\n",
    "        print(f\"  Corpus size: {len(corpus)} documents\")\n",
    "        print(f\"  Queries size: {len(queries)} queries\")\n",
    "        print(f\"  Qrels size: {len(qrels)} relevance judgments\")\n",
    "\n",
    "        # Print a sample document and query to verify\n",
    "        if len(corpus) > 0:\n",
    "            sample_doc_id = list(corpus.keys())[0]\n",
    "            print(f\"  Sample corpus entry ({sample_doc_id}): {corpus[sample_doc_id]['title']} - {corpus[sample_doc_id]['text'][:100]}...\")\n",
    "        if len(queries) > 0:\n",
    "            sample_query_id = list(queries.keys())[0]\n",
    "            print(f\"  Sample query entry ({sample_query_id}): {queries[sample_query_id][:100]}...\")\n",
    "\n",
    "    except Exception as e:\n",
    "        print(f\"Error loading {dataset_name}: {e}\")"
   ]
  },
  {
   "cell_type": "markdown",
   "metadata": {
    "id": "uyX-XNJKDDUK"
   },
   "source": [
    "## Using subsets of data\n",
    "Using Subsets of data because full data is taking infeasibly long for Paillier implementaion"
   ]
  },
  {
   "cell_type": "code",
   "execution_count": 11,
   "metadata": {
    "id": "kD2npVJTDLCn"
   },
   "outputs": [],
   "source": [
    "# Using 10% of the queries as a starting point.\n",
    "SUBSET_QUERY_PERCENTAGE = 0.05\n",
    "RANDOM_SEED = 42 # Fixed seed for reproducibility\n",
    "\n",
    "random.seed(RANDOM_SEED)\n",
    "subset_beir_data = {}"
   ]
  },
  {
   "cell_type": "code",
   "execution_count": 12,
   "metadata": {
    "colab": {
     "base_uri": "https://localhost:8080/"
    },
    "id": "tExMf2DoIFS0",
    "outputId": "fb8e6cc5-47f7-4af4-97b7-6eba61a9a058"
   },
   "outputs": [
    {
     "name": "stdout",
     "output_type": "stream",
     "text": [
      "\n",
      "Creating subset for dataset: nfcorpus\n",
      "  Selected 16 queries (out of 323)\n",
      "  Selected 713 documents relevant to the query subset.\n",
      "  Filtered qrels to 16 queries with relevant documents in the new corpus subset.\n",
      "\n",
      "Creating subset for dataset: fiqa\n",
      "  Selected 32 queries (out of 648)\n",
      "  Selected 100 documents relevant to the query subset.\n",
      "  Filtered qrels to 32 queries with relevant documents in the new corpus subset.\n",
      "\n",
      "Creating subset for dataset: scidocs\n",
      "  Selected 50 queries (out of 1000)\n",
      "  Selected 241 documents relevant to the query subset.\n",
      "  Filtered qrels to 50 queries with relevant documents in the new corpus subset.\n"
     ]
    }
   ],
   "source": [
    "for dataset_name, data in loaded_beir_data.items():\n",
    "    print(f\"\\nCreating subset for dataset: {dataset_name}\")\n",
    "\n",
    "    corpus = data[\"corpus\"]\n",
    "    queries = data[\"queries\"]\n",
    "    qrels = data[\"qrels\"]\n",
    "\n",
    "    # Create a subset of queries\n",
    "    num_queries_subset = int(len(queries) * SUBSET_QUERY_PERCENTAGE)\n",
    "    query_ids = list(queries.keys())\n",
    "    # Ensure there are queries to sample from\n",
    "    if num_queries_subset > 0 and len(query_ids) >= num_queries_subset:\n",
    "        subset_query_ids = set(random.sample(query_ids, num_queries_subset))\n",
    "    else:\n",
    "        subset_query_ids = set(query_ids) # Use all if subset is too small or percentage is 100%\n",
    "\n",
    "    subset_queries = {qid: queries[qid] for qid in subset_query_ids}\n",
    "    print(f\"  Selected {len(subset_queries)} queries (out of {len(queries)})\")\n",
    "\n",
    "    # Create a corpus subset containing only relevant documents for the query subset\n",
    "    # This is a better approach than random corpus sampling for ensuring evaluation is meaningful.\n",
    "    relevant_corpus_ids = set()\n",
    "    for qid in subset_query_ids:\n",
    "        if qid in qrels:\n",
    "            for doc_id, score in qrels[qid].items():\n",
    "                if score > 0: # A score > 0 indicates relevance\n",
    "                    relevant_corpus_ids.add(doc_id)\n",
    "\n",
    "    # Filter the main corpus to only include these relevant documents\n",
    "    subset_corpus = {cid: corpus[cid] for cid in relevant_corpus_ids if cid in corpus}\n",
    "    print(f\"  Selected {len(subset_corpus)} documents relevant to the query subset.\")\n",
    "\n",
    "    # Filter qrels to match the new query and corpus subsets\n",
    "    subset_qrels = {}\n",
    "    for qid, doc_scores in qrels.items():\n",
    "        if qid in subset_query_ids: # Only consider queries in our subset\n",
    "            filtered_scores = {did: score for did, score in doc_scores.items() if did in subset_corpus}\n",
    "            if filtered_scores: # Only add the query if it has relevant docs in the subset\n",
    "                subset_qrels[qid] = filtered_scores\n",
    "    print(f\"  Filtered qrels to {len(subset_qrels)} queries with relevant documents in the new corpus subset.\")\n",
    "\n",
    "\n",
    "    # Store the new subset data\n",
    "    subset_beir_data[dataset_name] = {\n",
    "        \"corpus\": subset_corpus,\n",
    "        \"queries\": subset_queries,\n",
    "        \"qrels\": subset_qrels\n",
    "    }"
   ]
  },
  {
   "cell_type": "markdown",
   "metadata": {
    "id": "VWIoxEHH7S4J"
   },
   "source": [
    "# Ingest data in Zilliz Vector DB"
   ]
  },
  {
   "cell_type": "code",
   "execution_count": 13,
   "metadata": {
    "id": "dsoo7s3L4RNY"
   },
   "outputs": [],
   "source": [
    "ZILLIZ_CLOUD_URI = userdata.get(\"ZILLIZ_ENDPOINT\")\n",
    "ZILLIZ_CLOUD_API_KEY = userdata.get(\"ZILLIZ_TOKEN\")"
   ]
  },
  {
   "cell_type": "code",
   "execution_count": 14,
   "metadata": {
    "id": "v19uRfE3ENYK"
   },
   "outputs": [],
   "source": [
    "zilliz_client = MilvusClient(\n",
    "        uri=ZILLIZ_CLOUD_URI,\n",
    "        token=ZILLIZ_CLOUD_API_KEY\n",
    "    )"
   ]
  },
  {
   "cell_type": "markdown",
   "metadata": {
    "id": "4kKr-cGF7ef5"
   },
   "source": [
    "Using all-MiniLM-L6-v2 embedding model from HuggingFace SentenceTransformers Library. It generates embeddings of 384 dimensions.\n",
    "\n"
   ]
  },
  {
   "cell_type": "code",
   "execution_count": 15,
   "metadata": {
    "colab": {
     "base_uri": "https://localhost:8080/",
     "height": 528,
     "referenced_widgets": [
      "c539053cd5ef41adb0cbb7c4c463558a",
      "b1639a4de21b45fb883ff3b3670e6901",
      "6b0f23ce939e44c38bb29675ec75c852",
      "b2ac80b862494e0e9b322a15bfab7ec9",
      "2e7da179f0a244a781163269e79b8a11",
      "40318e8010b54021a2074777f0e99f01",
      "aa108c0958864f5184e5b9dac31808b1",
      "42d59051f0d348198efc79d8f6334d80",
      "98c679fbf17e4af6a0e96bb2cf4d8a82",
      "dd9784303c134475a1c30ea64ed96cf3",
      "b3aff7777a924215a5cd64736f83ad0f",
      "9f222488e037408291c80fd20da9261d",
      "2634e5bf19a84933be53f72c4894f45d",
      "11100a5a285547a0bc8b61df9c7a636b",
      "8e29fd87a7544fe4918830fe3b75b4ce",
      "e50c41b74aff499d8251d501b590198e",
      "d281e91850e84bcc8d16f35947dcb1c0",
      "598f54c269f746c3b2987d27312e6d09",
      "3b6638e896d545c6b3da93d68f8f973b",
      "c9104997e80d47a6abdbc4018cc63673",
      "cd73c286908b42f5aae74401d9d863fa",
      "3bcbdcf0777448da8289045d7a209fba",
      "b5a6b681d0c74a5c8dcb7d59dd63d9b2",
      "2b1d26ca5a48470baf9c50ef890ad9dc",
      "e88b3306c6b34b41b7880c814b04d7a9",
      "8b554fd0528141bc93249c1f0f313546",
      "98d0112d271e44429220fbd338cef0ab",
      "0c85165bbfd44615b8bc2c3cba3c1418",
      "ed9bf51ace0540a2afee417284123c2e",
      "8aae57bf2928478a8b3520af717bfdcd",
      "6607d82587fd4dd08f1389699ca377ab",
      "92ecfbeaf404451fad96650530894e38",
      "8651cdad7ca44a948e374d276743e5a3",
      "c7a1345c26d747ce84ccc80856d27574",
      "ab4550f76b124c619f51be1b8d4bf0f5",
      "fe1b46b381c64309afac7230c8a3fee4",
      "c64c310e051f43c48c71ffea337c614f",
      "e71554d837a7475cac94d78ccdea9101",
      "22b78df0e4934ad4950eaf8fd2fd2c87",
      "ae0c0e2e809f4b8da8d8adba7de4d7d5",
      "83f00ca6781e41298bfd4d92240c38f7",
      "87bdb3dbfd6c467b91829c3e513c9b45",
      "02ac5ac0dffa4244b20a61d31c0c7e36",
      "21967b7f5ef54508b88b25c6a2c774dc",
      "41fa8a0e9a7146298ac85bad694a5648",
      "9eed34466dce4451b64c0ea220f6a6ae",
      "f04d70f4915f40afb2faebb8c9bbfb91",
      "53f222636c7d4a4fbf343f46d75928dd",
      "ad6bf5675d764b3688974aedfcea64cd",
      "e65f741e34c740e2be1235a5d454dd64",
      "dc7b70874f8541359c17f2bf13024d6b",
      "32d50dd25a9b4828ae851e04ea534a45",
      "a0b95f3e3cc346819e8c10d438a7df98",
      "1a302be11ad94eb98e6863361ee47853",
      "8c7041159ccc4a37b6722aab323168b1",
      "471d1f7025464f3e851a70fd0d579a51",
      "d9ed87d5835d4d51936b2c07457aed52",
      "d5924fcb500e4990bf6fdfbe30264dfb",
      "7f32aae3a3ad48099dc66d1474dca3c6",
      "f7b342a510c54d18abdac0e9b3ebea25",
      "fcee813f33bd4c0a8a05cb2697ff7b11",
      "e18e9242323a4d4ab6bc4f902b79f487",
      "86bce266fb6f4e22931cbd0b66dad8d0",
      "ac40cde4940f47bd945ff43ff2b6d93b",
      "c5eb580bc09f4e0a8d5f8aea03b2a947",
      "0706828295ed4f89ad0e360e8108bfdc",
      "754a5a06f7ef4dc8bfc61bcdd42b0552",
      "c7aa176972fc456fa59a1683848f3503",
      "7747f7c1d3144ced9519bc392b08ccdf",
      "eac37eb76c714ed1b4577cf209550c7a",
      "fd94b5242dec4fc38461ad4ffe5e36f9",
      "0b9b1e04928a40d297c41be24e61ef14",
      "f67fe12bbceb4bbdbdd5b945db318b4a",
      "75efb06755cc450d828c1c655ce2b057",
      "c02e8aaa7ed2430d84c73f39eb3012c6",
      "4d66b67a1e5a48f3bca6f926b882e322",
      "33405ef619d748f9870790f4b62ec112",
      "b72fad41722a457588411e9c3937bcc5",
      "41d932fd2bd54e48afdcf2b1cc2bdf37",
      "465f5fc119614a5f9c663f2f80cb70b4",
      "32598506cab24478a8ed70012d2041cb",
      "743ff28b8ee044cc82ace85bc7a11dbf",
      "66aa57f614d34ab79b8c8413e01766c2",
      "ed7c33cea7c848a5938f46c1f3ba7dab",
      "b3f226295c7e457799396a0c7f5b92b6",
      "c77900a27253497d913e59390a679d45",
      "1f5f829bca9f48d5b5bea9ec2bf07796",
      "e78334b0dc884948a94dc8866c17bd91",
      "f3bf59dce5f44752bc970b19d82cb1e4",
      "012d905ff1b548e7b3f301e843279788",
      "417e5886090248ce9e6e35ef74409505",
      "1cc20844bd474b52a3c512d713c65b14",
      "5e84e8ace8354b469925cc066ac966c4",
      "3d0c2354c3a947bbb650754e032b2b01",
      "f0d6c55f863441e3b5641cc6ff0a25e0",
      "c28f39ef0c064a75a8ca4a5c5bcf9c8f",
      "759c28f827ed4f89b5e691afd2d87e76",
      "8f1b1255f5c34ddda208ff1431880d9c",
      "76003e26c3a4484db821b020fe873478",
      "2bdc1f0bf52849d6b0945dcfebe50e28",
      "a8acf0efe88c45f09953988296d11f18",
      "48d10bdc8ea147c29f6019b4017ca08b",
      "48145363be4e47ee8029f07dfd1a96ed",
      "bcff999b10dd4b1b8ab9efa6347a3189",
      "6e32981da1d3417084021dcc72836c01",
      "302ee285c7174b26b9f0744ade46fc02",
      "8da84b97aa6b41e1a5998a1dc3a92a0c",
      "f51e1c2d56e4477d86f0509f47c8b535",
      "7216345b2ab14d0c943d04cbfd0d9a9c",
      "95af23d5a8574bc38afdaa16a7a33f03",
      "7cd76db8d2514217952258b35cacea99",
      "b8c70146ff8e464abae42197e9e0576e",
      "054b7fb4b6044e21811dc774051d8643",
      "7206e32108cc47e696030489543c5b75",
      "c3e39a068b9c47d1aafa92d33d95a2ba",
      "3a65df733c804404aece8e691f42b48b",
      "5e113d3f759348f59bf4101be786a158",
      "708263e5392a4459a802353039474e0c",
      "c0cb34994eac419caf0a4122671e2a5e",
      "f98ad292bbb24f9f8456ed01c887c211",
      "30c6cbcc0727451ab2bb87a7df03c931"
     ]
    },
    "id": "0vD4EAxbEW01",
    "outputId": "fb9321b8-f848-472c-e921-7500ee468e12"
   },
   "outputs": [
    {
     "name": "stderr",
     "output_type": "stream",
     "text": [
      "/usr/local/lib/python3.11/dist-packages/huggingface_hub/utils/_auth.py:94: UserWarning: \n",
      "The secret `HF_TOKEN` does not exist in your Colab secrets.\n",
      "To authenticate with the Hugging Face Hub, create a token in your settings tab (https://huggingface.co/settings/tokens), set it as secret in your Google Colab and restart your session.\n",
      "You will be able to reuse this secret in all of your notebooks.\n",
      "Please note that authentication is recommended but still optional to access public models or datasets.\n",
      "  warnings.warn(\n"
     ]
    },
    {
     "data": {
      "application/vnd.jupyter.widget-view+json": {
       "model_id": "c539053cd5ef41adb0cbb7c4c463558a",
       "version_major": 2,
       "version_minor": 0
      },
      "text/plain": [
       "modules.json:   0%|          | 0.00/349 [00:00<?, ?B/s]"
      ]
     },
     "metadata": {},
     "output_type": "display_data"
    },
    {
     "data": {
      "application/vnd.jupyter.widget-view+json": {
       "model_id": "9f222488e037408291c80fd20da9261d",
       "version_major": 2,
       "version_minor": 0
      },
      "text/plain": [
       "config_sentence_transformers.json:   0%|          | 0.00/116 [00:00<?, ?B/s]"
      ]
     },
     "metadata": {},
     "output_type": "display_data"
    },
    {
     "data": {
      "application/vnd.jupyter.widget-view+json": {
       "model_id": "b5a6b681d0c74a5c8dcb7d59dd63d9b2",
       "version_major": 2,
       "version_minor": 0
      },
      "text/plain": [
       "README.md: 0.00B [00:00, ?B/s]"
      ]
     },
     "metadata": {},
     "output_type": "display_data"
    },
    {
     "data": {
      "application/vnd.jupyter.widget-view+json": {
       "model_id": "c7a1345c26d747ce84ccc80856d27574",
       "version_major": 2,
       "version_minor": 0
      },
      "text/plain": [
       "sentence_bert_config.json:   0%|          | 0.00/53.0 [00:00<?, ?B/s]"
      ]
     },
     "metadata": {},
     "output_type": "display_data"
    },
    {
     "data": {
      "application/vnd.jupyter.widget-view+json": {
       "model_id": "41fa8a0e9a7146298ac85bad694a5648",
       "version_major": 2,
       "version_minor": 0
      },
      "text/plain": [
       "config.json:   0%|          | 0.00/612 [00:00<?, ?B/s]"
      ]
     },
     "metadata": {},
     "output_type": "display_data"
    },
    {
     "data": {
      "application/vnd.jupyter.widget-view+json": {
       "model_id": "471d1f7025464f3e851a70fd0d579a51",
       "version_major": 2,
       "version_minor": 0
      },
      "text/plain": [
       "model.safetensors:   0%|          | 0.00/90.9M [00:00<?, ?B/s]"
      ]
     },
     "metadata": {},
     "output_type": "display_data"
    },
    {
     "data": {
      "application/vnd.jupyter.widget-view+json": {
       "model_id": "754a5a06f7ef4dc8bfc61bcdd42b0552",
       "version_major": 2,
       "version_minor": 0
      },
      "text/plain": [
       "tokenizer_config.json:   0%|          | 0.00/350 [00:00<?, ?B/s]"
      ]
     },
     "metadata": {},
     "output_type": "display_data"
    },
    {
     "data": {
      "application/vnd.jupyter.widget-view+json": {
       "model_id": "b72fad41722a457588411e9c3937bcc5",
       "version_major": 2,
       "version_minor": 0
      },
      "text/plain": [
       "vocab.txt: 0.00B [00:00, ?B/s]"
      ]
     },
     "metadata": {},
     "output_type": "display_data"
    },
    {
     "data": {
      "application/vnd.jupyter.widget-view+json": {
       "model_id": "f3bf59dce5f44752bc970b19d82cb1e4",
       "version_major": 2,
       "version_minor": 0
      },
      "text/plain": [
       "tokenizer.json: 0.00B [00:00, ?B/s]"
      ]
     },
     "metadata": {},
     "output_type": "display_data"
    },
    {
     "data": {
      "application/vnd.jupyter.widget-view+json": {
       "model_id": "2bdc1f0bf52849d6b0945dcfebe50e28",
       "version_major": 2,
       "version_minor": 0
      },
      "text/plain": [
       "special_tokens_map.json:   0%|          | 0.00/112 [00:00<?, ?B/s]"
      ]
     },
     "metadata": {},
     "output_type": "display_data"
    },
    {
     "data": {
      "application/vnd.jupyter.widget-view+json": {
       "model_id": "7cd76db8d2514217952258b35cacea99",
       "version_major": 2,
       "version_minor": 0
      },
      "text/plain": [
       "config.json:   0%|          | 0.00/190 [00:00<?, ?B/s]"
      ]
     },
     "metadata": {},
     "output_type": "display_data"
    },
    {
     "name": "stdout",
     "output_type": "stream",
     "text": [
      "Model 'all-MiniLM-L6-v2' loaded successfully on cpu.\n",
      "Model output dimension: 384\n"
     ]
    }
   ],
   "source": [
    "device = \"cuda\" if torch.cuda.is_available() else \"cpu\"\n",
    "\n",
    "# Load the model\n",
    "try:\n",
    "    embedding_model = SentenceTransformer(\"all-MiniLM-L6-v2\", device=device)\n",
    "    print(f\"Model 'all-MiniLM-L6-v2' loaded successfully on {device}.\")\n",
    "    # Verify model output dimension (all-MiniLM-L6-v2 has 384 dimensions)\n",
    "    dummy_embedding = embedding_model.encode(\"test sentence\")\n",
    "    print(f\"Model output dimension: {len(dummy_embedding)}\")\n",
    "\n",
    "except Exception as e:\n",
    "    print(f\"Failed to load embedding model: {e}\")"
   ]
  },
  {
   "cell_type": "markdown",
   "metadata": {
    "id": "HDb7ObBl7wFX"
   },
   "source": [
    "Batch ingestion"
   ]
  },
  {
   "cell_type": "code",
   "execution_count": 16,
   "metadata": {
    "id": "ZUheTEgNFARP"
   },
   "outputs": [],
   "source": [
    "DIMENSION = 384 # Dimension for all-MiniLM-L6-v2\n",
    "BATCH_SIZE = 64\n",
    "embedding_model = SentenceTransformer(\"all-MiniLM-L6-v2\")\n",
    "ingestion_metrics = {}\n",
    "PAILLIER_SCALING_FACTOR = 10**3"
   ]
  },
  {
   "cell_type": "markdown",
   "metadata": {
    "id": "dObzZPYON_76"
   },
   "source": [
    "Note that using a GPU runtime has absolutely no effect on Paillier homomorphic operations"
   ]
  },
  {
   "cell_type": "code",
   "execution_count": 18,
   "metadata": {
    "colab": {
     "base_uri": "https://localhost:8080/",
     "height": 738,
     "referenced_widgets": [
      "501b1bf4823c4421838198fe08190ab3",
      "678269b6bd3842f8b2a9d9728fb01a9c",
      "59fedf74b2b444cfb300202ec4857832",
      "8bfb9a482e9a4377b1ebb1a2ea5b2bb3",
      "227d3b4a0dd144d29db2d2a458d48af6",
      "f0928f797ba04bc299a1cc6e2b21941e",
      "5922940bcb7948ba96877ab9a6137e03",
      "4a7bc40dfb724dcbb04b309f44b5a001",
      "4b8ab59e1c3549f296edaaf3b6e8ec24",
      "9e18606c8a104689b10e18eb0819d300",
      "6477cf28de5f4c0ba0bb39e1969e5801",
      "f93ba02b6fd14f75adef972dff0580bf",
      "09a5f4ca3a6d475fa1800e9205abf913",
      "2ff90be4ccea4a1d8cb751cfda62f2cc",
      "c3a0252c0a8b429194a7fec9df27a23a",
      "272ce044e5f64445846989924a60ad98",
      "1aae9cb365e74ce4806d1b6e6858a3fc",
      "ea6bd1378f9d42cd9db3ad03fabd5dad",
      "78e2789b6f9a44bf8c40a70ca95b6c26",
      "717dfe62bc0044abbf09204b37672e00",
      "fa202bcf1faf45069956ed520adf74fb",
      "2a025b1efca64fe0bf21ca03e798084e",
      "bbee440e8c6948b2863a8ea8a0da4cbf",
      "20325b0515904536a06e31e20026a524",
      "b4419b9e51694427b1ffc5bf4cc9f8bf",
      "8fe26cc3ce6548f98cacfcffc944692e",
      "5dac1a8a6e2742a597f534de0c31488d",
      "f314392cd6a347ec9c52b217021e4ec8",
      "0329f3b3ae7149f697f8ef036e52084e",
      "c101f635f72c4840851626d0e6d57745",
      "bb27dc7ecfeb486d885fdf20da05e73d",
      "1c2464b4730a4723afd7810575931fea",
      "651491ac470f49d6929298503887805a"
     ]
    },
    "id": "UUW7qqZkG9tF",
    "outputId": "5ab75eef-fe0c-453f-836e-b7905b0dad82"
   },
   "outputs": [
    {
     "name": "stdout",
     "output_type": "stream",
     "text": [
      "\n",
      "Processing Zilliz ingestion for dataset: nfcorpus\n",
      "Collection 'subset_beir_paillier_nfcorpus' already exists. Dropping and recreating.\n",
      "Creating collection 'subset_beir_paillier_nfcorpus'...\n",
      "Collection 'subset_beir_paillier_nfcorpus' created successfully.\n",
      "Generating embeddings and inserting data for 'nfcorpus' corpus (713 documents)...\n"
     ]
    },
    {
     "data": {
      "application/vnd.jupyter.widget-view+json": {
       "model_id": "501b1bf4823c4421838198fe08190ab3",
       "version_major": 2,
       "version_minor": 0
      },
      "text/plain": [
       "Ingesting nfcorpus:   0%|          | 0/12 [00:00<?, ?it/s]"
      ]
     },
     "metadata": {},
     "output_type": "display_data"
    },
    {
     "name": "stdout",
     "output_type": "stream",
     "text": [
      "Finished inserting data for 'nfcorpus'. Total ingestion time: 4965.14 seconds\n",
      "Estimated raw embedding data size for 'nfcorpus': 1.04 MB\n",
      "Creating HNSW index for 'subset_beir_paillier_nfcorpus'...\n",
      "HNSW index created for 'subset_beir_paillier_nfcorpus'.\n",
      "Loading collection 'subset_beir_paillier_nfcorpus' into memory...\n",
      "Collection 'subset_beir_paillier_nfcorpus' loaded successfully.\n",
      "\n",
      "Processing Zilliz ingestion for dataset: fiqa\n",
      "Collection 'subset_beir_paillier_fiqa' already exists. Dropping and recreating.\n",
      "Creating collection 'subset_beir_paillier_fiqa'...\n",
      "Collection 'subset_beir_paillier_fiqa' created successfully.\n",
      "Generating embeddings and inserting data for 'fiqa' corpus (100 documents)...\n"
     ]
    },
    {
     "data": {
      "application/vnd.jupyter.widget-view+json": {
       "model_id": "f93ba02b6fd14f75adef972dff0580bf",
       "version_major": 2,
       "version_minor": 0
      },
      "text/plain": [
       "Ingesting fiqa:   0%|          | 0/2 [00:00<?, ?it/s]"
      ]
     },
     "metadata": {},
     "output_type": "display_data"
    },
    {
     "name": "stdout",
     "output_type": "stream",
     "text": [
      "Finished inserting data for 'fiqa'. Total ingestion time: 693.13 seconds\n",
      "Estimated raw embedding data size for 'fiqa': 0.15 MB\n",
      "Creating HNSW index for 'subset_beir_paillier_fiqa'...\n",
      "HNSW index created for 'subset_beir_paillier_fiqa'.\n",
      "Loading collection 'subset_beir_paillier_fiqa' into memory...\n",
      "Collection 'subset_beir_paillier_fiqa' loaded successfully.\n",
      "\n",
      "Processing Zilliz ingestion for dataset: scidocs\n",
      "Collection 'subset_beir_paillier_scidocs' already exists. Dropping and recreating.\n",
      "Creating collection 'subset_beir_paillier_scidocs'...\n",
      "Collection 'subset_beir_paillier_scidocs' created successfully.\n",
      "Generating embeddings and inserting data for 'scidocs' corpus (241 documents)...\n"
     ]
    },
    {
     "data": {
      "application/vnd.jupyter.widget-view+json": {
       "model_id": "bbee440e8c6948b2863a8ea8a0da4cbf",
       "version_major": 2,
       "version_minor": 0
      },
      "text/plain": [
       "Ingesting scidocs:   0%|          | 0/4 [00:00<?, ?it/s]"
      ]
     },
     "metadata": {},
     "output_type": "display_data"
    },
    {
     "name": "stdout",
     "output_type": "stream",
     "text": [
      "Finished inserting data for 'scidocs'. Total ingestion time: 1672.69 seconds\n",
      "Estimated raw embedding data size for 'scidocs': 0.35 MB\n",
      "Creating HNSW index for 'subset_beir_paillier_scidocs'...\n",
      "HNSW index created for 'subset_beir_paillier_scidocs'.\n",
      "Loading collection 'subset_beir_paillier_scidocs' into memory...\n",
      "Collection 'subset_beir_paillier_scidocs' loaded successfully.\n"
     ]
    }
   ],
   "source": [
    "for dataset_name in subset_beir_data:\n",
    "    print(f\"\\nProcessing Zilliz ingestion for dataset: {dataset_name}\")\n",
    "\n",
    "    # Add \"paillier\" to collection name\n",
    "    collection_name = f\"subset_beir_paillier_{dataset_name.replace('-', '_')}\"\n",
    "\n",
    "    # Define and Create Collection\n",
    "    if zilliz_client.has_collection(collection_name=collection_name):\n",
    "        print(f\"Collection '{collection_name}' already exists. Dropping and recreating.\")\n",
    "        zilliz_client.drop_collection(collection_name=collection_name)\n",
    "\n",
    "    # Storing encrypted vectors as float vectors\n",
    "    fields = [\n",
    "        FieldSchema(name=\"doc_id\", dtype=DataType.VARCHAR, max_length=512, is_primary=True),\n",
    "        FieldSchema(name=\"title\", dtype=DataType.VARCHAR, max_length=512),\n",
    "        FieldSchema(name=\"text\", dtype=DataType.VARCHAR, max_length=65535),\n",
    "        FieldSchema(name=\"vector\", dtype=DataType.FLOAT_VECTOR, dim=DIMENSION) # Storing normalized encrypted values\n",
    "    ]\n",
    "    schema = CollectionSchema(fields, description=f\"BEIR {dataset_name} documents (Paillier Encrypted)\")\n",
    "\n",
    "    print(f\"Creating collection '{collection_name}'...\")\n",
    "    zilliz_client.create_collection(\n",
    "        collection_name=collection_name,\n",
    "        schema=schema,\n",
    "        consistency_level=\"Strong\"\n",
    "    )\n",
    "    print(f\"Collection '{collection_name}' created successfully.\")\n",
    "\n",
    "    # Iterate, Embed, Prepare, and Insert\n",
    "    corpus = subset_beir_data[dataset_name][\"corpus\"]\n",
    "    doc_ids = list(corpus.keys())\n",
    "    num_documents = len(doc_ids)\n",
    "\n",
    "    start_total_ingestion = time.perf_counter()\n",
    "\n",
    "    documents_to_embed = []\n",
    "    original_titles = []\n",
    "    original_texts = []\n",
    "\n",
    "    for doc_id in doc_ids:\n",
    "        title = corpus[doc_id].get(\"title\", \"\")\n",
    "        text = corpus[doc_id].get(\"text\", \"\")\n",
    "        content_to_embed = f\"{title} {text}\".strip()\n",
    "        documents_to_embed.append(content_to_embed)\n",
    "        original_titles.append(title)\n",
    "        original_texts.append(text)\n",
    "\n",
    "    print(f\"Generating embeddings and inserting data for '{dataset_name}' corpus ({len(doc_ids)} documents)...\")\n",
    "\n",
    "    # Process in batches\n",
    "    for i in tqdm(range(0, len(doc_ids), BATCH_SIZE), desc=f\"Ingesting {dataset_name}\"):\n",
    "        batch_doc_ids = doc_ids[i:i + BATCH_SIZE]\n",
    "        batch_contents = documents_to_embed[i:i + BATCH_SIZE]\n",
    "        batch_titles = original_titles[i:i + BATCH_SIZE]\n",
    "        batch_texts = original_texts[i:i + BATCH_SIZE]\n",
    "\n",
    "        # Generate UNENCRYPTED embeddings first\n",
    "        unencrypted_batch_vectors = embedding_model.encode(batch_contents, convert_to_list=True)\n",
    "\n",
    "        # Encrypt each vector in the batch using Paillier\n",
    "        encrypted_batch_vectors_normalized = []\n",
    "        for vec in unencrypted_batch_vectors:\n",
    "            # paillier.encrypt_vector returns an EncryptResult object\n",
    "            encrypted_result = paillier.encrypt_vector(paillier_key, vec.tolist(), scaling_factor=PAILLIER_SCALING_FACTOR)\n",
    "            # We store the normalized ciphertext (float list) in Zilliz\n",
    "            encrypted_batch_vectors_normalized.append(encrypted_result.ciphertext)\n",
    "\n",
    "        # Prepare entities for insertion (now with encrypted and normalized vectors)\n",
    "        entities = []\n",
    "        for j in range(len(batch_doc_ids)):\n",
    "            entities.append({\n",
    "                \"doc_id\": batch_doc_ids[j],\n",
    "                \"title\": batch_titles[j],\n",
    "                \"text\": batch_texts[j],\n",
    "                \"vector\": encrypted_batch_vectors_normalized[j] # Store the normalized encrypted vector\n",
    "            })\n",
    "\n",
    "        # Insert the batch\n",
    "        zilliz_client.insert(\n",
    "            collection_name=collection_name,\n",
    "            data=entities\n",
    "        )\n",
    "\n",
    "    end_total_ingestion = time.perf_counter()\n",
    "    total_ingestion_time = end_total_ingestion - start_total_ingestion\n",
    "    print(f\"Finished inserting data for '{dataset_name}'. Total ingestion time: {total_ingestion_time:.2f} seconds\")\n",
    "\n",
    "    estimated_embedding_size_bytes = num_documents * DIMENSION * 4 # 4 bytes per float\n",
    "    estimated_embedding_size_mb = estimated_embedding_size_bytes / (1024 * 1024)\n",
    "    print(f\"Estimated raw embedding data size for '{dataset_name}': {estimated_embedding_size_mb:.2f} MB\")\n",
    "\n",
    "    ingestion_metrics[dataset_name] = {\n",
    "        \"total_ingestion_time_seconds\": total_ingestion_time,\n",
    "        \"estimated_embedding_size_mb\": estimated_embedding_size_mb,\n",
    "        \"num_documents\": num_documents\n",
    "    }\n",
    "\n",
    "    # Create HNSW Index (on encrypted and normalized vectors)\n",
    "    print(f\"Creating HNSW index for '{collection_name}'...\")\n",
    "    index_params = zilliz_client.prepare_index_params()\n",
    "    index_params.add_index(\n",
    "        field_name=\"vector\",\n",
    "        index_type=\"HNSW\",\n",
    "        metric_type=\"COSINE\",\n",
    "    )\n",
    "    zilliz_client.create_index(\n",
    "        collection_name=collection_name,\n",
    "        index_params=index_params\n",
    "    )\n",
    "    print(f\"HNSW index created for '{collection_name}'.\")\n",
    "\n",
    "    # Load collection into memory\n",
    "    print(f\"Loading collection '{collection_name}' into memory...\")\n",
    "    zilliz_client.load_collection(collection_name=collection_name)\n",
    "    print(f\"Collection '{collection_name}' loaded successfully.\")"
   ]
  },
  {
   "cell_type": "markdown",
   "metadata": {
    "id": "PWwrXC0472T-"
   },
   "source": [
    "# Running queries"
   ]
  },
  {
   "cell_type": "code",
   "execution_count": 19,
   "metadata": {
    "id": "u8JdklLCIvOJ"
   },
   "outputs": [],
   "source": [
    "QUERY_BATCH_SIZE = 10 # Process queries in batches for embedding and searching - 10 is the max allowed by Zilliz\n",
    "MAX_SEARCH_RESULTS = 100 # Retrieve top 100 for max k_value"
   ]
  },
  {
   "cell_type": "code",
   "execution_count": 20,
   "metadata": {
    "id": "XF13Va3NMjCx"
   },
   "outputs": [],
   "source": [
    "def get_zilliz_search_results_paillier(\n",
    "    zilliz_client: MilvusClient,\n",
    "    embedding_model: SentenceTransformer,\n",
    "    paillier_key: PaillierKey, # Paillier key\n",
    "    collection_name: str,\n",
    "    queries: dict,\n",
    "    top_k: int = MAX_SEARCH_RESULTS,\n",
    "    paillier_scaling_factor: int = PAILLIER_SCALING_FACTOR\n",
    ") -> tuple[dict, list]:\n",
    "    \"\"\"\n",
    "    Performs vector similarity search on a Zilliz collection for given queries\n",
    "    and formats results for BEIR evaluation, using Paillier encrypted queries.\n",
    "\n",
    "    Args:\n",
    "        zilliz_client: An initialized MilvusClient instance.\n",
    "        embedding_model: The loaded SentenceTransformer model.\n",
    "        paillier_key: The Paillier encryption key.\n",
    "        collection_name: The name of the Zilliz collection to search (should be Paillier collection).\n",
    "        queries: A dictionary of queries with query_id as key and query_text as value.\n",
    "        top_k: The maximum number of results to retrieve per query.\n",
    "        paillier_scaling_factor: The scaling factor used for Paillier encryption.\n",
    "\n",
    "    Returns:\n",
    "        A dictionary in BEIR evaluation format: {query_id: {doc_id: score, ...}}\n",
    "        And a list of individual query latencies in milliseconds.\n",
    "    \"\"\"\n",
    "    print(f\"Retrieving results from '{collection_name}' for {len(queries)} queries, top_k={top_k}...\")\n",
    "\n",
    "    search_results = {}\n",
    "    query_ids = list(queries.keys())\n",
    "    query_texts = [queries[qid] for qid in query_ids]\n",
    "\n",
    "    all_query_latencies_ms = []\n",
    "\n",
    "    for i in tqdm(range(0, len(query_ids), QUERY_BATCH_SIZE), desc=f\"Searching {collection_name}\"):\n",
    "        batch_query_ids = query_ids[i:i + QUERY_BATCH_SIZE]\n",
    "        batch_query_texts = query_texts[i:i + QUERY_BATCH_SIZE]\n",
    "\n",
    "        # Generate UNENCRYPTED embeddings for the current batch of queries\n",
    "        unencrypted_batch_query_vectors = embedding_model.encode(batch_query_texts, convert_to_list=True)\n",
    "\n",
    "        # Encrypt each query vector using Paillier\n",
    "        encrypted_batch_query_vectors_normalized = []\n",
    "        for vec in unencrypted_batch_query_vectors:\n",
    "            encrypted_result = paillier.encrypt_vector(paillier_key, vec.tolist(), scaling_factor=paillier_scaling_factor)\n",
    "            encrypted_batch_query_vectors_normalized.append(encrypted_result.ciphertext) # Use the normalized ciphertext\n",
    "\n",
    "        search_params = {\n",
    "            \"metric_type\": \"COSINE\",\n",
    "            \"params\": {\"ef\": max(top_k, 128)}\n",
    "        }\n",
    "\n",
    "        start_search_call = time.perf_counter()\n",
    "        try:\n",
    "            # Perform the batched search in Zilliz using ENCRYPTED and NORMALIZED query vectors\n",
    "            hits_per_query = zilliz_client.search(\n",
    "                collection_name=collection_name,\n",
    "                data=encrypted_batch_query_vectors_normalized, # Use normalized encrypted vectors\n",
    "                limit=top_k,\n",
    "                output_fields=[\"doc_id\"],\n",
    "                search_params=search_params\n",
    "            )\n",
    "            end_search_call = time.perf_counter()\n",
    "            search_call_duration_ms = (end_search_call - start_search_call) * 1000\n",
    "\n",
    "            if batch_query_ids:\n",
    "                latency_per_query_in_batch = search_call_duration_ms / len(batch_query_ids)\n",
    "                all_query_latencies_ms.extend([latency_per_query_in_batch] * len(batch_query_ids))\n",
    "\n",
    "            for q_idx, query_id in enumerate(batch_query_ids):\n",
    "                query_hits = {}\n",
    "                for hit in hits_per_query[q_idx]:\n",
    "                    query_hits[str(hit.id)] = float(hit.distance)\n",
    "                search_results[str(query_id)] = query_hits\n",
    "\n",
    "        except Exception as e:\n",
    "            print(f\"Error during search for batch starting with {batch_query_ids[0]}: {e}\")\n",
    "            continue\n",
    "\n",
    "    print(f\"Finished retrieving results from '{collection_name}'.\")\n",
    "    return search_results, all_query_latencies_ms"
   ]
  },
  {
   "cell_type": "code",
   "execution_count": 21,
   "metadata": {
    "id": "HPcbe8Z3NDco"
   },
   "outputs": [],
   "source": [
    "# Define the list of k-values for evaluation\n",
    "k_values = [1, 3, 5, 10, 50, 100]\n",
    "\n",
    "# List to store results for all datasets\n",
    "all_evaluation_results = []"
   ]
  },
  {
   "cell_type": "markdown",
   "metadata": {
    "id": "hqD_xlTc7_ei"
   },
   "source": [
    "## Evaluating Results"
   ]
  },
  {
   "cell_type": "code",
   "execution_count": 22,
   "metadata": {
    "id": "9v-slPx0cgIY"
   },
   "outputs": [],
   "source": [
    "!pip install -q psutil memory_profiler pyRAPL"
   ]
  },
  {
   "cell_type": "code",
   "execution_count": 23,
   "metadata": {
    "id": "qS3Yxt6Ib4PF"
   },
   "outputs": [],
   "source": [
    "from contextlib import contextmanager\n",
    "import psutil, os, time, tracemalloc\n",
    "import numpy as np\n",
    "import pandas as pd\n",
    "import matplotlib.pyplot as plt\n",
    "import seaborn as sns\n",
    "\n",
    "@contextmanager\n",
    "def resource_probe(label):\n",
    "    proc = psutil.Process(os.getpid())\n",
    "    cpu_t0 = proc.cpu_times().user + proc.cpu_times().system\n",
    "    mem0 = proc.memory_info().rss\n",
    "    tracemalloc.start()\n",
    "    t0 = time.perf_counter()\n",
    "    yield\n",
    "    elapsed = time.perf_counter() - t0\n",
    "    mem_peak = max(stat.size for stat in tracemalloc.take_snapshot().statistics('filename')) if tracemalloc.is_tracing() else 0\n",
    "    tracemalloc.stop()\n",
    "    cpu_t1 = proc.cpu_times().user + proc.cpu_times().system\n",
    "    mem1 = proc.memory_info().rss\n",
    "    cpu_sec = cpu_t1 - cpu_t0\n",
    "    delta_rss = (mem1 - mem0) / 1e6\n",
    "    peak_mb = mem_peak / 1e6\n",
    "    print(f\"[{label}] wall={elapsed*1e3:.2f} ms | CPU={cpu_sec:.3f}s | ΔRSS={delta_rss:.1f} MB | peak={peak_mb:.1f} MB\")\n"
   ]
  },
  {
   "cell_type": "code",
   "execution_count": 24,
   "metadata": {
    "colab": {
     "base_uri": "https://localhost:8080/",
     "height": 686,
     "referenced_widgets": [
      "a0673ae626cb4b6c83cdd6e6fc9ec372",
      "2b4ceb90d62041c1809cfa05c9c17317",
      "aa8da57b743e406f814794161296699a",
      "9cab953f14e7490996552b723cf8b735",
      "c890b70f4c604a9b99804d6184912f47",
      "4f58be2914c9450683cba9993f1d020c",
      "8d04b9ed9d61439191f0f94359defa93",
      "15d20ffa349f48d0bb295333921798a5",
      "d6ebe29cf78543acb59204d40d246bc4",
      "c77f793d2144481399f89e38c31df95b",
      "5d495c579fc848ef99f5251d72ae3e5e",
      "86e7cb6042fe4aa1b16757e1acb02646",
      "4bcbf1c73b97422d906517baf3c5f53e",
      "7296a4e542944b459c5f137f3105ab03",
      "912c365c67a345d7ac417fda31ba8608",
      "9ba45f041cf44843857df4759350b30a",
      "2153a10f217443db8e5b040b298d741d",
      "c3a0aa7db28442e2953a25a0e09f13cb",
      "e2a1b8a082d2483c831fa1e2cf0798c7",
      "d6f3c96a9f9b43ac9fae42439177cc77",
      "fc64c5ed31e84afbb5418d815acaf9e7",
      "63ce9b3769d44de687b8c9455728378a",
      "dd8a029bad3a4413a2a9416a574be27c",
      "c0aad9d82b1f4e5f867e8c89b8460427",
      "cfc36b4552aa4bbfa0950ade8465643d",
      "75da1f3f61ae441fa52af4ead6e23599",
      "27bf1fd0dfee4b5c9a73fe2c9856b177",
      "f2fdfae448ff4c87996b5f0fbd889169",
      "f4dc9024e0e747d2adc90b24983c3998",
      "386c5ba1b27641a8817b4b837b0df839",
      "6e1c26cddfd04c91b5fc5517efd13782",
      "e995ecfdedd5421498e89d1065b4b46a",
      "0231295f2b194e2bb31ad5843bbe9901"
     ]
    },
    "id": "J5SvYYUHOSMd",
    "outputId": "14f1c351-0162-4af8-ca93-d9400045afd3"
   },
   "outputs": [
    {
     "name": "stdout",
     "output_type": "stream",
     "text": [
      "\n",
      "Starting evaluation for dataset: nfcorpus\n",
      "Retrieving search results from Zilliz for 'nfcorpus' (Paillier)...\n",
      "Retrieving results from 'subset_beir_paillier_nfcorpus' for 16 queries, top_k=100...\n"
     ]
    },
    {
     "data": {
      "application/vnd.jupyter.widget-view+json": {
       "model_id": "a0673ae626cb4b6c83cdd6e6fc9ec372",
       "version_major": 2,
       "version_minor": 0
      },
      "text/plain": [
       "Searching subset_beir_paillier_nfcorpus:   0%|          | 0/2 [00:00<?, ?it/s]"
      ]
     },
     "metadata": {},
     "output_type": "display_data"
    },
    {
     "name": "stdout",
     "output_type": "stream",
     "text": [
      "Finished retrieving results from 'subset_beir_paillier_nfcorpus'.\n",
      "[nfcorpus_query_eval] wall=145334.15 ms | CPU=139.080s | ΔRSS=0.3 MB | peak=0.1 MB\n",
      "Retrieved 16 queries' results for 'nfcorpus'.\n",
      "  Avg Search Latency: 62.63 ms\n",
      "  P90 Search Latency: 77.37 ms\n",
      "  P99 Search Latency: 77.37 ms\n",
      "Evaluation for 'nfcorpus' complete.\n",
      "\n",
      "Starting evaluation for dataset: fiqa\n",
      "Retrieving search results from Zilliz for 'fiqa' (Paillier)...\n",
      "Retrieving results from 'subset_beir_paillier_fiqa' for 32 queries, top_k=100...\n"
     ]
    },
    {
     "data": {
      "application/vnd.jupyter.widget-view+json": {
       "model_id": "86e7cb6042fe4aa1b16757e1acb02646",
       "version_major": 2,
       "version_minor": 0
      },
      "text/plain": [
       "Searching subset_beir_paillier_fiqa:   0%|          | 0/4 [00:00<?, ?it/s]"
      ]
     },
     "metadata": {},
     "output_type": "display_data"
    },
    {
     "name": "stdout",
     "output_type": "stream",
     "text": [
      "Finished retrieving results from 'subset_beir_paillier_fiqa'.\n",
      "[fiqa_query_eval] wall=301511.94 ms | CPU=273.270s | ΔRSS=0.6 MB | peak=0.3 MB\n",
      "Retrieved 32 queries' results for 'fiqa'.\n",
      "  Avg Search Latency: 858.83 ms\n",
      "  P90 Search Latency: 584.56 ms\n",
      "  P99 Search Latency: 10220.19 ms\n",
      "Evaluation for 'fiqa' complete.\n",
      "\n",
      "Starting evaluation for dataset: scidocs\n",
      "Retrieving search results from Zilliz for 'scidocs' (Paillier)...\n",
      "Retrieving results from 'subset_beir_paillier_scidocs' for 50 queries, top_k=100...\n"
     ]
    },
    {
     "data": {
      "application/vnd.jupyter.widget-view+json": {
       "model_id": "dd8a029bad3a4413a2a9416a574be27c",
       "version_major": 2,
       "version_minor": 0
      },
      "text/plain": [
       "Searching subset_beir_paillier_scidocs:   0%|          | 0/5 [00:00<?, ?it/s]"
      ]
     },
     "metadata": {},
     "output_type": "display_data"
    },
    {
     "name": "stdout",
     "output_type": "stream",
     "text": [
      "Finished retrieving results from 'subset_beir_paillier_scidocs'.\n",
      "[scidocs_query_eval] wall=433242.52 ms | CPU=427.890s | ΔRSS=7.8 MB | peak=0.6 MB\n",
      "Retrieved 50 queries' results for 'scidocs'.\n",
      "  Avg Search Latency: 72.47 ms\n",
      "  P90 Search Latency: 96.04 ms\n",
      "  P99 Search Latency: 96.04 ms\n",
      "Evaluation for 'scidocs' complete.\n"
     ]
    }
   ],
   "source": [
    "# --- Evaluation loop for Paillier ---\n",
    "for dataset_name in subset_beir_data:\n",
    "    print(f\"\\nStarting evaluation for dataset: {dataset_name}\")\n",
    "\n",
    "    qrels = {\n",
    "        str(query_id): {str(doc_id): int(score) for doc_id, score in doc_scores_dict.items()}\n",
    "        for query_id, doc_scores_dict in subset_beir_data[dataset_name][\"qrels\"].items()\n",
    "    }\n",
    "    queries = subset_beir_data[dataset_name][\"queries\"]\n",
    "\n",
    "    if not queries or not qrels:\n",
    "        print(f\"  Skipping evaluation for '{dataset_name}' as the query or qrels subset is empty.\")\n",
    "        continue\n",
    "\n",
    "    collection_name = f\"subset_beir_paillier_{dataset_name.replace('-', '_')}\"\n",
    "    print(f\"Retrieving search results from Zilliz for '{dataset_name}' (Paillier)...\")\n",
    "\n",
    "    # Use resource probe\n",
    "    with resource_probe(f\"{dataset_name}_query_eval\"):\n",
    "        results, query_latencies_ms = get_zilliz_search_results_paillier(\n",
    "            zilliz_client=zilliz_client,\n",
    "            embedding_model=embedding_model,\n",
    "            paillier_key=paillier_key,\n",
    "            collection_name=collection_name,\n",
    "            queries=queries,\n",
    "            top_k=max(k_values),\n",
    "            paillier_scaling_factor=PAILLIER_SCALING_FACTOR\n",
    "        )\n",
    "\n",
    "    if not results:\n",
    "        print(f\"No results retrieved for '{dataset_name}'. Skipping evaluation for this dataset.\")\n",
    "        continue\n",
    "\n",
    "    print(f\"Retrieved {len(results)} queries' results for '{dataset_name}'.\")\n",
    "\n",
    "    avg_search_latency_ms = np.mean(query_latencies_ms) if query_latencies_ms else 0\n",
    "    p90_search_latency_ms = np.percentile(query_latencies_ms, 90) if query_latencies_ms else 0\n",
    "    p99_search_latency_ms = np.percentile(query_latencies_ms, 99) if query_latencies_ms else 0\n",
    "\n",
    "    print(f\"  Avg Search Latency: {avg_search_latency_ms:.2f} ms\")\n",
    "    print(f\"  P90 Search Latency: {p90_search_latency_ms:.2f} ms\")\n",
    "    print(f\"  P99 Search Latency: {p99_search_latency_ms:.2f} ms\")\n",
    "\n",
    "    dataset_results = {\n",
    "        \"Dataset\": f\"{dataset_name}_subset\",\n",
    "        \"Avg_Search_Latency_ms\": avg_search_latency_ms,\n",
    "        \"P90_Search_Latency_ms\": p90_search_latency_ms,\n",
    "        \"P99_Search_Latency_ms\": p99_search_latency_ms,\n",
    "        \"Total_Ingestion_Time_s\": ingestion_metrics[dataset_name][\"total_ingestion_time_seconds\"],\n",
    "        \"Estimated_Embedding_Size_MB\": ingestion_metrics[dataset_name][\"estimated_embedding_size_mb\"],\n",
    "        \"Num_Documents\": ingestion_metrics[dataset_name][\"num_documents\"]\n",
    "    }\n",
    "    all_evaluation_results.append(dataset_results)\n",
    "\n",
    "    print(f\"Evaluation for '{dataset_name}' complete.\")"
   ]
  },
  {
   "cell_type": "markdown",
   "metadata": {
    "id": "7sEztddG8CRK"
   },
   "source": [
    "# Visualizing the results"
   ]
  },
  {
   "cell_type": "code",
   "execution_count": 25,
   "metadata": {
    "colab": {
     "base_uri": "https://localhost:8080/",
     "height": 652
    },
    "id": "G7evhyxWYqMg",
    "outputId": "0f46d3e3-2b31-495f-d74f-5aa2c0e56206"
   },
   "outputs": [
    {
     "name": "stdout",
     "output_type": "stream",
     "text": [
      "\n",
      "--- Consolidated Resource Utilization Results (Paillier Encrypted) ---\n",
      "           Dataset  Total_Ingestion_Time_s  Estimated_Embedding_Size_MB  Avg_Search_Latency_ms  P90_Search_Latency_ms  P99_Search_Latency_ms  Num_Documents\n",
      "0  nfcorpus_subset             4965.141793                     1.044434              62.634717              77.370065              77.370065            713\n",
      "1      fiqa_subset              693.132811                     0.146484             858.833966             584.555001           10220.192612            100\n",
      "2   scidocs_subset             1672.685599                     0.353027              72.470494              96.041493              96.041493            241\n"
     ]
    },
    {
     "name": "stderr",
     "output_type": "stream",
     "text": [
      "/tmp/ipython-input-25-762617671.py:47: FutureWarning: \n",
      "\n",
      "Passing `palette` without assigning `hue` is deprecated and will be removed in v0.14.0. Assign the `x` variable to `hue` and set `legend=False` for the same effect.\n",
      "\n",
      "  sns.barplot(x=\"Dataset\", y=\"Total Ingestion Time (s)\", data=operational_df, palette=\"crest\")\n",
      "/tmp/ipython-input-25-762617671.py:53: FutureWarning: \n",
      "\n",
      "Passing `palette` without assigning `hue` is deprecated and will be removed in v0.14.0. Assign the `x` variable to `hue` and set `legend=False` for the same effect.\n",
      "\n",
      "  sns.barplot(x=\"Dataset\", y=\"Estimated Embedding Size (MB)\", data=operational_df, palette=\"mako\")\n"
     ]
    },
    {
     "data": {
      "image/png": "[encoded data removed]",
      "text/plain": [
       "<Figure size 2000x700 with 3 Axes>"
      ]
     },
     "metadata": {},
     "output_type": "display_data"
    }
   ],
   "source": [
    "# --- Flatten and build DataFrame ---\n",
    "flattened_results = []\n",
    "for dataset_result in all_evaluation_results:\n",
    "    row = {\n",
    "        \"Dataset\": dataset_result[\"Dataset\"],\n",
    "        \"Avg_Search_Latency_ms\": dataset_result[\"Avg_Search_Latency_ms\"],\n",
    "        \"P90_Search_Latency_ms\": dataset_result[\"P90_Search_Latency_ms\"],\n",
    "        \"P99_Search_Latency_ms\": dataset_result[\"P99_Search_Latency_ms\"],\n",
    "        \"Total_Ingestion_Time_s\": dataset_result[\"Total_Ingestion_Time_s\"],\n",
    "        \"Estimated_Embedding_Size_MB\": dataset_result[\"Estimated_Embedding_Size_MB\"],\n",
    "        \"Num_Documents\": dataset_result[\"Num_Documents\"]\n",
    "    }\n",
    "    flattened_results.append(row)\n",
    "\n",
    "results_df = pd.DataFrame(flattened_results)\n",
    "\n",
    "operational_columns = [\n",
    "    \"Total_Ingestion_Time_s\", \"Estimated_Embedding_Size_MB\",\n",
    "    \"Avg_Search_Latency_ms\", \"P90_Search_Latency_ms\", \"P99_Search_Latency_ms\",\n",
    "    \"Num_Documents\"\n",
    "]\n",
    "ordered_columns = ['Dataset'] + operational_columns\n",
    "results_df = results_df[ordered_columns]\n",
    "\n",
    "print(\"\\n--- Consolidated Resource Utilization Results (Paillier Encrypted) ---\")\n",
    "print(results_df.to_string())\n",
    "\n",
    "\n",
    "# --- Visualization ---\n",
    "operational_plot_data = []\n",
    "for dataset_result in all_evaluation_results:\n",
    "    operational_plot_data.append({\n",
    "        \"Dataset\": dataset_result[\"Dataset\"],\n",
    "        \"Total Ingestion Time (s)\": dataset_result[\"Total_Ingestion_Time_s\"],\n",
    "        \"Estimated Embedding Size (MB)\": dataset_result[\"Estimated_Embedding_Size_MB\"],\n",
    "        \"Avg Search Latency (ms)\": dataset_result[\"Avg_Search_Latency_ms\"],\n",
    "        \"P90 Search Latency (ms)\": dataset_result[\"P90_Search_Latency_ms\"],\n",
    "        \"P99 Search Latency (ms)\": dataset_result[\"P99_Search_Latency_ms\"]\n",
    "    })\n",
    "\n",
    "operational_df = pd.DataFrame(operational_plot_data)\n",
    "\n",
    "if not operational_df.empty:\n",
    "    plt.figure(figsize=(20, 7))\n",
    "\n",
    "    plt.subplot(1, 3, 1)\n",
    "    sns.barplot(x=\"Dataset\", y=\"Total Ingestion Time (s)\", data=operational_df, palette=\"crest\")\n",
    "    plt.title(\"Total Ingestion Time (Paillier)\", fontsize=14)\n",
    "    plt.ylabel(\"Seconds\", fontsize=10)\n",
    "    plt.xlabel(\"\")\n",
    "\n",
    "    plt.subplot(1, 3, 2)\n",
    "    sns.barplot(x=\"Dataset\", y=\"Estimated Embedding Size (MB)\", data=operational_df, palette=\"mako\")\n",
    "    plt.title(\"Embedding Size (Paillier)\", fontsize=14)\n",
    "    plt.ylabel(\"MB\", fontsize=10)\n",
    "    plt.xlabel(\"\")\n",
    "\n",
    "    plt.subplot(1, 3, 3)\n",
    "    latency_melted_df = operational_df.melt(id_vars=['Dataset'],\n",
    "                                            value_vars=[\"Avg Search Latency (ms)\", \"P90 Search Latency (ms)\", \"P99 Search Latency (ms)\"],\n",
    "                                            var_name=\"Latency Type\", value_name=\"Latency (ms)\")\n",
    "    sns.barplot(x=\"Latency Type\", y=\"Latency (ms)\", hue=\"Dataset\", data=latency_melted_df, palette=\"flare\")\n",
    "    plt.title(\"Query Latency (Paillier)\", fontsize=14)\n",
    "    plt.ylabel(\"ms\", fontsize=10)\n",
    "    plt.xlabel(\"\")\n",
    "    plt.xticks(rotation=20, ha='right')\n",
    "    plt.legend(title=\"Dataset\", loc='best')\n",
    "\n",
    "    plt.tight_layout()\n",
    "    plt.show()\n",
    "else:\n",
    "    print(\"No operational metrics data available for plotting.\")"
   ]
  },
  {
   "cell_type": "code",
   "execution_count": null,
   "metadata": {
    "id": "maDYKxsJZay3"
   },
   "outputs": [],
   "source": []
  }
 ],
 "metadata": {
  "accelerator": "TPU",
  "colab": {
   "gpuType": "V28",
   "include_colab_link": true,
   "provenance": [],
   "toc_visible": true
  },
  "kernelspec": {
   "display_name": "Python 3",
   "name": "python3"
  },
  "language_info": {
   "name": "python"
  }
 },
 "nbformat": 4,
 "nbformat_minor": 0
}
